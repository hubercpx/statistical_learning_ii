{
 "cells": [
  {
   "cell_type": "markdown",
   "id": "3f9e1c91",
   "metadata": {},
   "source": [
    "# Perceptron y MLP"
   ]
  },
  {
   "cell_type": "code",
   "execution_count": 1,
   "id": "482f4dab",
   "metadata": {},
   "outputs": [],
   "source": [
    "import numpy as np\n",
    "import matplotlib.pyplot as plt\n",
    "import pandas as pd"
   ]
  },
  {
   "cell_type": "markdown",
   "id": "5ff9937a",
   "metadata": {},
   "source": [
    "### Calculando la salida de un MLP\n",
    "    - Utilizando Numpy definir una función para calcular la salida de los siguientes modelos \n",
    "    - Dado que cada sub-modelo “detecta” una característica intermedia h(variable latente) determinar  para cada entrada la característica intermedia con mayor presencia.\n"
   ]
  },
  {
   "cell_type": "markdown",
   "id": "5354b022",
   "metadata": {},
   "source": [
    "#### Modelo 1\n",
    "<img src=\"modelo1.png\">"
   ]
  },
  {
   "cell_type": "markdown",
   "id": "87139460",
   "metadata": {},
   "source": [
    "#### Modelo 2\n",
    "<img src=\"modelo2.png\">"
   ]
  },
  {
   "cell_type": "code",
   "execution_count": 2,
   "id": "579e7d3b",
   "metadata": {},
   "outputs": [
    {
     "data": {
      "text/plain": [
       "array([0.26894142, 0.5       , 0.73105858, 0.88079708])"
      ]
     },
     "execution_count": 2,
     "metadata": {},
     "output_type": "execute_result"
    }
   ],
   "source": [
    "def sigmoid(x):\n",
    "    return 1/(1 + np.exp(-x))\n",
    "sigmoid(np.array([-1, 0., 1., 2.]))"
   ]
  },
  {
   "cell_type": "code",
   "execution_count": 3,
   "id": "28b0ffdc",
   "metadata": {},
   "outputs": [],
   "source": [
    "def heaviside(x):\n",
    "    return (x >= 0).astype(np.float)"
   ]
  },
  {
   "cell_type": "code",
   "execution_count": 4,
   "id": "cef0ca6c",
   "metadata": {},
   "outputs": [
    {
     "data": {
      "text/plain": [
       "array([0., 0., 1., 2.])"
      ]
     },
     "execution_count": 4,
     "metadata": {},
     "output_type": "execute_result"
    }
   ],
   "source": [
    "def relu(x):\n",
    "    return np.maximum(0., x)\n",
    "relu(np.array([-1, 0., 1., 2.]))"
   ]
  },
  {
   "cell_type": "code",
   "execution_count": 5,
   "id": "4abb6619",
   "metadata": {},
   "outputs": [
    {
     "name": "stderr",
     "output_type": "stream",
     "text": [
      "C:\\Users\\huber\\AppData\\Local\\Temp\\ipykernel_46028\\1246412851.py:2: DeprecationWarning: `np.float` is a deprecated alias for the builtin `float`. To silence this warning, use `float` by itself. Doing this will not modify any behavior and is safe. If you specifically wanted the numpy scalar type, use `np.float64` here.\n",
      "Deprecated in NumPy 1.20; for more details and guidance: https://numpy.org/devdocs/release/1.20.0-notes.html#deprecations\n",
      "  return (x > 0).astype(np.float)\n"
     ]
    },
    {
     "data": {
      "text/plain": [
       "array([0., 0., 1., 1.])"
      ]
     },
     "execution_count": 5,
     "metadata": {},
     "output_type": "execute_result"
    }
   ],
   "source": [
    "def relu_gradient(x):\n",
    "    return (x > 0).astype(np.float)\n",
    "relu_gradient(np.array([-1, 0., 1., 2.]))"
   ]
  },
  {
   "cell_type": "code",
   "execution_count": 6,
   "id": "a5ea63a8",
   "metadata": {},
   "outputs": [],
   "source": [
    "def linearAct(x):\n",
    "    return x"
   ]
  },
  {
   "cell_type": "code",
   "execution_count": 7,
   "id": "f694847e",
   "metadata": {},
   "outputs": [],
   "source": [
    "def addbias(x):\n",
    "    return np.vstack((np.ones(x.shape[1]), x))"
   ]
  },
  {
   "cell_type": "code",
   "execution_count": 8,
   "id": "496cd4e1",
   "metadata": {},
   "outputs": [],
   "source": [
    "def removeBias(x):\n",
    "    return x[1:, :].reshape(-1, x.shape[1])"
   ]
  },
  {
   "cell_type": "code",
   "execution_count": 9,
   "id": "e674b8c0",
   "metadata": {},
   "outputs": [
    {
     "data": {
      "text/plain": [
       "(array([[0., 0.],\n",
       "        [0., 1.],\n",
       "        [1., 0.],\n",
       "        [1., 1.]]),\n",
       " array([[0.],\n",
       "        [1.],\n",
       "        [1.],\n",
       "        [0.]]))"
      ]
     },
     "execution_count": 9,
     "metadata": {},
     "output_type": "execute_result"
    }
   ],
   "source": [
    "Xtrain = np.array([[0., 0.], [0., 1.], [1., 0.], [1., 1.]])\n",
    "Ytrain = np.array([0., 1., 1., 0.]).reshape(-1, 1)\n",
    "Xtrain, Ytrain"
   ]
  },
  {
   "cell_type": "code",
   "execution_count": 10,
   "id": "88c34577",
   "metadata": {},
   "outputs": [
    {
     "data": {
      "text/plain": [
       "(array([[0., 0., 1., 1.],\n",
       "        [0., 1., 0., 1.]]),\n",
       " array([[0., 1., 1., 0.]]))"
      ]
     },
     "execution_count": 10,
     "metadata": {},
     "output_type": "execute_result"
    }
   ],
   "source": [
    "Xtrain.T, Ytrain.T"
   ]
  },
  {
   "cell_type": "code",
   "execution_count": 11,
   "id": "c93ccc19",
   "metadata": {},
   "outputs": [
    {
     "data": {
      "text/html": [
       "<div>\n",
       "<style scoped>\n",
       "    .dataframe tbody tr th:only-of-type {\n",
       "        vertical-align: middle;\n",
       "    }\n",
       "\n",
       "    .dataframe tbody tr th {\n",
       "        vertical-align: top;\n",
       "    }\n",
       "\n",
       "    .dataframe thead th {\n",
       "        text-align: right;\n",
       "    }\n",
       "</style>\n",
       "<table border=\"1\" class=\"dataframe\">\n",
       "  <thead>\n",
       "    <tr style=\"text-align: right;\">\n",
       "      <th></th>\n",
       "      <th>0</th>\n",
       "      <th>1</th>\n",
       "    </tr>\n",
       "  </thead>\n",
       "  <tbody>\n",
       "    <tr>\n",
       "      <th>0</th>\n",
       "      <td>0.0</td>\n",
       "      <td>0.0</td>\n",
       "    </tr>\n",
       "    <tr>\n",
       "      <th>1</th>\n",
       "      <td>0.0</td>\n",
       "      <td>1.0</td>\n",
       "    </tr>\n",
       "    <tr>\n",
       "      <th>2</th>\n",
       "      <td>1.0</td>\n",
       "      <td>0.0</td>\n",
       "    </tr>\n",
       "    <tr>\n",
       "      <th>3</th>\n",
       "      <td>1.0</td>\n",
       "      <td>1.0</td>\n",
       "    </tr>\n",
       "  </tbody>\n",
       "</table>\n",
       "</div>"
      ],
      "text/plain": [
       "     0    1\n",
       "0  0.0  0.0\n",
       "1  0.0  1.0\n",
       "2  1.0  0.0\n",
       "3  1.0  1.0"
      ]
     },
     "execution_count": 11,
     "metadata": {},
     "output_type": "execute_result"
    }
   ],
   "source": [
    "pd.DataFrame(Xtrain)"
   ]
  },
  {
   "cell_type": "code",
   "execution_count": 12,
   "id": "a4dcd525",
   "metadata": {},
   "outputs": [
    {
     "data": {
      "text/html": [
       "<div>\n",
       "<style scoped>\n",
       "    .dataframe tbody tr th:only-of-type {\n",
       "        vertical-align: middle;\n",
       "    }\n",
       "\n",
       "    .dataframe tbody tr th {\n",
       "        vertical-align: top;\n",
       "    }\n",
       "\n",
       "    .dataframe thead th {\n",
       "        text-align: right;\n",
       "    }\n",
       "</style>\n",
       "<table border=\"1\" class=\"dataframe\">\n",
       "  <thead>\n",
       "    <tr style=\"text-align: right;\">\n",
       "      <th></th>\n",
       "      <th>0</th>\n",
       "    </tr>\n",
       "  </thead>\n",
       "  <tbody>\n",
       "    <tr>\n",
       "      <th>0</th>\n",
       "      <td>0.0</td>\n",
       "    </tr>\n",
       "    <tr>\n",
       "      <th>1</th>\n",
       "      <td>1.0</td>\n",
       "    </tr>\n",
       "    <tr>\n",
       "      <th>2</th>\n",
       "      <td>1.0</td>\n",
       "    </tr>\n",
       "    <tr>\n",
       "      <th>3</th>\n",
       "      <td>0.0</td>\n",
       "    </tr>\n",
       "  </tbody>\n",
       "</table>\n",
       "</div>"
      ],
      "text/plain": [
       "     0\n",
       "0  0.0\n",
       "1  1.0\n",
       "2  1.0\n",
       "3  0.0"
      ]
     },
     "execution_count": 12,
     "metadata": {},
     "output_type": "execute_result"
    }
   ],
   "source": [
    "pd.DataFrame(Ytrain)"
   ]
  },
  {
   "cell_type": "code",
   "execution_count": 13,
   "id": "766782bf",
   "metadata": {},
   "outputs": [],
   "source": [
    "# primera capa oculta\n",
    "k1 = 3\n",
    "theta1 = np.random.normal(scale=0.1, size=(k1, 3))\n",
    "\n",
    "# segunda capa oculta\n",
    "k2 = 2\n",
    "theta2 = np.random.normal(scale=0.1, size=(k2, k1+1))\n",
    "\n",
    "# capa salida\n",
    "theta3 = np.random.normal(scale=0.1, size=(1, 3))"
   ]
  },
  {
   "cell_type": "code",
   "execution_count": 14,
   "id": "d05b685b",
   "metadata": {},
   "outputs": [
    {
     "data": {
      "text/plain": [
       "(array([[0., 0., 1., 1.],\n",
       "        [0., 1., 0., 1.]]),\n",
       " (2, 4))"
      ]
     },
     "execution_count": 14,
     "metadata": {},
     "output_type": "execute_result"
    }
   ],
   "source": [
    "Xtrain.T, Xtrain.T.shape"
   ]
  },
  {
   "cell_type": "code",
   "execution_count": 23,
   "id": "4d958353",
   "metadata": {},
   "outputs": [],
   "source": [
    "def f_propagation(x, theta1, theta2, theta3):\n",
    "    rethidden = False\n",
    "    # capa oculta\n",
    "    z_2 = np.matmul(theta1, addbias(x))\n",
    "    a_2 = relu(z_2)\n",
    "    # capa oculpa\n",
    "    z_3 = np.matmul(theta2, addbias(a_2))\n",
    "    a_3 = relu(z_3)\n",
    "    # capa salida\n",
    "    z_4 = np.matmul(theta3, addbias(a_3))\n",
    "    a_4 = linearAct(z_4)\n",
    "    \n",
    "    if rethidden:\n",
    "        return a_3, a_4\n",
    "    \n",
    "    return a_4"
   ]
  },
  {
   "cell_type": "code",
   "execution_count": 25,
   "id": "f27eb61a",
   "metadata": {},
   "outputs": [
    {
     "data": {
      "text/plain": [
       "array([[0.00416388, 0.00416388, 0.00416388, 0.00416388]])"
      ]
     },
     "execution_count": 25,
     "metadata": {},
     "output_type": "execute_result"
    }
   ],
   "source": [
    "f_propagation(Xtrain.T, theta1, theta2, theta3)"
   ]
  },
  {
   "cell_type": "markdown",
   "id": "99921856",
   "metadata": {},
   "source": [
    "#### Modelo 3\n",
    "<img src=\"modelo3.png\">"
   ]
  },
  {
   "cell_type": "code",
   "execution_count": 28,
   "id": "511f17c1",
   "metadata": {},
   "outputs": [
    {
     "name": "stderr",
     "output_type": "stream",
     "text": [
      "C:\\Users\\huber\\AppData\\Local\\Temp\\ipykernel_46028\\549201006.py:2: DeprecationWarning: `np.float` is a deprecated alias for the builtin `float`. To silence this warning, use `float` by itself. Doing this will not modify any behavior and is safe. If you specifically wanted the numpy scalar type, use `np.float64` here.\n",
      "Deprecated in NumPy 1.20; for more details and guidance: https://numpy.org/devdocs/release/1.20.0-notes.html#deprecations\n",
      "  return (x >= 0).astype(np.float)\n"
     ]
    },
    {
     "data": {
      "text/plain": [
       "(array([[1],\n",
       "        [0]]),\n",
       " array([[ 20.,  20., -10.],\n",
       "        [-20., -20.,  30.]]),\n",
       " array([[10.],\n",
       "        [10.]]),\n",
       " array([[1.],\n",
       "        [1.]]),\n",
       " array([[ 20,  20, -30]]),\n",
       " array([[10.]]),\n",
       " array([[1.]]))"
      ]
     },
     "execution_count": 28,
     "metadata": {},
     "output_type": "execute_result"
    }
   ],
   "source": [
    "def addBias(x):\n",
    "    return np.vstack((x, np.ones(x.shape[1])))\n",
    "\n",
    "x = np.array([1, 0]).reshape(-1, 1)\n",
    "\n",
    "# Pesos capa oculta\n",
    "w1 = np.array([[20., 20., -10.], [-20.,-20., 30.]])\n",
    "\n",
    "# neuronas\n",
    "z1 = np.matmul(w1, addBias(x))\n",
    "\n",
    "# activacion capa oculta\n",
    "h1 = heaviside(z1)\n",
    "\n",
    "# pesos capa de salida\n",
    "w2 = np.array([[20, 20, -30]])\n",
    "\n",
    "# neuronas capa salida\n",
    "z2 = np.matmul(w2, addBias(h1))\n",
    "\n",
    "# activacion capa salida\n",
    "h2 = heaviside(z2)\n",
    "\n",
    "x,w1,z1,h1,w2,z2,h2"
   ]
  },
  {
   "cell_type": "code",
   "execution_count": 35,
   "id": "70de0c53",
   "metadata": {},
   "outputs": [
    {
     "name": "stderr",
     "output_type": "stream",
     "text": [
      "C:\\Users\\huber\\AppData\\Local\\Temp\\ipykernel_46028\\549201006.py:2: DeprecationWarning: `np.float` is a deprecated alias for the builtin `float`. To silence this warning, use `float` by itself. Doing this will not modify any behavior and is safe. If you specifically wanted the numpy scalar type, use `np.float64` here.\n",
      "Deprecated in NumPy 1.20; for more details and guidance: https://numpy.org/devdocs/release/1.20.0-notes.html#deprecations\n",
      "  return (x >= 0).astype(np.float)\n"
     ]
    },
    {
     "data": {
      "text/plain": [
       "array([[0., 1., 1., 0.]])"
      ]
     },
     "execution_count": 35,
     "metadata": {},
     "output_type": "execute_result"
    }
   ],
   "source": [
    "def f_propagation_XOR(x, activation = heaviside, retHidden = False):\n",
    "    \n",
    "\n",
    "    # Pesos capa oculta\n",
    "    w1 = np.array([[20., 20., -10.], [-20.,-20., 30.]])\n",
    "\n",
    "    # neuronas\n",
    "    z1 = np.matmul(w1, addBias(x))\n",
    "\n",
    "    # activacion capa oculta\n",
    "    h1 = heaviside(z1)\n",
    "\n",
    "    # pesos capa de salida\n",
    "    w2 = np.array([[20, 20, -30]])\n",
    "\n",
    "    # neuronas capa salida\n",
    "    z2 = np.matmul(w2, addBias(h1))\n",
    "\n",
    "    y = activation(z2)\n",
    "    if retHidden:\n",
    "        return y, h1\n",
    "    \n",
    "    return y\n",
    "\n",
    "X = np.array([[0,0], [0, 1], [1,0], [1,1]])\n",
    "X = X.T\n",
    "\n",
    "f_propagation_XOR(X)"
   ]
  },
  {
   "cell_type": "code",
   "execution_count": 36,
   "id": "f6787f42",
   "metadata": {},
   "outputs": [
    {
     "name": "stderr",
     "output_type": "stream",
     "text": [
      "C:\\Users\\huber\\AppData\\Local\\Temp\\ipykernel_46028\\549201006.py:2: DeprecationWarning: `np.float` is a deprecated alias for the builtin `float`. To silence this warning, use `float` by itself. Doing this will not modify any behavior and is safe. If you specifically wanted the numpy scalar type, use `np.float64` here.\n",
      "Deprecated in NumPy 1.20; for more details and guidance: https://numpy.org/devdocs/release/1.20.0-notes.html#deprecations\n",
      "  return (x >= 0).astype(np.float)\n"
     ]
    }
   ],
   "source": [
    "_, h = f_propagation_XOR(X, retHidden=True)"
   ]
  },
  {
   "cell_type": "code",
   "execution_count": 37,
   "id": "1e852e03",
   "metadata": {},
   "outputs": [
    {
     "data": {
      "text/plain": [
       "array([[0., 1., 1., 1.],\n",
       "       [1., 1., 1., 0.]])"
      ]
     },
     "execution_count": 37,
     "metadata": {},
     "output_type": "execute_result"
    }
   ],
   "source": [
    "h"
   ]
  },
  {
   "cell_type": "code",
   "execution_count": 55,
   "id": "b3c86358",
   "metadata": {},
   "outputs": [],
   "source": [
    "def graph_neurona(x1, x2, y):\n",
    "    f = np.abs(y - 1) < 0.1\n",
    "    nf = np.logical_not(f)\n",
    "    plt.scatter(x1[f], x2[f], marker = '*', label='1')\n",
    "    plt.scatter(x1[nf], x2[nf], marker = 'o', label='0')\n",
    "    plt.legend()"
   ]
  },
  {
   "cell_type": "code",
   "execution_count": 49,
   "id": "70f28258",
   "metadata": {},
   "outputs": [
    {
     "data": {
      "text/plain": [
       "array([0, 0, 1, 1])"
      ]
     },
     "execution_count": 49,
     "metadata": {},
     "output_type": "execute_result"
    }
   ],
   "source": [
    "x1 = X[0, :]\n",
    "x1"
   ]
  },
  {
   "cell_type": "code",
   "execution_count": 48,
   "id": "c1226622",
   "metadata": {},
   "outputs": [
    {
     "data": {
      "text/plain": [
       "array([0, 1, 0, 1])"
      ]
     },
     "execution_count": 48,
     "metadata": {},
     "output_type": "execute_result"
    }
   ],
   "source": [
    "x2 = X[1, :]\n",
    "x2"
   ]
  },
  {
   "cell_type": "code",
   "execution_count": 47,
   "id": "692cd4be",
   "metadata": {},
   "outputs": [
    {
     "name": "stderr",
     "output_type": "stream",
     "text": [
      "C:\\Users\\huber\\AppData\\Local\\Temp\\ipykernel_46028\\549201006.py:2: DeprecationWarning: `np.float` is a deprecated alias for the builtin `float`. To silence this warning, use `float` by itself. Doing this will not modify any behavior and is safe. If you specifically wanted the numpy scalar type, use `np.float64` here.\n",
      "Deprecated in NumPy 1.20; for more details and guidance: https://numpy.org/devdocs/release/1.20.0-notes.html#deprecations\n",
      "  return (x >= 0).astype(np.float)\n"
     ]
    },
    {
     "data": {
      "text/plain": [
       "array([0., 1., 1., 0.])"
      ]
     },
     "execution_count": 47,
     "metadata": {},
     "output_type": "execute_result"
    }
   ],
   "source": [
    "f_propagation_XOR(X).squeeze()"
   ]
  },
  {
   "cell_type": "code",
   "execution_count": 57,
   "id": "aefad095",
   "metadata": {},
   "outputs": [
    {
     "name": "stderr",
     "output_type": "stream",
     "text": [
      "C:\\Users\\huber\\AppData\\Local\\Temp\\ipykernel_46028\\549201006.py:2: DeprecationWarning: `np.float` is a deprecated alias for the builtin `float`. To silence this warning, use `float` by itself. Doing this will not modify any behavior and is safe. If you specifically wanted the numpy scalar type, use `np.float64` here.\n",
      "Deprecated in NumPy 1.20; for more details and guidance: https://numpy.org/devdocs/release/1.20.0-notes.html#deprecations\n",
      "  return (x >= 0).astype(np.float)\n"
     ]
    },
    {
     "data": {
      "text/plain": [
       "Text(0.5, 1.0, 'back propagation XOR')"
      ]
     },
     "execution_count": 57,
     "metadata": {},
     "output_type": "execute_result"
    },
    {
     "data": {
      "image/png": "[encoded data removed]",
      "text/plain": [
       "<Figure size 1152x288 with 3 Axes>"
      ]
     },
     "metadata": {
      "needs_background": "light"
     },
     "output_type": "display_data"
    }
   ],
   "source": [
    "plt.figure(figsize=(16, 4))\n",
    "plt.subplot(1, 3, 1)\n",
    "graph_neurona(x1, x2, h[0, :])\n",
    "plt.title('H 1')\n",
    "plt.subplot(1, 3, 2)\n",
    "graph_neurona(x1, x2, h[1, :])\n",
    "plt.title('H 2')\n",
    "plt.subplot(1, 3, 3)\n",
    "graph_neurona(x1, x2, f_propagation_XOR(X).squeeze())\n",
    "plt.title('back propagation XOR')"
   ]
  }
 ],
 "metadata": {
  "kernelspec": {
   "display_name": "Python 3 (ipykernel)",
   "language": "python",
   "name": "python3"
  },
  "language_info": {
   "codemirror_mode": {
    "name": "ipython",
    "version": 3
   },
   "file_extension": ".py",
   "mimetype": "text/x-python",
   "name": "python",
   "nbconvert_exporter": "python",
   "pygments_lexer": "ipython3",
   "version": "3.8.8"
  }
 },
 "nbformat": 4,
 "nbformat_minor": 5
}
