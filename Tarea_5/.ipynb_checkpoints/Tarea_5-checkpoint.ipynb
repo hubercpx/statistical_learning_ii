{
 "cells": [
  {
   "cell_type": "markdown",
   "metadata": {
    "id": "sB3OCWenNFlU"
   },
   "source": [
    "# Sentiment Classification From Text & How To \"Frame Problems\" for a Neural Network\n",
    "\n",
    "Material basado(con modificaciones personalizadas) en: \n",
    "Sentiment Classification & How To \"Frame Problems for a Neural Network\" de Udacity\n",
    "* Parte de \"deep learning nanodegree\" de udacity.\n",
    "* Instructor: Andrew Trask"
   ]
  },
  {
   "cell_type": "markdown",
   "metadata": {
    "id": "7SibLmA0NFlV"
   },
   "source": [
    "### What You Should Already Know\n",
    "\n",
    "- neural networks, forward and back-propagation\n",
    "- stochastic gradient descent\n",
    "- loss functions: mean squared error, cross-entropy\n",
    "- and train/test splits\n",
    "\n",
    "### Tutorial Outline:\n",
    "\n",
    "- Intro: The Importance of \"Framing a Problem\" (this lesson)\n",
    "\n",
    "- [Curate a Dataset](#lesson_1)\n",
    "- [Developing a \"Predictive Theory\"](#lesson_2)\n",
    "- [**PROJECT 1**: Quick Theory Validation](#project_1)\n",
    "\n",
    "\n",
    "- [Transforming Text to Numbers](#lesson_3)\n",
    "- [**PROJECT 2**: Creating the Input/Output Data](#project_2)\n",
    "\n",
    "\n",
    "- Putting it all together in a Neural Network (video only - nothing in notebook)\n",
    "- [**PROJECT 3**: Building our Neural Network](#project_3)\n",
    "\n",
    "\n",
    "- [Understanding Neural Noise](#lesson_4)\n",
    "- [**PROJECT 4**: Making Learning Faster by Reducing Noise](#project_4)\n",
    "\n",
    "\n",
    "- [Analyzing Inefficiencies in our Network](#lesson_5)\n",
    "- [**PROJECT 5**: Making our Network Train and Run Faster](#project_5)\n",
    "\n",
    "\n",
    "- [Further Noise Reduction](#lesson_6)\n",
    "- [**PROJECT 6**: Reducing Noise by Strategically Reducing the Vocabulary](#project_6)\n",
    "\n",
    "\n",
    "- [Analysis: What's going on in the weights?](#lesson_7)"
   ]
  },
  {
   "cell_type": "code",
   "execution_count": 1,
   "metadata": {
    "id": "oEaXjYpvO1HV"
   },
   "outputs": [],
   "source": [
    "import base64\n",
    "import requests"
   ]
  },
  {
   "cell_type": "markdown",
   "metadata": {
    "id": "uItygGAhNFlV",
    "nbpresent": {
     "id": "56bb3cba-260c-4ebe-9ed6-b995b4c72aa3"
    }
   },
   "source": [
    "# Lesson: Curate a Dataset<a id='lesson_1'></a>\n"
   ]
  },
  {
   "cell_type": "code",
   "execution_count": 2,
   "metadata": {
    "id": "w2he2Rg9O4Z4"
   },
   "outputs": [],
   "source": [
    "reviews_url = \"https://raw.githubusercontent.com/llealgt/moview_review_sentiment_prediction_neural_network/master/reviews.txt\"\n",
    "req = requests.get(reviews_url)\n",
    "reviews_raw = req.text\n",
    "\n",
    "reviews = reviews_raw.split(\"\\n\")"
   ]
  },
  {
   "cell_type": "code",
   "execution_count": 3,
   "metadata": {
    "id": "npVTvMVEPO1I"
   },
   "outputs": [],
   "source": [
    "labels_url = \"https://raw.githubusercontent.com/llealgt/moview_review_sentiment_prediction_neural_network/master/labels.txt\"\n",
    "req = requests.get(labels_url)\n",
    "labels_raw = req.text.upper()\n",
    "\n",
    "labels = labels_raw.split(\"\\n\")"
   ]
  },
  {
   "cell_type": "code",
   "execution_count": 4,
   "metadata": {
    "id": "5DIjlpq_NFlW",
    "nbpresent": {
     "id": "eba2b193-0419-431e-8db9-60f34dd3fe83"
    }
   },
   "outputs": [],
   "source": [
    "def pretty_print_review_and_label(i):\n",
    "    print(labels[i] + \"\\t:\\t\" + reviews[i][:80] + \"...\")\n"
   ]
  },
  {
   "cell_type": "markdown",
   "metadata": {
    "id": "kkfeJEvBNFlW"
   },
   "source": [
    "**Note:** The data in `reviews.txt` we're using has already been preprocessed a bit and contains only lower case characters. If we were working from raw data, where we didn't know it was all lower case, we would want to add a step here to convert it. That's so we treat different variations of the same word, like `The`, `the`, and `THE`, all the same way."
   ]
  },
  {
   "cell_type": "markdown",
   "metadata": {
    "id": "fZ6jtmoNNFlW"
   },
   "source": [
    "## Get an idea of how the data looks like"
   ]
  },
  {
   "cell_type": "code",
   "execution_count": 5,
   "metadata": {
    "colab": {
     "base_uri": "https://localhost:8080/"
    },
    "executionInfo": {
     "elapsed": 66,
     "status": "ok",
     "timestamp": 1629337035176,
     "user": {
      "displayName": "Luis Fernando Leal Hernandez",
      "photoUrl": "",
      "userId": "08643725771405988586"
     },
     "user_tz": 300
    },
    "id": "cp6S1_D_NFlX",
    "outputId": "580d7712-d056-4078-c68a-b071d037a15e"
   },
   "outputs": [
    {
     "data": {
      "text/plain": [
       "(25001, 25001)"
      ]
     },
     "execution_count": 5,
     "metadata": {},
     "output_type": "execute_result"
    }
   ],
   "source": [
    "len(reviews),len(labels)"
   ]
  },
  {
   "cell_type": "code",
   "execution_count": 6,
   "metadata": {
    "colab": {
     "base_uri": "https://localhost:8080/",
     "height": 120
    },
    "executionInfo": {
     "elapsed": 64,
     "status": "ok",
     "timestamp": 1629337035178,
     "user": {
      "displayName": "Luis Fernando Leal Hernandez",
      "photoUrl": "",
      "userId": "08643725771405988586"
     },
     "user_tz": 300
    },
    "id": "F1cda-zONFlX",
    "nbpresent": {
     "id": "bb95574b-21a0-4213-ae50-34363cf4f87f"
    },
    "outputId": "f690bf1e-8d09-4313-f23e-7dc74b25ead1"
   },
   "outputs": [
    {
     "data": {
      "text/plain": [
       "'bromwell high is a cartoon comedy . it ran at the same time as some other programs about school life  such as  teachers  . my   years in the teaching profession lead me to believe that bromwell high  s satire is much closer to reality than is  teachers  . the scramble to survive financially  the insightful students who can see right through their pathetic teachers  pomp  the pettiness of the whole situation  all remind me of the schools i knew and their students . when i saw the episode in which a student repeatedly tried to burn down the school  i immediately recalled . . . . . . . . . at . . . . . . . . . . high . a classic line inspector i  m here to sack one of your teachers . student welcome to bromwell high . i expect that many adults of my age think that bromwell high is far fetched . what a pity that it isn  t   '"
      ]
     },
     "execution_count": 6,
     "metadata": {},
     "output_type": "execute_result"
    }
   ],
   "source": [
    "reviews[0]"
   ]
  },
  {
   "cell_type": "code",
   "execution_count": 7,
   "metadata": {
    "colab": {
     "base_uri": "https://localhost:8080/",
     "height": 35
    },
    "executionInfo": {
     "elapsed": 69,
     "status": "ok",
     "timestamp": 1629337035191,
     "user": {
      "displayName": "Luis Fernando Leal Hernandez",
      "photoUrl": "",
      "userId": "08643725771405988586"
     },
     "user_tz": 300
    },
    "id": "UXMtBC9iNFlY",
    "nbpresent": {
     "id": "e0408810-c424-4ed4-afb9-1735e9ddbd0a"
    },
    "outputId": "0d5d61fb-96f0-472a-c2f5-5dd8c8e301d4"
   },
   "outputs": [
    {
     "data": {
      "text/plain": [
       "'POSITIVE'"
      ]
     },
     "execution_count": 7,
     "metadata": {},
     "output_type": "execute_result"
    }
   ],
   "source": [
    "labels[0]"
   ]
  },
  {
   "cell_type": "code",
   "execution_count": 8,
   "metadata": {
    "colab": {
     "base_uri": "https://localhost:8080/"
    },
    "executionInfo": {
     "elapsed": 64,
     "status": "ok",
     "timestamp": 1629337035193,
     "user": {
      "displayName": "Luis Fernando Leal Hernandez",
      "photoUrl": "",
      "userId": "08643725771405988586"
     },
     "user_tz": 300
    },
    "id": "m6574X9_NFlc",
    "outputId": "650b072d-b39d-4e2e-ad74-f59cabb4c650"
   },
   "outputs": [
    {
     "name": "stdout",
     "output_type": "stream",
     "text": [
      "POSITIVE\t:\thomelessness  or houselessness as george carlin stated  has been an issue for ye...\n"
     ]
    }
   ],
   "source": [
    "pretty_print_review_and_label(2)"
   ]
  },
  {
   "cell_type": "markdown",
   "metadata": {
    "id": "UX1gPa9jNFlc"
   },
   "source": [
    "# Lesson: Develop a Predictive Theory<a id='lesson_2'></a>"
   ]
  },
  {
   "cell_type": "code",
   "execution_count": 9,
   "metadata": {
    "colab": {
     "base_uri": "https://localhost:8080/"
    },
    "executionInfo": {
     "elapsed": 59,
     "status": "ok",
     "timestamp": 1629337035197,
     "user": {
      "displayName": "Luis Fernando Leal Hernandez",
      "photoUrl": "",
      "userId": "08643725771405988586"
     },
     "user_tz": 300
    },
    "id": "mTBnXd6tNFlc",
    "nbpresent": {
     "id": "e67a709f-234f-4493-bae6-4fb192141ee0"
    },
    "outputId": "1d650836-0079-4e93-eba6-af6e7ec7eba0"
   },
   "outputs": [
    {
     "name": "stdout",
     "output_type": "stream",
     "text": [
      "labels.txt \t : \t reviews.txt\n",
      "\n",
      "NEGATIVE\t:\tthis movie is terrible but it has some good effects .  ...\n",
      "POSITIVE\t:\tadrian pasdar is excellent is this film . he makes a fascinating woman .  ...\n",
      "NEGATIVE\t:\tcomment this movie is impossible . is terrible  very improbable  bad interpretat...\n",
      "POSITIVE\t:\texcellent episode movie ala pulp fiction .  days   suicides . it doesnt get more...\n",
      "NEGATIVE\t:\tif you haven  t seen this  it  s terrible . it is pure trash . i saw this about ...\n",
      "POSITIVE\t:\tthis schiffer guy is a real genius  the movie is of excellent quality and both e...\n"
     ]
    }
   ],
   "source": [
    "print(\"labels.txt \\t : \\t reviews.txt\\n\")\n",
    "pretty_print_review_and_label(2137)\n",
    "pretty_print_review_and_label(12816)\n",
    "pretty_print_review_and_label(6267)\n",
    "pretty_print_review_and_label(21934)\n",
    "pretty_print_review_and_label(5297)\n",
    "pretty_print_review_and_label(4998)"
   ]
  },
  {
   "cell_type": "markdown",
   "metadata": {
    "id": "GqFpWaa0NFld"
   },
   "source": [
    "# Project 1: Quick Theory Validation<a id='project_1'></a>\n",
    "\n",
    "You'll find the [Counter](https://docs.python.org/2/library/collections.html#collections.Counter) class to be useful in this exercise, as well as the [numpy](https://docs.scipy.org/doc/numpy/reference/) library."
   ]
  },
  {
   "cell_type": "code",
   "execution_count": 10,
   "metadata": {
    "id": "Qcw9VsroNFld"
   },
   "outputs": [],
   "source": [
    "from collections import Counter\n",
    "import numpy as np"
   ]
  },
  {
   "cell_type": "markdown",
   "metadata": {
    "id": "vhlWwXKLNFld"
   },
   "source": [
    "We'll create three `Counter` objects, one for words from postive reviews, one for words from negative reviews, and one for all the words."
   ]
  },
  {
   "cell_type": "code",
   "execution_count": 11,
   "metadata": {
    "id": "BUL0R365NFld"
   },
   "outputs": [],
   "source": [
    "# Create three Counter objects to store positive, negative and total counts\n",
    "positive_counts = Counter()\n",
    "negative_counts = Counter()\n",
    "total_counts = Counter()"
   ]
  },
  {
   "cell_type": "markdown",
   "metadata": {
    "id": "0F3ryK7cNFld"
   },
   "source": [
    "**TODO:** Examine all the reviews. For each word in a positive review, increase the count for that word in both your positive counter and the total words counter; likewise, for each word in a negative review, increase the count for that word in both your negative counter and the total words counter.\n",
    "\n",
    "**Note:** Throughout these projects, you should use `split(' ')` to divide a piece of text (such as a review) into individual words. If you use `split()` instead, you'll get slightly different results than what the videos and solutions show."
   ]
  },
  {
   "cell_type": "code",
   "execution_count": 12,
   "metadata": {
    "id": "SIwfeg8hNFle"
   },
   "outputs": [],
   "source": [
    "# TODO: Loop over all the words in all the reviews and increment the counts in the appropriate counter objects\n",
    "for index,label in enumerate(labels):\n",
    "    words = reviews[index].split(' ')\n",
    "    if label == 'POSITIVE':\n",
    "        for word in words:\n",
    "            positive_counts[word]+=1\n",
    "            total_counts[word]+=1\n",
    "    else:\n",
    "        for word in words:\n",
    "            negative_counts[word]+=1\n",
    "            total_counts[word]+=1"
   ]
  },
  {
   "cell_type": "markdown",
   "metadata": {
    "id": "uDBq37rKNFle"
   },
   "source": [
    "Run the following two cells to list the words used in positive reviews and negative reviews, respectively, ordered from most to least commonly used. "
   ]
  },
  {
   "cell_type": "code",
   "execution_count": 13,
   "metadata": {
    "colab": {
     "base_uri": "https://localhost:8080/"
    },
    "executionInfo": {
     "elapsed": 120,
     "status": "ok",
     "timestamp": 1629337040686,
     "user": {
      "displayName": "Luis Fernando Leal Hernandez",
      "photoUrl": "",
      "userId": "08643725771405988586"
     },
     "user_tz": 300
    },
    "id": "YOiLu29hNFle",
    "outputId": "5ab5c699-72b9-446c-feaa-e704603435f0"
   },
   "outputs": [
    {
     "data": {
      "text/plain": [
       "[('', 550468),\n",
       " ('the', 173324),\n",
       " ('.', 159654),\n",
       " ('and', 89722),\n",
       " ('a', 83688),\n",
       " ('of', 76855),\n",
       " ('to', 66746),\n",
       " ('is', 57245),\n",
       " ('in', 50215),\n",
       " ('br', 49235),\n",
       " ('it', 48025),\n",
       " ('i', 40743),\n",
       " ('that', 35630),\n",
       " ('this', 35080),\n",
       " ('s', 33815),\n",
       " ('as', 26308),\n",
       " ('with', 23247),\n",
       " ('for', 22416),\n",
       " ('was', 21917),\n",
       " ('film', 20937),\n",
       " ('but', 20822),\n",
       " ('movie', 19074),\n",
       " ('his', 17227),\n",
       " ('on', 17008),\n",
       " ('you', 16681),\n",
       " ('he', 16282),\n",
       " ('are', 14807),\n",
       " ('not', 14272),\n",
       " ('t', 13720),\n",
       " ('one', 13655),\n",
       " ('have', 12587),\n",
       " ('be', 12416),\n",
       " ('by', 11997),\n",
       " ('all', 11942),\n",
       " ('who', 11464),\n",
       " ('an', 11294),\n",
       " ('at', 11234),\n",
       " ('from', 10767),\n",
       " ('her', 10474),\n",
       " ('they', 9895),\n",
       " ('has', 9186),\n",
       " ('so', 9154),\n",
       " ('like', 9038),\n",
       " ('about', 8313),\n",
       " ('very', 8305),\n",
       " ('out', 8134),\n",
       " ('there', 8057),\n",
       " ('she', 7779),\n",
       " ('what', 7737),\n",
       " ('or', 7732),\n",
       " ('good', 7720),\n",
       " ('more', 7521),\n",
       " ('when', 7456),\n",
       " ('some', 7441),\n",
       " ('if', 7285),\n",
       " ('just', 7152),\n",
       " ('can', 7001),\n",
       " ('story', 6780),\n",
       " ('time', 6515),\n",
       " ('my', 6488),\n",
       " ('great', 6419),\n",
       " ('well', 6405),\n",
       " ('up', 6321),\n",
       " ('which', 6267),\n",
       " ('their', 6107),\n",
       " ('see', 6026),\n",
       " ('also', 5550),\n",
       " ('we', 5531),\n",
       " ('really', 5476),\n",
       " ('would', 5400),\n",
       " ('will', 5218),\n",
       " ('me', 5167),\n",
       " ('had', 5148),\n",
       " ('only', 5137),\n",
       " ('him', 5018),\n",
       " ('even', 4964),\n",
       " ('most', 4864),\n",
       " ('other', 4858),\n",
       " ('were', 4782),\n",
       " ('first', 4755),\n",
       " ('than', 4736),\n",
       " ('much', 4685),\n",
       " ('its', 4622),\n",
       " ('no', 4574),\n",
       " ('into', 4544),\n",
       " ('people', 4479),\n",
       " ('best', 4319),\n",
       " ('love', 4301),\n",
       " ('get', 4272),\n",
       " ('how', 4213),\n",
       " ('life', 4199),\n",
       " ('been', 4189),\n",
       " ('because', 4079),\n",
       " ('way', 4036),\n",
       " ('do', 3941),\n",
       " ('made', 3823),\n",
       " ('films', 3813),\n",
       " ('them', 3805),\n",
       " ('after', 3800),\n",
       " ('many', 3766)]"
      ]
     },
     "execution_count": 13,
     "metadata": {},
     "output_type": "execute_result"
    }
   ],
   "source": [
    "# Examine the counts of the most common words in positive reviews\n",
    "positive_counts.most_common()[:100]"
   ]
  },
  {
   "cell_type": "code",
   "execution_count": 14,
   "metadata": {
    "colab": {
     "base_uri": "https://localhost:8080/"
    },
    "executionInfo": {
     "elapsed": 116,
     "status": "ok",
     "timestamp": 1629337040688,
     "user": {
      "displayName": "Luis Fernando Leal Hernandez",
      "photoUrl": "",
      "userId": "08643725771405988586"
     },
     "user_tz": 300
    },
    "id": "kw0KBQuZNFle",
    "outputId": "b19fdf84-dba5-4754-a139-fa8982a1ecef"
   },
   "outputs": [
    {
     "data": {
      "text/plain": [
       "[('', 561463),\n",
       " ('.', 167538),\n",
       " ('the', 163389),\n",
       " ('a', 79321),\n",
       " ('and', 74385),\n",
       " ('of', 69009),\n",
       " ('to', 68974),\n",
       " ('br', 52637),\n",
       " ('is', 50083),\n",
       " ('it', 48327),\n",
       " ('i', 46880),\n",
       " ('in', 43753),\n",
       " ('this', 40920),\n",
       " ('that', 37615),\n",
       " ('s', 31546),\n",
       " ('was', 26291),\n",
       " ('movie', 24965),\n",
       " ('for', 21927),\n",
       " ('but', 21781),\n",
       " ('with', 20878),\n",
       " ('as', 20625),\n",
       " ('t', 20361),\n",
       " ('film', 19218),\n",
       " ('you', 17549),\n",
       " ('on', 17192),\n",
       " ('not', 16354),\n",
       " ('have', 15144),\n",
       " ('are', 14623),\n",
       " ('be', 14541),\n",
       " ('he', 13856),\n",
       " ('one', 13134),\n",
       " ('they', 13011),\n",
       " ('at', 12279),\n",
       " ('his', 12147),\n",
       " ('all', 12036),\n",
       " ('so', 11463),\n",
       " ('like', 11238),\n",
       " ('there', 10775),\n",
       " ('just', 10619),\n",
       " ('by', 10549),\n",
       " ('or', 10272),\n",
       " ('an', 10266),\n",
       " ('who', 9969),\n",
       " ('from', 9731),\n",
       " ('if', 9518),\n",
       " ('about', 9061),\n",
       " ('out', 8979),\n",
       " ('what', 8422),\n",
       " ('some', 8306),\n",
       " ('no', 8143),\n",
       " ('her', 7947),\n",
       " ('even', 7687),\n",
       " ('can', 7653),\n",
       " ('has', 7604),\n",
       " ('good', 7423),\n",
       " ('bad', 7401),\n",
       " ('would', 7036),\n",
       " ('up', 6970),\n",
       " ('only', 6781),\n",
       " ('more', 6730),\n",
       " ('when', 6726),\n",
       " ('she', 6444),\n",
       " ('really', 6262),\n",
       " ('time', 6209),\n",
       " ('had', 6142),\n",
       " ('my', 6015),\n",
       " ('were', 6001),\n",
       " ('which', 5780),\n",
       " ('very', 5764),\n",
       " ('me', 5606),\n",
       " ('see', 5452),\n",
       " ('don', 5336),\n",
       " ('we', 5328),\n",
       " ('their', 5278),\n",
       " ('do', 5236),\n",
       " ('story', 5208),\n",
       " ('than', 5183),\n",
       " ('been', 5100),\n",
       " ('much', 5078),\n",
       " ('get', 5037),\n",
       " ('because', 4966),\n",
       " ('people', 4806),\n",
       " ('then', 4761),\n",
       " ('make', 4722),\n",
       " ('how', 4688),\n",
       " ('could', 4686),\n",
       " ('any', 4658),\n",
       " ('into', 4567),\n",
       " ('made', 4541),\n",
       " ('first', 4306),\n",
       " ('other', 4305),\n",
       " ('well', 4254),\n",
       " ('too', 4174),\n",
       " ('them', 4165),\n",
       " ('plot', 4154),\n",
       " ('movies', 4080),\n",
       " ('acting', 4056),\n",
       " ('will', 3993),\n",
       " ('way', 3989),\n",
       " ('most', 3919)]"
      ]
     },
     "execution_count": 14,
     "metadata": {},
     "output_type": "execute_result"
    }
   ],
   "source": [
    "# Examine the counts of the most common words in negative reviews\n",
    "negative_counts.most_common()[:100]"
   ]
  },
  {
   "cell_type": "markdown",
   "metadata": {
    "id": "PiLs4EouNFlf"
   },
   "source": [
    "As you can see, common words like \"the\" appear very often in both positive and negative reviews. Instead of finding the most common words in positive or negative reviews, what you really want are the words found in positive reviews more often than in negative reviews, and vice versa. To accomplish this, you'll need to calculate the **ratios** of word usage between positive and negative reviews.\n",
    "\n",
    "**TODO:** Check all the words you've seen and calculate the ratio of postive to negative uses and store that ratio in `pos_neg_ratios`. \n",
    ">Hint: the positive-to-negative ratio for a given word can be calculated with `positive_counts[word] / float(negative_counts[word]+1)`. Notice the `+1` in the denominator – that ensures we don't divide by zero for words that are only seen in positive reviews."
   ]
  },
  {
   "cell_type": "code",
   "execution_count": 15,
   "metadata": {
    "id": "Xv254NaVNFlf"
   },
   "outputs": [],
   "source": [
    "# Create Counter object to store positive/negative ratios\n",
    "pos_neg_ratios = Counter()\n",
    "\n",
    "#  Calculate the ratios of positive and negative uses of the most common words\n",
    "#       Consider words to be \"common\" if they've been used at least 100 times\n",
    "#  If a word is common, calculate its \"positive\" ratio\n",
    "\n",
    "for word,count in total_counts.most_common():\n",
    "    if count >= 100:\n",
    "        positive_count = positive_counts[word]\n",
    "        negative_count = negative_counts[word] +1 #(+1 to avoid division by zero)\n",
    "        \n",
    "        word_positive_ratio = positive_count / negative_count\n",
    "        \n",
    "        pos_neg_ratios[word] = word_positive_ratio"
   ]
  },
  {
   "cell_type": "markdown",
   "metadata": {
    "id": "nC-f0uQGNFlk"
   },
   "source": [
    "Examine the ratios you've calculated for a few words:"
   ]
  },
  {
   "cell_type": "code",
   "execution_count": 16,
   "metadata": {
    "colab": {
     "base_uri": "https://localhost:8080/"
    },
    "executionInfo": {
     "elapsed": 114,
     "status": "ok",
     "timestamp": 1629337040690,
     "user": {
      "displayName": "Luis Fernando Leal Hernandez",
      "photoUrl": "",
      "userId": "08643725771405988586"
     },
     "user_tz": 300
    },
    "id": "SUwgda04NFlk",
    "outputId": "c3328708-85f5-442d-e40b-2f6817de1330"
   },
   "outputs": [
    {
     "name": "stdout",
     "output_type": "stream",
     "text": [
      "Pos-to-neg ratio for 'the' = 1.0607993145235326\n",
      "Pos-to-neg ratio for 'amazing' = 4.022813688212928\n",
      "Pos-to-neg ratio for 'terrible' = 0.17744252873563218\n"
     ]
    }
   ],
   "source": [
    "print(\"Pos-to-neg ratio for 'the' = {}\".format(pos_neg_ratios[\"the\"]))\n",
    "print(\"Pos-to-neg ratio for 'amazing' = {}\".format(pos_neg_ratios[\"amazing\"]))\n",
    "print(\"Pos-to-neg ratio for 'terrible' = {}\".format(pos_neg_ratios[\"terrible\"]))"
   ]
  },
  {
   "cell_type": "markdown",
   "metadata": {
    "id": "Ln-fZ8nsNFll"
   },
   "source": [
    "Looking closely at the values you just calculated, we see the following:\n",
    "\n",
    "* Words that you would expect to see more often in positive reviews – like \"amazing\" – have a ratio greater than 1. The more skewed a word is toward postive, the farther from 1 its positive-to-negative ratio  will be.\n",
    "* Words that you would expect to see more often in negative reviews – like \"terrible\" – have positive values that are less than 1. The more skewed a word is toward negative, the closer to zero its positive-to-negative ratio will be.\n",
    "* Neutral words, which don't really convey any sentiment because you would expect to see them in all sorts of reviews – like \"the\" – have values very close to 1. A perfectly neutral word – one that was used in exactly the same number of positive reviews as negative reviews – would be almost exactly 1. The `+1` we suggested you add to the denominator slightly biases words toward negative, but it won't matter because it will be a tiny bias and later we'll be ignoring words that are too close to neutral anyway.\n",
    "\n",
    "Ok, the ratios tell us which words are used more often in postive or negative reviews, but the specific values we've calculated are a bit difficult to work with. A very positive word like \"amazing\" has a value above 4, whereas a very negative word like \"terrible\" has a value around 0.18. Those values aren't easy to compare for a couple of reasons:\n",
    "\n",
    "* Right now, 1 is considered neutral, but the absolute value of the postive-to-negative rations of very postive words is larger than the absolute value of the ratios for the very negative words. So there is no way to directly compare two numbers and see if one word conveys the same magnitude of positive sentiment as another word conveys negative sentiment. So we should center all the values around netural so the absolute value fro neutral of the postive-to-negative ratio for a word would indicate how much sentiment (positive or negative) that word conveys.\n",
    "* When comparing absolute values it's easier to do that around zero than one. \n",
    "\n",
    "To fix these issues, we'll convert all of our ratios to new values using logarithms.\n",
    "\n",
    "**TODO:** Go through all the ratios you calculated and convert their values using the following formulas:\n",
    "> * For any postive words, convert the ratio using `np.log(ratio)`\n",
    "> * For any negative words, convert the ratio using `-np.log(1/(ratio + 0.01))`\n",
    "\n",
    "That second equation may look strange, but what it's doing is dividing one by a very small number, which will produce a larger positive number. Then, it takes the `log` of that, which produces numbers similar to the ones for the postive words. Finally, we negate the values by adding that minus sign up front. In the end, extremely positive and extremely negative words will have positive-to-negative ratios with similar magnitudes but oppositite signs."
   ]
  },
  {
   "cell_type": "code",
   "execution_count": 17,
   "metadata": {
    "id": "lE8r8wEKNFll"
   },
   "outputs": [],
   "source": [
    "# TODO: Convert ratios to logs\n",
    "# Note to myself: i think for negative words a simple -1 * (ratio)**-1 would do but...\n",
    "\n",
    "for word in pos_neg_ratios:\n",
    "    ratio = pos_neg_ratios[word]\n",
    "    \n",
    "    if ratio > 1:\n",
    "        new_ratio  = np.log(ratio)\n",
    "    else:\n",
    "        new_ratio = -np.log(1/(ratio +0.001))\n",
    "    \n",
    "    pos_neg_ratios[word] = new_ratio"
   ]
  },
  {
   "cell_type": "markdown",
   "metadata": {
    "id": "A0y6-CQtNFll"
   },
   "source": [
    "Examine the new ratios you've calculated for the same words from before:"
   ]
  },
  {
   "cell_type": "code",
   "execution_count": 18,
   "metadata": {
    "colab": {
     "base_uri": "https://localhost:8080/"
    },
    "executionInfo": {
     "elapsed": 105,
     "status": "ok",
     "timestamp": 1629337040691,
     "user": {
      "displayName": "Luis Fernando Leal Hernandez",
      "photoUrl": "",
      "userId": "08643725771405988586"
     },
     "user_tz": 300
    },
    "id": "G9emSd7yNFll",
    "outputId": "f1cf6b5f-eefd-48f6-e3fa-5f21706de835"
   },
   "outputs": [
    {
     "name": "stdout",
     "output_type": "stream",
     "text": [
      "Pos-to-neg ratio for 'the' = 0.05902269426102881\n",
      "Pos-to-neg ratio for 'amazing' = 1.3919815802404802\n",
      "Pos-to-neg ratio for 'terrible' = -1.723488697472832\n"
     ]
    }
   ],
   "source": [
    "print(\"Pos-to-neg ratio for 'the' = {}\".format(pos_neg_ratios[\"the\"]))\n",
    "print(\"Pos-to-neg ratio for 'amazing' = {}\".format(pos_neg_ratios[\"amazing\"]))\n",
    "print(\"Pos-to-neg ratio for 'terrible' = {}\".format(pos_neg_ratios[\"terrible\"]))"
   ]
  },
  {
   "cell_type": "markdown",
   "metadata": {
    "id": "P8qH80MsNFlm"
   },
   "source": [
    "If everything worked, now you should see neutral words with values close to zero. In this case, \"the\" is near zero but slightly positive, so it was probably used in more positive reviews than negative reviews. But look at \"amazing\"'s ratio - it's above `1`, showing it is clearly a word with positive sentiment. And \"terrible\" has a similar score, but in the opposite direction, so it's below `-1`. It's now clear that both of these words are associated with specific, opposing sentiments.\n",
    "\n",
    "Now run the following cells to see more ratios. \n",
    "\n",
    "The first cell displays all the words, ordered by how associated they are with postive reviews. (Your notebook will most likely truncate the output so you won't actually see *all* the words in the list.)\n",
    "\n",
    "The second cell displays the 30 words most associated with negative reviews by reversing the order of the first list and then looking at the first 30 words. (If you want the second cell to display all the words, ordered by how associated they are with negative reviews, you could just write `reversed(pos_neg_ratios.most_common())`.)\n",
    "\n",
    "You should continue to see values similar to the earlier ones we checked – neutral words will be close to `0`, words will get more positive as their ratios approach and go above `1`, and words will get more negative as their ratios approach and go below `-1`. That's why we decided to use the logs instead of the raw ratios."
   ]
  },
  {
   "cell_type": "code",
   "execution_count": 19,
   "metadata": {
    "colab": {
     "base_uri": "https://localhost:8080/"
    },
    "executionInfo": {
     "elapsed": 103,
     "status": "ok",
     "timestamp": 1629337040691,
     "user": {
      "displayName": "Luis Fernando Leal Hernandez",
      "photoUrl": "",
      "userId": "08643725771405988586"
     },
     "user_tz": 300
    },
    "id": "t2S9MH0sNFlm",
    "outputId": "fc3b2464-da7d-4560-cb72-9e3aba21f02c"
   },
   "outputs": [
    {
     "data": {
      "text/plain": [
       "[('edie', 4.6913478822291435),\n",
       " ('paulie', 4.07753744390572),\n",
       " ('felix', 3.152736022363656),\n",
       " ('polanski', 2.8233610476132043),\n",
       " ('matthau', 2.80672172860924),\n",
       " ('victoria', 2.681021528714291),\n",
       " ('mildred', 2.6026896854443837),\n",
       " ('gandhi', 2.538973871058276),\n",
       " ('flawless', 2.451005098112319),\n",
       " ('superbly', 2.26002547857525),\n",
       " ('perfection', 2.159484249353372),\n",
       " ('astaire', 2.1400661634962708),\n",
       " ('captures', 2.038619547159581),\n",
       " ('voight', 2.030170492673053),\n",
       " ('wonderfully', 2.0218960560332353),\n",
       " ('powell', 1.978345424808467),\n",
       " ('brosnan', 1.9547990964725592),\n",
       " ('lily', 1.9203768470501485),\n",
       " ('bakshi', 1.9029851043382795),\n",
       " ('lincoln', 1.9014583864844796),\n",
       " ('refreshing', 1.8551812956655511),\n",
       " ('breathtaking', 1.8481124057791867),\n",
       " ('bourne', 1.8478489358790986),\n",
       " ('lemmon', 1.8458266904983307),\n",
       " ('delightful', 1.8002701588959635),\n",
       " ('flynn', 1.7996646487351682),\n",
       " ('andrews', 1.7764919970972666),\n",
       " ('homer', 1.7692866133759964),\n",
       " ('beautifully', 1.7626953362841438),\n",
       " ('soccer', 1.7578579175523736)]"
      ]
     },
     "execution_count": 19,
     "metadata": {},
     "output_type": "execute_result"
    }
   ],
   "source": [
    "# words most frequently seen in a review with a \"POSITIVE\" label\n",
    "pos_neg_ratios.most_common()[:30]"
   ]
  },
  {
   "cell_type": "code",
   "execution_count": 20,
   "metadata": {
    "colab": {
     "base_uri": "https://localhost:8080/"
    },
    "executionInfo": {
     "elapsed": 102,
     "status": "ok",
     "timestamp": 1629337040692,
     "user": {
      "displayName": "Luis Fernando Leal Hernandez",
      "photoUrl": "",
      "userId": "08643725771405988586"
     },
     "user_tz": 300
    },
    "id": "oiJZVMA7NFlm",
    "outputId": "911a38e2-8d83-423c-bdfb-cb03da0cb5db"
   },
   "outputs": [
    {
     "data": {
      "text/plain": [
       "[('boll', -4.835282406618394),\n",
       " ('uwe', -4.527846102553548),\n",
       " ('seagal', -3.606606956743819),\n",
       " ('unwatchable', -3.232428791272904),\n",
       " ('stinker', -3.1843768086123894),\n",
       " ('mst', -2.931339111817795),\n",
       " ('incoherent', -2.918210222585477),\n",
       " ('unfunny', -2.677582826320177),\n",
       " ('waste', -2.6057506568316997),\n",
       " ('blah', -2.5574420885289504),\n",
       " ('horrid', -2.4729780789227265),\n",
       " ('pointless', -2.443723518768643),\n",
       " ('atrocious', -2.4146593168481547),\n",
       " ('redeeming', -2.3576171050548607),\n",
       " ('prom', -2.35030978724235),\n",
       " ('drivel', -2.33663658094709),\n",
       " ('lousy', -2.2975727999267512),\n",
       " ('worst', -2.2771908066767406),\n",
       " ('laughable', -2.2547849053935245),\n",
       " ('awful', -2.2179631752505466),\n",
       " ('poorly', -2.2115829815780015),\n",
       " ('wasting', -2.1955788734265296),\n",
       " ('remotely', -2.1882648359647474),\n",
       " ('existent', -2.0714733720306593),\n",
       " ('boredom', -1.987774353154012),\n",
       " ('miserably', -1.9851235895077681),\n",
       " ('sucks', -1.9798005773223373),\n",
       " ('uninspired', -1.9760572894714397),\n",
       " ('lame', -1.9745380983043672),\n",
       " ('insult', -1.9711406722511042)]"
      ]
     },
     "execution_count": 20,
     "metadata": {},
     "output_type": "execute_result"
    }
   ],
   "source": [
    "# words most frequently seen in a review with a \"NEGATIVE\" label\n",
    "list(reversed(pos_neg_ratios.most_common()))[0:30]\n",
    "\n",
    "# Note: \n",
    "#       If you explore the documentation for the Counter class, \n",
    "#       you will see you could also find the 30 least common\n",
    "#       words like this: pos_neg_ratios.most_common()[:-31:-1]"
   ]
  },
  {
   "cell_type": "markdown",
   "metadata": {
    "id": "qUZYYi80NFlm"
   },
   "source": [
    "# End of Project 1. \n",
    "\n",
    "\n",
    "# Transforming Text into Numbers<a id='lesson_3'></a>\n"
   ]
  },
  {
   "cell_type": "code",
   "execution_count": 21,
   "metadata": {
    "id": "ZF4SoxLvNFln"
   },
   "outputs": [],
   "source": [
    "from IPython.display import Image\n",
    "\n",
    "review = \"This was a horrible, terrible movie.\"\n",
    "\n",
    "#Image(filename='https://raw.githubusercontent.com/llealgt/moview_review_sentiment_prediction_neural_network/master/sentiment_network.png')"
   ]
  },
  {
   "cell_type": "markdown",
   "metadata": {
    "id": "sS3OmRJwN9Nc"
   },
   "source": [
    "<img src=\"https://raw.githubusercontent.com/llealgt/moview_review_sentiment_prediction_neural_network/master/sentiment_network.png\">"
   ]
  },
  {
   "cell_type": "code",
   "execution_count": 22,
   "metadata": {
    "id": "iyB256jANFln"
   },
   "outputs": [],
   "source": [
    "review = \"The movie was excellent\"\n",
    "\n",
    "#Image(filename='sentiment_network_pos.png')"
   ]
  },
  {
   "cell_type": "markdown",
   "metadata": {
    "id": "JtLNQhPlONy6"
   },
   "source": [
    "<img src=\"https://raw.githubusercontent.com/llealgt/moview_review_sentiment_prediction_neural_network/master/sentiment_network_pos.png\">"
   ]
  },
  {
   "cell_type": "markdown",
   "metadata": {
    "id": "Xt3ymcciNFln"
   },
   "source": [
    "# Project 2: Creating the Input/Output Data<a id='project_2'></a>\n",
    "\n",
    "**TODO:** Create a [set](https://docs.python.org/3/tutorial/datastructures.html#sets) named `vocab` that contains every word in the vocabulary."
   ]
  },
  {
   "cell_type": "code",
   "execution_count": 23,
   "metadata": {
    "id": "lGroGrYBNFln"
   },
   "outputs": [],
   "source": [
    "# TODO: Create set named \"vocab\" containing all of the words from all of the reviews\n",
    "\n",
    "#All the words are already in the total_counts Counter , i dont need to go to every review\n",
    "vocab = set(total_counts.keys())"
   ]
  },
  {
   "cell_type": "markdown",
   "metadata": {
    "id": "KzaGazxZNFln"
   },
   "source": [
    "Run the following cell to check your vocabulary size. If everything worked correctly, it should print **74074**"
   ]
  },
  {
   "cell_type": "code",
   "execution_count": 24,
   "metadata": {
    "colab": {
     "base_uri": "https://localhost:8080/"
    },
    "executionInfo": {
     "elapsed": 102,
     "status": "ok",
     "timestamp": 1629337040696,
     "user": {
      "displayName": "Luis Fernando Leal Hernandez",
      "photoUrl": "",
      "userId": "08643725771405988586"
     },
     "user_tz": 300
    },
    "id": "5whqfNuMNFln",
    "outputId": "bb0f5526-9544-4084-add3-ac0a4869ecd7"
   },
   "outputs": [
    {
     "name": "stdout",
     "output_type": "stream",
     "text": [
      "74074\n"
     ]
    }
   ],
   "source": [
    "vocab_size = len(vocab)\n",
    "print(vocab_size)"
   ]
  },
  {
   "cell_type": "markdown",
   "metadata": {
    "id": "uBMkDTx1NFlo"
   },
   "source": [
    "Take a look at the following image. It represents the layers of the neural network you'll be building throughout this notebook. `layer_0` is the input layer, `layer_1` is a hidden layer, and `layer_2` is the output layer.\n",
    "\n",
    "<img src=\"https://raw.githubusercontent.com/llealgt/moview_review_sentiment_prediction_neural_network/master/sentiment_network_2.png\">"
   ]
  },
  {
   "cell_type": "markdown",
   "metadata": {
    "id": "ybPMnktzNFlo"
   },
   "source": [
    "**TODO:** Create a numpy array called `layer_0` and initialize it to all zeros. You will find the [zeros](https://docs.scipy.org/doc/numpy/reference/generated/numpy.zeros.html) function particularly helpful here. Be sure you create `layer_0` as a 2-dimensional matrix with 1 row and `vocab_size` columns. "
   ]
  },
  {
   "cell_type": "code",
   "execution_count": 25,
   "metadata": {
    "id": "QURuMDBQNFlo"
   },
   "outputs": [],
   "source": [
    "# TODO: Create layer_0 matrix with dimensions 1 by vocab_size, initially filled with zeros\n",
    "layer_0 = np.array(np.zeros((1,vocab_size)))"
   ]
  },
  {
   "cell_type": "markdown",
   "metadata": {
    "id": "iUhJk_BeNFlo"
   },
   "source": [
    "Run the following cell. It should display `(1, 74074)`"
   ]
  },
  {
   "cell_type": "code",
   "execution_count": 26,
   "metadata": {
    "colab": {
     "base_uri": "https://localhost:8080/"
    },
    "executionInfo": {
     "elapsed": 99,
     "status": "ok",
     "timestamp": 1629337040697,
     "user": {
      "displayName": "Luis Fernando Leal Hernandez",
      "photoUrl": "",
      "userId": "08643725771405988586"
     },
     "user_tz": 300
    },
    "id": "sTXnjn-pNFlo",
    "outputId": "0568e1bf-6110-45e2-b618-476bad36358e"
   },
   "outputs": [
    {
     "data": {
      "text/plain": [
       "(1, 74074)"
      ]
     },
     "execution_count": 26,
     "metadata": {},
     "output_type": "execute_result"
    }
   ],
   "source": [
    "layer_0.shape"
   ]
  },
  {
   "cell_type": "markdown",
   "metadata": {
    "id": "R83AqrzMW-8o"
   },
   "source": [
    "<img src=\"https://raw.githubusercontent.com/llealgt/moview_review_sentiment_prediction_neural_network/master/sentiment_network.png\">"
   ]
  },
  {
   "cell_type": "markdown",
   "metadata": {
    "id": "a0klsi-xNFlp"
   },
   "source": [
    "`layer_0` contains one entry for every word in the vocabulary, as shown in the above image. We need to make sure we know the index of each word, so run the following cell to create a lookup table that stores the index of every word."
   ]
  },
  {
   "cell_type": "code",
   "execution_count": 27,
   "metadata": {
    "colab": {
     "base_uri": "https://localhost:8080/"
    },
    "executionInfo": {
     "elapsed": 97,
     "status": "ok",
     "timestamp": 1629337040698,
     "user": {
      "displayName": "Luis Fernando Leal Hernandez",
      "photoUrl": "",
      "userId": "08643725771405988586"
     },
     "user_tz": 300
    },
    "id": "V-hI78bnNFlp",
    "outputId": "009986c9-01c6-454f-fa46-5c2422191573"
   },
   "outputs": [
    {
     "data": {
      "text/plain": [
       "{'': 0,\n",
       " 'devious': 1,\n",
       " 'salvage': 2,\n",
       " 'mimeux': 3,\n",
       " 'strived': 4,\n",
       " 'distortion': 5,\n",
       " 'julissa': 6,\n",
       " 'attending': 7,\n",
       " 'memphis': 8,\n",
       " 'gather': 9,\n",
       " 'gerolmo': 10,\n",
       " 'follet': 11,\n",
       " 'dempster': 12,\n",
       " 'countlessly': 13,\n",
       " 'bestwithout': 14,\n",
       " 'baptises': 15,\n",
       " 'anarchic': 16,\n",
       " 'jule': 17,\n",
       " 'reaganesque': 18,\n",
       " 'loused': 19,\n",
       " 'paradice': 20,\n",
       " 'grgoire': 21,\n",
       " 'decimated': 22,\n",
       " 'kelsey': 23,\n",
       " 'swag': 24,\n",
       " 'snarls': 25,\n",
       " 'goddesses': 26,\n",
       " 'connolly': 27,\n",
       " 'turaquistan': 28,\n",
       " 'teacup': 29,\n",
       " 'negativistic': 30,\n",
       " 'midas': 31,\n",
       " 'effects': 32,\n",
       " 'violante': 33,\n",
       " 'nicmart': 34,\n",
       " 'noose': 35,\n",
       " 'bough': 36,\n",
       " 'bachlor': 37,\n",
       " 'arcam': 38,\n",
       " 'lololol': 39,\n",
       " 'ponto': 40,\n",
       " 'stunts': 41,\n",
       " 'shopgirl': 42,\n",
       " 'odysseia': 43,\n",
       " 'atomspheric': 44,\n",
       " 'tropics': 45,\n",
       " 'rankles': 46,\n",
       " 'millions': 47,\n",
       " 'fogelman': 48,\n",
       " 'things': 49,\n",
       " 'grippingly': 50,\n",
       " 'cellmates': 51,\n",
       " 'taliban': 52,\n",
       " 'remsen': 53,\n",
       " 'trite': 54,\n",
       " 'guietary': 55,\n",
       " 'formally': 56,\n",
       " 'williams': 57,\n",
       " 'stomached': 58,\n",
       " 'abel': 59,\n",
       " 'sociologically': 60,\n",
       " 'pita': 61,\n",
       " 'officially': 62,\n",
       " 'zapping': 63,\n",
       " 'pakage': 64,\n",
       " 'causing': 65,\n",
       " 'bulova': 66,\n",
       " 'entendres': 67,\n",
       " 'perplexes': 68,\n",
       " 'dressler': 69,\n",
       " 'courttv': 70,\n",
       " 'flown': 71,\n",
       " 'reappears': 72,\n",
       " 'bribe': 73,\n",
       " 'antwortet': 74,\n",
       " 'grills': 75,\n",
       " 'vent': 76,\n",
       " 'escarpment': 77,\n",
       " 'pig': 78,\n",
       " 'onboard': 79,\n",
       " 'pazu': 80,\n",
       " 'pussycats': 81,\n",
       " 'yardstick': 82,\n",
       " 'sleigh': 83,\n",
       " 'lakehurst': 84,\n",
       " 'breakout': 85,\n",
       " 'cherishes': 86,\n",
       " 'spacecraft': 87,\n",
       " 'tessari': 88,\n",
       " 'rediscoveries': 89,\n",
       " 'converts': 90,\n",
       " 'dedee': 91,\n",
       " 'finder': 92,\n",
       " 'mourikis': 93,\n",
       " 'sangrou': 94,\n",
       " 'hauling': 95,\n",
       " 'unfun': 96,\n",
       " 'lamarre': 97,\n",
       " 'experimental': 98,\n",
       " 'vulgate': 99,\n",
       " 'knuckler': 100,\n",
       " 'hight': 101,\n",
       " 'gd': 102,\n",
       " 'dcreasy': 103,\n",
       " 'leveraging': 104,\n",
       " 'selina': 105,\n",
       " 'acus': 106,\n",
       " 'codfish': 107,\n",
       " 'aperta': 108,\n",
       " 'octagonal': 109,\n",
       " 'clayburgh': 110,\n",
       " 'laffs': 111,\n",
       " 'bayreuth': 112,\n",
       " 'gildersleeve': 113,\n",
       " 'retained': 114,\n",
       " 'transexual': 115,\n",
       " 'miserly': 116,\n",
       " 'laureen': 117,\n",
       " 'cosette': 118,\n",
       " 'gales': 119,\n",
       " 'sullied': 120,\n",
       " 'carnage': 121,\n",
       " 'flamingos': 122,\n",
       " 'possessions': 123,\n",
       " 'alzheimer': 124,\n",
       " 'freakin': 125,\n",
       " 'parveen': 126,\n",
       " 'bikers': 127,\n",
       " 'forensics': 128,\n",
       " 'thaddeus': 129,\n",
       " 'scwarz': 130,\n",
       " 'oyama': 131,\n",
       " 'prizzi': 132,\n",
       " 'reteamed': 133,\n",
       " 'chopped': 134,\n",
       " 'shudderingly': 135,\n",
       " 'swankiest': 136,\n",
       " 'gentlemens': 137,\n",
       " 'wallaces': 138,\n",
       " 'verdant': 139,\n",
       " 'commemorate': 140,\n",
       " 'learnfrom': 141,\n",
       " 'menopausal': 142,\n",
       " 'ernest': 143,\n",
       " 'lonesome': 144,\n",
       " 'humvee': 145,\n",
       " 'montanas': 146,\n",
       " 'humaine': 147,\n",
       " 'frankau': 148,\n",
       " 'shumlin': 149,\n",
       " 'philadelpia': 150,\n",
       " 'meatier': 151,\n",
       " 'fontana': 152,\n",
       " 'wiz': 153,\n",
       " 'commercializing': 154,\n",
       " 'patronisingly': 155,\n",
       " 'woth': 156,\n",
       " 'idiosyncracies': 157,\n",
       " 'bails': 158,\n",
       " 'kutter': 159,\n",
       " 'adhesive': 160,\n",
       " 'shankar': 161,\n",
       " 'khmer': 162,\n",
       " 'bloodletting': 163,\n",
       " 'durden': 164,\n",
       " 'merideth': 165,\n",
       " 'mathew': 166,\n",
       " 'solett': 167,\n",
       " 'beck': 168,\n",
       " 'tomorrowland': 169,\n",
       " 'headlock': 170,\n",
       " 'noble': 171,\n",
       " 'chinned': 172,\n",
       " 'anachronistically': 173,\n",
       " 'kiss': 174,\n",
       " 'converted': 175,\n",
       " 'instruments': 176,\n",
       " 'ustr': 177,\n",
       " 'whore': 178,\n",
       " 'occaisional': 179,\n",
       " 'regales': 180,\n",
       " 'pablo': 181,\n",
       " 'befouling': 182,\n",
       " 'connel': 183,\n",
       " 'prohibitive': 184,\n",
       " 'modernized': 185,\n",
       " 'reds': 186,\n",
       " 'vandalised': 187,\n",
       " 'traversed': 188,\n",
       " 'enjoythe': 189,\n",
       " 'vanties': 190,\n",
       " 'darkness': 191,\n",
       " 'levieva': 192,\n",
       " 'backroom': 193,\n",
       " 'flog': 194,\n",
       " 'rivault': 195,\n",
       " 'lunchrooms': 196,\n",
       " 'grrrrrrrrrr': 197,\n",
       " 'duplicates': 198,\n",
       " 'tenderness': 199,\n",
       " 'himmelstoss': 200,\n",
       " 'sarcasms': 201,\n",
       " 'englishness': 202,\n",
       " 'commotion': 203,\n",
       " 'skews': 204,\n",
       " 'olympus': 205,\n",
       " 'accelerate': 206,\n",
       " 'posts': 207,\n",
       " 'romanovich': 208,\n",
       " 'swoons': 209,\n",
       " 'banishing': 210,\n",
       " 'zhao': 211,\n",
       " 'christopherson': 212,\n",
       " 'denizens': 213,\n",
       " 'parters': 214,\n",
       " 'cheeseburgers': 215,\n",
       " 'uff': 216,\n",
       " 'ensues': 217,\n",
       " 'kindle': 218,\n",
       " 'peevish': 219,\n",
       " 'interstitials': 220,\n",
       " 'symbiosis': 221,\n",
       " 'sledge': 222,\n",
       " 'rosza': 223,\n",
       " 'marisol': 224,\n",
       " 'romania': 225,\n",
       " 'geopolitical': 226,\n",
       " 'pursuer': 227,\n",
       " 'appeasing': 228,\n",
       " 'reigning': 229,\n",
       " 'applying': 230,\n",
       " 'seemd': 231,\n",
       " 'domestication': 232,\n",
       " 'magnolias': 233,\n",
       " 'remorseful': 234,\n",
       " 'propensities': 235,\n",
       " 'sooner': 236,\n",
       " 'aired': 237,\n",
       " 'goth': 238,\n",
       " 'guerdjou': 239,\n",
       " 'fiorentino': 240,\n",
       " 'innocence': 241,\n",
       " 'ongoingness': 242,\n",
       " 'brims': 243,\n",
       " 'esperanto': 244,\n",
       " 'untenable': 245,\n",
       " 'tajmahal': 246,\n",
       " 'propagandized': 247,\n",
       " 'bechstein': 248,\n",
       " 'terminus': 249,\n",
       " 'icy': 250,\n",
       " 'playschool': 251,\n",
       " 'grief': 252,\n",
       " 'flapping': 253,\n",
       " 'shoes': 254,\n",
       " 'unburied': 255,\n",
       " 'clavius': 256,\n",
       " 'grmpfli': 257,\n",
       " 'slacken': 258,\n",
       " 'cntarea': 259,\n",
       " 'vancamp': 260,\n",
       " 'apodictic': 261,\n",
       " 'russian': 262,\n",
       " 'odd': 263,\n",
       " 'databases': 264,\n",
       " 'surmise': 265,\n",
       " 'ermine': 266,\n",
       " 'judicial': 267,\n",
       " 'oja': 268,\n",
       " 'livin': 269,\n",
       " 'klusak': 270,\n",
       " 'palsey': 271,\n",
       " 'disillusionment': 272,\n",
       " 'barbarism': 273,\n",
       " 'kongwon': 274,\n",
       " 'gimmicky': 275,\n",
       " 'insidiously': 276,\n",
       " 'seventeenth': 277,\n",
       " 'corporatization': 278,\n",
       " 'nudity': 279,\n",
       " 'guested': 280,\n",
       " 'mixers': 281,\n",
       " 'smears': 282,\n",
       " 'ballantrae': 283,\n",
       " 'starts': 284,\n",
       " 'apps': 285,\n",
       " 'raducanu': 286,\n",
       " 'baaad': 287,\n",
       " 'icg': 288,\n",
       " 'srebrenica': 289,\n",
       " 'bury': 290,\n",
       " 'ayres': 291,\n",
       " 'glowed': 292,\n",
       " 'samoan': 293,\n",
       " 'snicket': 294,\n",
       " 'horus': 295,\n",
       " 'missolonghi': 296,\n",
       " 'gesturing': 297,\n",
       " 'brandauer': 298,\n",
       " 'vilification': 299,\n",
       " 'pacman': 300,\n",
       " 'pimpin': 301,\n",
       " 'fairview': 302,\n",
       " 'cinemax': 303,\n",
       " 'wessel': 304,\n",
       " 'coursing': 305,\n",
       " 'toretton': 306,\n",
       " 'tudo': 307,\n",
       " 'untraditional': 308,\n",
       " 'secure': 309,\n",
       " 'dunsky': 310,\n",
       " 'sneaky': 311,\n",
       " 'trainspotter': 312,\n",
       " 'classicks': 313,\n",
       " 'rageddy': 314,\n",
       " 'hall': 315,\n",
       " 'ilenia': 316,\n",
       " 'teordoro': 317,\n",
       " 'unpublished': 318,\n",
       " 'insert': 319,\n",
       " 'vertiginous': 320,\n",
       " 'wimsey': 321,\n",
       " 'assortment': 322,\n",
       " 'tribe': 323,\n",
       " 'symbolized': 324,\n",
       " 'thtdb': 325,\n",
       " 'clenches': 326,\n",
       " 'pocasni': 327,\n",
       " 'ahahahahahhahahahahahahahahahhahahahahahahah': 328,\n",
       " 'banned': 329,\n",
       " 'momsem': 330,\n",
       " 'rutger': 331,\n",
       " 'uhura': 332,\n",
       " 'benward': 333,\n",
       " 'feathered': 334,\n",
       " 'poupon': 335,\n",
       " 'daylight': 336,\n",
       " 'linenone': 337,\n",
       " 'sjoman': 338,\n",
       " 'analise': 339,\n",
       " 'kratina': 340,\n",
       " 'transcend': 341,\n",
       " 'diff': 342,\n",
       " 'transforms': 343,\n",
       " 'suplexes': 344,\n",
       " 'enact': 345,\n",
       " 'authors': 346,\n",
       " 'portuguese': 347,\n",
       " 'venturing': 348,\n",
       " 'outlines': 349,\n",
       " 'wedged': 350,\n",
       " 'segall': 351,\n",
       " 'diluting': 352,\n",
       " 'romancing': 353,\n",
       " 'shaq': 354,\n",
       " 'satanist': 355,\n",
       " 'bakovic': 356,\n",
       " 'profs': 357,\n",
       " 'exiter': 358,\n",
       " 'woefully': 359,\n",
       " 'kln': 360,\n",
       " 'proposed': 361,\n",
       " 'raves': 362,\n",
       " 'schorr': 363,\n",
       " 'trenchcoat': 364,\n",
       " 'sawyer': 365,\n",
       " 'jelaousy': 366,\n",
       " 'panther': 367,\n",
       " 'divorced': 368,\n",
       " 'platt': 369,\n",
       " 'bunce': 370,\n",
       " 'buffay': 371,\n",
       " 'outbreaks': 372,\n",
       " 'gammon': 373,\n",
       " 'bridegroom': 374,\n",
       " 'coen': 375,\n",
       " 'ballard': 376,\n",
       " 'constellation': 377,\n",
       " 'deportivo': 378,\n",
       " 'lowered': 379,\n",
       " 'gretel': 380,\n",
       " 'gilroy': 381,\n",
       " 'hammock': 382,\n",
       " 'blooms': 383,\n",
       " 'reimbursed': 384,\n",
       " 'bergmans': 385,\n",
       " 'johnnymacbest': 386,\n",
       " 'serges': 387,\n",
       " 'homelessness': 388,\n",
       " 'condemn': 389,\n",
       " 'silhouettes': 390,\n",
       " 'lovingly': 391,\n",
       " 'ayer': 392,\n",
       " 'outsized': 393,\n",
       " 'shits': 394,\n",
       " 'sternum': 395,\n",
       " 'unedited': 396,\n",
       " 'promisingly': 397,\n",
       " 'hog': 398,\n",
       " 'pummeling': 399,\n",
       " 'ivay': 400,\n",
       " 'contender': 401,\n",
       " 'rosamunde': 402,\n",
       " 'preeners': 403,\n",
       " 'shockumenary': 404,\n",
       " 'disavow': 405,\n",
       " 'gung': 406,\n",
       " 'booked': 407,\n",
       " 'hightower': 408,\n",
       " 'wertmueller': 409,\n",
       " 'domicile': 410,\n",
       " 'galloping': 411,\n",
       " 'courtyard': 412,\n",
       " 'matron': 413,\n",
       " 'marverick': 414,\n",
       " 'cattlemen': 415,\n",
       " 'spectator': 416,\n",
       " 'zodsworth': 417,\n",
       " 'uld': 418,\n",
       " 'hammerhead': 419,\n",
       " 'stuccoed': 420,\n",
       " 'conversions': 421,\n",
       " 'expatiate': 422,\n",
       " 'expected': 423,\n",
       " 'palazzo': 424,\n",
       " 'piraters': 425,\n",
       " 'trafficker': 426,\n",
       " 'emeric': 427,\n",
       " 'barger': 428,\n",
       " 'singh': 429,\n",
       " 'experimentalism': 430,\n",
       " 'lisa': 431,\n",
       " 'waited': 432,\n",
       " 'immerses': 433,\n",
       " 'della': 434,\n",
       " 'plans': 435,\n",
       " 'zappa': 436,\n",
       " 'warners': 437,\n",
       " 'ramotswe': 438,\n",
       " 'assess': 439,\n",
       " 'slav': 440,\n",
       " 'sneaks': 441,\n",
       " 'raschid': 442,\n",
       " 'riverboat': 443,\n",
       " 'radley': 444,\n",
       " 'theatrical': 445,\n",
       " 'downtrodden': 446,\n",
       " 'maoist': 447,\n",
       " 'sheesy': 448,\n",
       " 'evade': 449,\n",
       " 'unbelivebly': 450,\n",
       " 'vaudevillesque': 451,\n",
       " 'pathologically': 452,\n",
       " 'chesticles': 453,\n",
       " 'kamisori': 454,\n",
       " 'watchings': 455,\n",
       " 'spewing': 456,\n",
       " 'untrained': 457,\n",
       " 'nightfire': 458,\n",
       " 'lightweight': 459,\n",
       " 'nativetex': 460,\n",
       " 'endeven': 461,\n",
       " 'spartacus': 462,\n",
       " 'paydirt': 463,\n",
       " 'karnak': 464,\n",
       " 'monaghan': 465,\n",
       " 'alluded': 466,\n",
       " 'weil': 467,\n",
       " 'ostentatious': 468,\n",
       " 'personal': 469,\n",
       " 'yashpal': 470,\n",
       " 'ranked': 471,\n",
       " 'wrenchmuller': 472,\n",
       " 'rigomortis': 473,\n",
       " 'darkangel': 474,\n",
       " 'upgraded': 475,\n",
       " 'tredje': 476,\n",
       " 'cluemaster': 477,\n",
       " 'splintering': 478,\n",
       " 'mchattie': 479,\n",
       " 'ores': 480,\n",
       " 'atchison': 481,\n",
       " 'militarist': 482,\n",
       " 'ascent': 483,\n",
       " 'grandmothers': 484,\n",
       " 'joseiturbi': 485,\n",
       " 'bosnians': 486,\n",
       " 'louque': 487,\n",
       " 'esperanza': 488,\n",
       " 'fujiko': 489,\n",
       " 'strategies': 490,\n",
       " 'bats': 491,\n",
       " 'overlaid': 492,\n",
       " 'groundbraking': 493,\n",
       " 'narcolepsy': 494,\n",
       " 'rossitto': 495,\n",
       " 'situationally': 496,\n",
       " 'comtemporary': 497,\n",
       " 'chirps': 498,\n",
       " 'villasenor': 499,\n",
       " 'am': 500,\n",
       " 'genre': 501,\n",
       " 'deary': 502,\n",
       " 'moneyfamefashion': 503,\n",
       " 'leviticus': 504,\n",
       " 'flakes': 505,\n",
       " 'schooner': 506,\n",
       " 'altaira': 507,\n",
       " 'honorable': 508,\n",
       " 'circle': 509,\n",
       " 'condoli': 510,\n",
       " 'ultimately': 511,\n",
       " 'procrastinating': 512,\n",
       " 'ingram': 513,\n",
       " 'distort': 514,\n",
       " 'kits': 515,\n",
       " 'intricacies': 516,\n",
       " 'squirm': 517,\n",
       " 'disabling': 518,\n",
       " 'segals': 519,\n",
       " 'magobei': 520,\n",
       " 'befallen': 521,\n",
       " 'manufacturer': 522,\n",
       " 'radioactivity': 523,\n",
       " 'megalomaniacal': 524,\n",
       " 'idioms': 525,\n",
       " 'reissue': 526,\n",
       " 'droplet': 527,\n",
       " 'iranians': 528,\n",
       " 'scarry': 529,\n",
       " 'earshot': 530,\n",
       " 'nunez': 531,\n",
       " 'whatsername': 532,\n",
       " 'cadena': 533,\n",
       " 'spinozean': 534,\n",
       " 'elas': 535,\n",
       " 'frack': 536,\n",
       " 'rif': 537,\n",
       " 'bendan': 538,\n",
       " 'adhere': 539,\n",
       " 'mcdonnell': 540,\n",
       " 'terminal': 541,\n",
       " 'fainting': 542,\n",
       " 'liquefying': 543,\n",
       " 'terrestial': 544,\n",
       " 'escapees': 545,\n",
       " 'paternally': 546,\n",
       " 'sedation': 547,\n",
       " 'dancingscene': 548,\n",
       " 'whether': 549,\n",
       " 'greg': 550,\n",
       " 'nearer': 551,\n",
       " 'ministro': 552,\n",
       " 'henrikson': 553,\n",
       " 'lowball': 554,\n",
       " 'spaz': 555,\n",
       " 'saddos': 556,\n",
       " 'collums': 557,\n",
       " 'bodysnatchers': 558,\n",
       " 'dispised': 559,\n",
       " 'konkona': 560,\n",
       " 'fended': 561,\n",
       " 'kartiff': 562,\n",
       " 'rochfort': 563,\n",
       " 'selectivity': 564,\n",
       " 'nihlan': 565,\n",
       " 'parisienne': 566,\n",
       " 'sipple': 567,\n",
       " 'redemptive': 568,\n",
       " 'clamour': 569,\n",
       " 'joslyn': 570,\n",
       " 'thoughts': 571,\n",
       " 'pressing': 572,\n",
       " 'hirschbiegel': 573,\n",
       " 'sweetish': 574,\n",
       " 'certificate': 575,\n",
       " 'designate': 576,\n",
       " 'mutate': 577,\n",
       " 'abduct': 578,\n",
       " 'uncommunicative': 579,\n",
       " 'rulers': 580,\n",
       " 'stanley': 581,\n",
       " 'downgraded': 582,\n",
       " 'citroen': 583,\n",
       " 'pylon': 584,\n",
       " 'chlorians': 585,\n",
       " 'abortive': 586,\n",
       " 'players': 587,\n",
       " 'esra': 588,\n",
       " 'imamura': 589,\n",
       " 'public': 590,\n",
       " 'standardized': 591,\n",
       " 'testaverdi': 592,\n",
       " 'akelly': 593,\n",
       " 'lenya': 594,\n",
       " 'realisations': 595,\n",
       " 'virginal': 596,\n",
       " 'ascots': 597,\n",
       " 'confusinghalperin': 598,\n",
       " 'dundee': 599,\n",
       " 'plunk': 600,\n",
       " 'malaria': 601,\n",
       " 'ingesting': 602,\n",
       " 'camembert': 603,\n",
       " 'kindness': 604,\n",
       " 'graphically': 605,\n",
       " 'gallo': 606,\n",
       " 'successfully': 607,\n",
       " 'critique': 608,\n",
       " 'worsens': 609,\n",
       " 'transferring': 610,\n",
       " 'galecki': 611,\n",
       " 'indomitable': 612,\n",
       " 'quotidian': 613,\n",
       " 'tj': 614,\n",
       " 'starchaser': 615,\n",
       " 'repeatedly': 616,\n",
       " 'cute': 617,\n",
       " 'wahala': 618,\n",
       " 'speedo': 619,\n",
       " 'sovie': 620,\n",
       " 'burrough': 621,\n",
       " 'deflates': 622,\n",
       " 'nerdier': 623,\n",
       " 'hino': 624,\n",
       " 'pittance': 625,\n",
       " 'liaison': 626,\n",
       " 'shahrukhed': 627,\n",
       " 'hunks': 628,\n",
       " 'tribeca': 629,\n",
       " 'authenticating': 630,\n",
       " 'pou': 631,\n",
       " 'traveled': 632,\n",
       " 'bagged': 633,\n",
       " 'bakers': 634,\n",
       " 'leporids': 635,\n",
       " 'lapdog': 636,\n",
       " 'farscape': 637,\n",
       " 'matthau': 638,\n",
       " 'revisit': 639,\n",
       " 'blow': 640,\n",
       " 'pidras': 641,\n",
       " 'thru': 642,\n",
       " 'fawn': 643,\n",
       " 'worked': 644,\n",
       " 'weightso': 645,\n",
       " 'pungency': 646,\n",
       " 'henry': 647,\n",
       " 'polynesians': 648,\n",
       " 'periscope': 649,\n",
       " 'intermission': 650,\n",
       " 'noli': 651,\n",
       " 'dishes': 652,\n",
       " 'lily': 653,\n",
       " 'visayan': 654,\n",
       " 'castelnuovo': 655,\n",
       " 'independancd': 656,\n",
       " 'ezra': 657,\n",
       " 'impartial': 658,\n",
       " 'druggy': 659,\n",
       " 'louvers': 660,\n",
       " 'unrealized': 661,\n",
       " 'antagonizing': 662,\n",
       " 'actress': 663,\n",
       " 'voil': 664,\n",
       " 'circuses': 665,\n",
       " 'chertkov': 666,\n",
       " 'defuns': 667,\n",
       " 'suarez': 668,\n",
       " 'forbrydelsens': 669,\n",
       " 'londoners': 670,\n",
       " 'darkhunters': 671,\n",
       " 'inflexed': 672,\n",
       " 'happily': 673,\n",
       " 'leggy': 674,\n",
       " 'pushover': 675,\n",
       " 'incapacitates': 676,\n",
       " 'glitterati': 677,\n",
       " 'colonisation': 678,\n",
       " 'punkris': 679,\n",
       " 'jacquouille': 680,\n",
       " 'allnut': 681,\n",
       " 'declare': 682,\n",
       " 'classics': 683,\n",
       " 'bookstore': 684,\n",
       " 'nighteyes': 685,\n",
       " 'sependipity': 686,\n",
       " 'kinmont': 687,\n",
       " 'hartford': 688,\n",
       " 'stampede': 689,\n",
       " 'nietsche': 690,\n",
       " 'pardu': 691,\n",
       " 'behind': 692,\n",
       " 'nanny': 693,\n",
       " 'argyll': 694,\n",
       " 'pixelated': 695,\n",
       " 'bananaman': 696,\n",
       " 'weirdo': 697,\n",
       " 'directv': 698,\n",
       " 'kumar': 699,\n",
       " 'breda': 700,\n",
       " 'pills': 701,\n",
       " 'movieclips': 702,\n",
       " 'knighthoods': 703,\n",
       " 'skinnydipping': 704,\n",
       " 'harrold': 705,\n",
       " 'poignant': 706,\n",
       " 'sung': 707,\n",
       " 'crackd': 708,\n",
       " 'idiots': 709,\n",
       " 'beverages': 710,\n",
       " 'hiding': 711,\n",
       " 'raton': 712,\n",
       " 'choicest': 713,\n",
       " 'oreo': 714,\n",
       " 'wholes': 715,\n",
       " 'surrender': 716,\n",
       " 'sopping': 717,\n",
       " 'alexa': 718,\n",
       " 'yilmaz': 719,\n",
       " 'motors': 720,\n",
       " 'batman': 721,\n",
       " 'stormcatcher': 722,\n",
       " 'kramp': 723,\n",
       " 'grafted': 724,\n",
       " 'pukes': 725,\n",
       " 'aankhen': 726,\n",
       " 'shater': 727,\n",
       " 'stenographer': 728,\n",
       " 'haan': 729,\n",
       " 'complains': 730,\n",
       " 'brunell': 731,\n",
       " 'lu': 732,\n",
       " 'watcing': 733,\n",
       " 'noche': 734,\n",
       " 'resmblance': 735,\n",
       " 'akerston': 736,\n",
       " 'immaturity': 737,\n",
       " 'jumpedtheshark': 738,\n",
       " 'poochie': 739,\n",
       " 'sembello': 740,\n",
       " 'flies': 741,\n",
       " 'spidey': 742,\n",
       " 'lister': 743,\n",
       " 'maxx': 744,\n",
       " 'renounce': 745,\n",
       " 'mirth': 746,\n",
       " 'knowledge': 747,\n",
       " 'herding': 748,\n",
       " 'bloodiest': 749,\n",
       " 'celina': 750,\n",
       " 'pumps': 751,\n",
       " 'exceedingly': 752,\n",
       " 'subpoena': 753,\n",
       " 'aggressively': 754,\n",
       " 'akshey': 755,\n",
       " 'deductments': 756,\n",
       " 'vaut': 757,\n",
       " 'froze': 758,\n",
       " 'robotronic': 759,\n",
       " 'cameroon': 760,\n",
       " 'confrontational': 761,\n",
       " 'forties': 762,\n",
       " 'interrelationship': 763,\n",
       " 'capering': 764,\n",
       " 'ritika': 765,\n",
       " 'bapu': 766,\n",
       " 'shit': 767,\n",
       " 'headlining': 768,\n",
       " 'gruver': 769,\n",
       " 'archangel': 770,\n",
       " 'naffness': 771,\n",
       " 'fooling': 772,\n",
       " 'hung': 773,\n",
       " 'wrongs': 774,\n",
       " 'utilizing': 775,\n",
       " 'paralyze': 776,\n",
       " 'gibbler': 777,\n",
       " 'coitus': 778,\n",
       " 'chumps': 779,\n",
       " 'poem': 780,\n",
       " 'hearby': 781,\n",
       " 'polt': 782,\n",
       " 'virgina': 783,\n",
       " 'custody': 784,\n",
       " 'mothballs': 785,\n",
       " 'sermons': 786,\n",
       " 'dosen': 787,\n",
       " 'spate': 788,\n",
       " 'patroni': 789,\n",
       " 'drastic': 790,\n",
       " 'vindictiveness': 791,\n",
       " 'anonymous': 792,\n",
       " 'pas': 793,\n",
       " 'northam': 794,\n",
       " 'comfy': 795,\n",
       " 'sharpest': 796,\n",
       " 'yuoki': 797,\n",
       " 'bilal': 798,\n",
       " 'boldt': 799,\n",
       " 'reversals': 800,\n",
       " 'articles': 801,\n",
       " 'titter': 802,\n",
       " 'titledunsolved': 803,\n",
       " 'catwomanly': 804,\n",
       " 'viscontis': 805,\n",
       " 'costumer': 806,\n",
       " 'dini': 807,\n",
       " 'uncluttered': 808,\n",
       " 'gwangwa': 809,\n",
       " 'indefinite': 810,\n",
       " 'reputedly': 811,\n",
       " 'bubbas': 812,\n",
       " 'disrobes': 813,\n",
       " 'woorter': 814,\n",
       " 'talented': 815,\n",
       " 'striptease': 816,\n",
       " 'maidens': 817,\n",
       " 'prochnow': 818,\n",
       " 'mehmet': 819,\n",
       " 'informative': 820,\n",
       " 'sweated': 821,\n",
       " 'potemkin': 822,\n",
       " 'custom': 823,\n",
       " 'spectacle': 824,\n",
       " 'unused': 825,\n",
       " 'godparents': 826,\n",
       " 'placing': 827,\n",
       " 'vertes': 828,\n",
       " 'abromowitz': 829,\n",
       " 'cocking': 830,\n",
       " 'iliad': 831,\n",
       " 'daughters': 832,\n",
       " 'parodies': 833,\n",
       " 'condors': 834,\n",
       " 'alegria': 835,\n",
       " 'congorilla': 836,\n",
       " 'impeded': 837,\n",
       " 'mongoloids': 838,\n",
       " 'shied': 839,\n",
       " 'felecia': 840,\n",
       " 'salingeristic': 841,\n",
       " 'spotlighted': 842,\n",
       " 'extinct': 843,\n",
       " 'whines': 844,\n",
       " 'rafts': 845,\n",
       " 'booie': 846,\n",
       " 'pastoral': 847,\n",
       " 'bohem': 848,\n",
       " 'eleanore': 849,\n",
       " 'pequin': 850,\n",
       " 'emmys': 851,\n",
       " 'daviau': 852,\n",
       " 'canada': 853,\n",
       " 'logothethis': 854,\n",
       " 'thevillagevideot': 855,\n",
       " 'bread': 856,\n",
       " 'picks': 857,\n",
       " 'form': 858,\n",
       " 'shirts': 859,\n",
       " 'afford': 860,\n",
       " 'koechner': 861,\n",
       " 'olympian': 862,\n",
       " 'pricked': 863,\n",
       " 'eravamo': 864,\n",
       " 'caper': 865,\n",
       " 'ventriloquist': 866,\n",
       " 'freya': 867,\n",
       " 'arrrgghhh': 868,\n",
       " 'icier': 869,\n",
       " 'encounters': 870,\n",
       " 'extrication': 871,\n",
       " 'dexter': 872,\n",
       " 'bartleby': 873,\n",
       " 'defined': 874,\n",
       " 'rima': 875,\n",
       " 'mihaela': 876,\n",
       " 'aloneness': 877,\n",
       " 'exultation': 878,\n",
       " 'trilogy': 879,\n",
       " 'mysterio': 880,\n",
       " 'cartooning': 881,\n",
       " 'waltzers': 882,\n",
       " 'germann': 883,\n",
       " 'finley': 884,\n",
       " 'memento': 885,\n",
       " 'leone': 886,\n",
       " 'derriere': 887,\n",
       " 'folis': 888,\n",
       " 'junta': 889,\n",
       " 'chainsmoking': 890,\n",
       " 'moor': 891,\n",
       " 'toshiro': 892,\n",
       " 'mishin': 893,\n",
       " 'jogando': 894,\n",
       " 'slaughtering': 895,\n",
       " 'mabel': 896,\n",
       " 'rogers': 897,\n",
       " 'turandot': 898,\n",
       " 'vacanta': 899,\n",
       " 'choreographs': 900,\n",
       " 'dampening': 901,\n",
       " 'byron': 902,\n",
       " 'francessca': 903,\n",
       " 'yimou': 904,\n",
       " 'kotch': 905,\n",
       " 'mickeythe': 906,\n",
       " 'sympathize': 907,\n",
       " 'sanjay': 908,\n",
       " 'petey': 909,\n",
       " 'eton': 910,\n",
       " 'holiman': 911,\n",
       " 'trying': 912,\n",
       " 'airial': 913,\n",
       " 'nemesis': 914,\n",
       " 'rhinestones': 915,\n",
       " 'emmerdale': 916,\n",
       " 'potions': 917,\n",
       " 'okul': 918,\n",
       " 'deceased': 919,\n",
       " 'humpbacks': 920,\n",
       " 'pieczanski': 921,\n",
       " 'destructively': 922,\n",
       " 'litreture': 923,\n",
       " 'debi': 924,\n",
       " 'breadth': 925,\n",
       " 'toughed': 926,\n",
       " 'grimness': 927,\n",
       " 'discerning': 928,\n",
       " 'float': 929,\n",
       " 'isolative': 930,\n",
       " 'lasser': 931,\n",
       " 'sloppy': 932,\n",
       " 'roddenberry': 933,\n",
       " 'puertorricans': 934,\n",
       " 'gregson': 935,\n",
       " 'needing': 936,\n",
       " 'alissia': 937,\n",
       " 'kindegarden': 938,\n",
       " 'thema': 939,\n",
       " 'techniques': 940,\n",
       " 'spanglish': 941,\n",
       " 'prussic': 942,\n",
       " 'edmunds': 943,\n",
       " 'labours': 944,\n",
       " 'twirling': 945,\n",
       " 'sayer': 946,\n",
       " 'mooradian': 947,\n",
       " 'pedtrchenko': 948,\n",
       " 'lovelace': 949,\n",
       " 'ixpe': 950,\n",
       " 'awash': 951,\n",
       " 'manna': 952,\n",
       " 'castro': 953,\n",
       " 'stammer': 954,\n",
       " 'skimmed': 955,\n",
       " 'komomo': 956,\n",
       " 'sampled': 957,\n",
       " 'lavishly': 958,\n",
       " 'searchers': 959,\n",
       " 'vapoorize': 960,\n",
       " 'rajni': 961,\n",
       " 'squinting': 962,\n",
       " 'imtiaz': 963,\n",
       " 'draaaaaags': 964,\n",
       " 'racked': 965,\n",
       " 'supernova': 966,\n",
       " 'havoc': 967,\n",
       " 'foisting': 968,\n",
       " 'disowning': 969,\n",
       " 'creely': 970,\n",
       " 'bullion': 971,\n",
       " 'toppling': 972,\n",
       " 'mingles': 973,\n",
       " 'mandatory': 974,\n",
       " 'dramatize': 975,\n",
       " 'quentessential': 976,\n",
       " 'climb': 977,\n",
       " 'borel': 978,\n",
       " 'centerline': 979,\n",
       " 'shepis': 980,\n",
       " 'repackage': 981,\n",
       " 'torn': 982,\n",
       " 'faucet': 983,\n",
       " 'langa': 984,\n",
       " 'sundayafternoon': 985,\n",
       " 'dividends': 986,\n",
       " 'espousing': 987,\n",
       " 'mailroom': 988,\n",
       " 'seminarian': 989,\n",
       " 'jiang': 990,\n",
       " 'extroverts': 991,\n",
       " 'bourne': 992,\n",
       " 'exhilarated': 993,\n",
       " 'melnik': 994,\n",
       " 'monters': 995,\n",
       " 'statuettes': 996,\n",
       " 'legionairres': 997,\n",
       " 'voyeur': 998,\n",
       " 'zeppelins': 999,\n",
       " ...}"
      ]
     },
     "execution_count": 27,
     "metadata": {},
     "output_type": "execute_result"
    }
   ],
   "source": [
    "# Create a dictionary of words in the vocabulary mapped to index positions\n",
    "# (to be used in layer_0)\n",
    "word2index = {}\n",
    "for i,word in enumerate(vocab):\n",
    "    word2index[word] = i\n",
    "    \n",
    "# display the map of words to indices\n",
    "word2index"
   ]
  },
  {
   "cell_type": "markdown",
   "metadata": {
    "id": "Wb5cxMn5NFlp"
   },
   "source": [
    "**TODO:**  Complete the implementation of `update_input_layer`. It should count \n",
    "          how many times each word is used in the given review, and then store\n",
    "          those counts at the appropriate indices inside `layer_0`."
   ]
  },
  {
   "cell_type": "code",
   "execution_count": 28,
   "metadata": {
    "id": "wTYXlfFoNFlp"
   },
   "outputs": [],
   "source": [
    "def update_input_layer(review):\n",
    "    \"\"\" Modify the global layer_0 to represent the vector form of review.\n",
    "    The element at a given index of layer_0 should represent\n",
    "    how many times the given word occurs in the review.\n",
    "    Args:\n",
    "        review(string) - the string of the review\n",
    "    Returns:\n",
    "        None\n",
    "    \"\"\"\n",
    "    global layer_0\n",
    "    # clear out previous state by resetting the layer to be all 0s\n",
    "    layer_0 *= 0\n",
    "    \n",
    "    # TODO: count how many times each word is used in the given review and store the results in layer_0\n",
    "    counter = Counter(review.split(' '))\n",
    "    for word in counter:\n",
    "        word_index = word2index[word]\n",
    "        layer_0[0,word_index] = counter[word]"
   ]
  },
  {
   "cell_type": "markdown",
   "metadata": {
    "id": "fUS0FtcNNFlp"
   },
   "source": [
    "Run the following cell to test updating the input layer with the first review. The indices assigned may not be the same as in the solution, but hopefully you'll see some non-zero values in `layer_0`.  "
   ]
  },
  {
   "cell_type": "code",
   "execution_count": 29,
   "metadata": {
    "colab": {
     "base_uri": "https://localhost:8080/"
    },
    "executionInfo": {
     "elapsed": 87,
     "status": "ok",
     "timestamp": 1629337040699,
     "user": {
      "displayName": "Luis Fernando Leal Hernandez",
      "photoUrl": "",
      "userId": "08643725771405988586"
     },
     "user_tz": 300
    },
    "id": "nYUGGnlJNFlq",
    "outputId": "84da79d4-2e96-4821-9423-1d2597403a27"
   },
   "outputs": [
    {
     "data": {
      "text/plain": [
       "array([[18.,  0.,  0., ...,  0.,  0.,  0.]])"
      ]
     },
     "execution_count": 29,
     "metadata": {},
     "output_type": "execute_result"
    }
   ],
   "source": [
    "update_input_layer(reviews[0])\n",
    "layer_0"
   ]
  },
  {
   "cell_type": "markdown",
   "metadata": {
    "id": "SCapP0TPNFlq"
   },
   "source": [
    "**TODO:** Complete the implementation of `get_target_for_labels`. It should return `0` or `1`, \n",
    "          depending on whether the given label is `NEGATIVE` or `POSITIVE`, respectively."
   ]
  },
  {
   "cell_type": "code",
   "execution_count": 30,
   "metadata": {
    "id": "QFIZSViONFlq"
   },
   "outputs": [],
   "source": [
    "def get_target_for_label(label):\n",
    "    \"\"\"Convert a label to `0` or `1`.\n",
    "    Args:\n",
    "        label(string) - Either \"POSITIVE\" or \"NEGATIVE\".\n",
    "    Returns:\n",
    "        `0` or `1`.\n",
    "    \"\"\"\n",
    "    # TODO: Your code here\n",
    "    return 0 if label == 'NEGATIVE' else 1"
   ]
  },
  {
   "cell_type": "markdown",
   "metadata": {
    "id": "Wz-Ze4opNFlq"
   },
   "source": [
    "Run the following two cells. They should print out`'POSITIVE'` and `1`, respectively."
   ]
  },
  {
   "cell_type": "code",
   "execution_count": 31,
   "metadata": {
    "colab": {
     "base_uri": "https://localhost:8080/"
    },
    "executionInfo": {
     "elapsed": 86,
     "status": "ok",
     "timestamp": 1629337040701,
     "user": {
      "displayName": "Luis Fernando Leal Hernandez",
      "photoUrl": "",
      "userId": "08643725771405988586"
     },
     "user_tz": 300
    },
    "id": "6ZnNcdJtNFlq",
    "outputId": "7a7e9f8e-ae92-4425-8e29-73a7957556b6"
   },
   "outputs": [
    {
     "data": {
      "text/plain": [
       "'POSITIVE'"
      ]
     },
     "execution_count": 31,
     "metadata": {},
     "output_type": "execute_result"
    }
   ],
   "source": [
    "labels[0]"
   ]
  },
  {
   "cell_type": "code",
   "execution_count": 32,
   "metadata": {
    "colab": {
     "base_uri": "https://localhost:8080/"
    },
    "executionInfo": {
     "elapsed": 84,
     "status": "ok",
     "timestamp": 1629337040702,
     "user": {
      "displayName": "Luis Fernando Leal Hernandez",
      "photoUrl": "",
      "userId": "08643725771405988586"
     },
     "user_tz": 300
    },
    "id": "0BZ2daHHNFlq",
    "outputId": "7d41894b-a8ec-4648-bb6c-57374652750a"
   },
   "outputs": [
    {
     "data": {
      "text/plain": [
       "1"
      ]
     },
     "execution_count": 32,
     "metadata": {},
     "output_type": "execute_result"
    }
   ],
   "source": [
    "get_target_for_label(labels[0])"
   ]
  },
  {
   "cell_type": "markdown",
   "metadata": {
    "id": "RJqg87lzNFlr"
   },
   "source": [
    "Run the following two cells. They should print out `'NEGATIVE'` and `0`, respectively."
   ]
  },
  {
   "cell_type": "code",
   "execution_count": 33,
   "metadata": {
    "colab": {
     "base_uri": "https://localhost:8080/"
    },
    "executionInfo": {
     "elapsed": 82,
     "status": "ok",
     "timestamp": 1629337040702,
     "user": {
      "displayName": "Luis Fernando Leal Hernandez",
      "photoUrl": "",
      "userId": "08643725771405988586"
     },
     "user_tz": 300
    },
    "id": "uzS6FCBZNFlr",
    "outputId": "e02d2b6f-f346-40c4-e05d-400fc4f9a276"
   },
   "outputs": [
    {
     "data": {
      "text/plain": [
       "'NEGATIVE'"
      ]
     },
     "execution_count": 33,
     "metadata": {},
     "output_type": "execute_result"
    }
   ],
   "source": [
    "labels[1]"
   ]
  },
  {
   "cell_type": "code",
   "execution_count": 34,
   "metadata": {
    "colab": {
     "base_uri": "https://localhost:8080/"
    },
    "executionInfo": {
     "elapsed": 80,
     "status": "ok",
     "timestamp": 1629337040703,
     "user": {
      "displayName": "Luis Fernando Leal Hernandez",
      "photoUrl": "",
      "userId": "08643725771405988586"
     },
     "user_tz": 300
    },
    "id": "6Mf2cfLiNFlr",
    "outputId": "6c9d3835-f50e-4300-fcd4-e400d7a9a3cc"
   },
   "outputs": [
    {
     "data": {
      "text/plain": [
       "0"
      ]
     },
     "execution_count": 34,
     "metadata": {},
     "output_type": "execute_result"
    }
   ],
   "source": [
    "get_target_for_label(labels[1])"
   ]
  },
  {
   "cell_type": "markdown",
   "metadata": {
    "id": "Ur2aGCM7NFlr"
   },
   "source": [
    "# End of Project 2. \n"
   ]
  },
  {
   "cell_type": "markdown",
   "metadata": {
    "id": "9gNosdhLNFlr"
   },
   "source": [
    "# Project 3: Building a Neural Network<a id='project_3'></a>\n",
    "\n",
    "Antes de entrar a detalles, veamos un modelo similar en keras"
   ]
  },
  {
   "cell_type": "code",
   "execution_count": 35,
   "metadata": {
    "id": "6FtLySUjXppj"
   },
   "outputs": [],
   "source": [
    "import tensorflow as tf\n",
    "\n",
    "red_neuronal = tf.keras.models.Sequential([\n",
    "    tf.keras.layers.Dense(units = 10,activation=\"sigmoid\",kernel_initializer=tf.keras.initializers.GlorotNormal()),\n",
    "    tf.keras.layers.Dense(units = 1,activation=\"sigmoid\",kernel_initializer=tf.keras.initializers.RandomNormal(stddev=0.01))\n",
    "])"
   ]
  },
  {
   "cell_type": "code",
   "execution_count": 36,
   "metadata": {
    "id": "djsIYED7YjTX"
   },
   "outputs": [],
   "source": [
    "red_neuronal.compile(optimizer=\"sgd\",loss=\"categorical_crossentropy\")"
   ]
  },
  {
   "cell_type": "markdown",
   "metadata": {
    "id": "4Y5BgvboNFlr"
   },
   "source": [
    "**TODO:** We've included the framework of a class called `SentimentNetork`. Implement all of the items marked `TODO` in the code. These include doing the following:\n",
    "- Create a basic neural network much like the networks you've seen in earlier lessons and in Project 1, with an input layer, a hidden layer, and an output layer. \n",
    "- Do **not** add a non-linearity in the hidden layer. That is, do not use an activation function when calculating the hidden layer outputs.\n",
    "- Re-use the code from earlier in this notebook to create the training data (see `TODO`s in the code)\n",
    "- Implement the `pre_process_data` function to create the vocabulary for our training data generating functions\n",
    "- Ensure `train` trains over the entire corpus"
   ]
  },
  {
   "cell_type": "code",
   "execution_count": 37,
   "metadata": {
    "id": "AoLVD1FvNFlr"
   },
   "outputs": [],
   "source": [
    "import time\n",
    "import sys\n",
    "import numpy as np\n",
    "\n",
    "# Encapsulate our neural network in a class\n",
    "class SentimentNetwork:\n",
    "    def __init__(self, reviews, labels, hidden_nodes = 10, learning_rate = 0.1):\n",
    "        \"\"\"Create a SentimenNetwork with the given settings\n",
    "        Args:\n",
    "            reviews(list) - List of reviews used for training\n",
    "            labels(list) - List of POSITIVE/NEGATIVE labels associated with the given reviews\n",
    "            hidden_nodes(int) - Number of nodes to create in the hidden layer\n",
    "            learning_rate(float) - Learning rate to use while training\n",
    "        \n",
    "        \"\"\"\n",
    "        # Assign a seed to our random number generator to ensure we get\n",
    "        # reproducable results during development \n",
    "        np.random.seed(1)\n",
    "\n",
    "        # process the reviews and their associated labels so that everything\n",
    "        # is ready for training\n",
    "        self.pre_process_data(reviews, labels)\n",
    "        \n",
    "        # Build the network to have the number of hidden nodes and the learning rate that\n",
    "        # were passed into this initializer. Make the same number of input nodes as\n",
    "        # there are vocabulary words and create a single output node.\n",
    "        self.init_network(len(self.review_vocab),hidden_nodes, 1, learning_rate)\n",
    "\n",
    "    def pre_process_data(self, reviews, labels):\n",
    "        \n",
    "        review_vocab = set()\n",
    "        # TODO: populate review_vocab with all of the words in the given reviews\n",
    "        #       Remember to split reviews into individual words \n",
    "        #       using \"split(' ')\" instead of \"split()\".\n",
    "        \n",
    "        for review in reviews:\n",
    "            words = review.split(' ')\n",
    "            for word in words:\n",
    "                review_vocab.add(word)\n",
    "        # Convert the vocabulary set to a list so we can access words via indices\n",
    "        self.review_vocab = list(review_vocab)\n",
    "        \n",
    "        label_vocab = set()\n",
    "        # TODO: populate label_vocab with all of the words in the given labels.\n",
    "        #       There is no need to split the labels because each one is a single word.\n",
    "        \n",
    "        for label in labels:\n",
    "            label_vocab.add(label)\n",
    "        # Convert the label vocabulary set to a list so we can access labels via indices\n",
    "        self.label_vocab = list(label_vocab)\n",
    "        \n",
    "        # Store the sizes of the review and label vocabularies.\n",
    "        self.review_vocab_size = len(self.review_vocab)\n",
    "        self.label_vocab_size = len(self.label_vocab)\n",
    "        \n",
    "        # Create a dictionary of words in the vocabulary mapped to index positions\n",
    "        self.word2index = {}\n",
    "        # TODO: populate self.word2index with indices for all the words in self.review_vocab\n",
    "        #       like you saw earlier in the notebook\n",
    "        for index,word in enumerate(self.review_vocab):\n",
    "            self.word2index[word] = index\n",
    "        # Create a dictionary of labels mapped to index positions\n",
    "        self.label2index = {}\n",
    "        # TODO: do the same thing you did for self.word2index and self.review_vocab, \n",
    "        #       but for self.label2index and self.label_vocab instead\n",
    "        for index,label in enumerate(self.label_vocab):\n",
    "            self.label2index[label] = index\n",
    "            \n",
    "        \n",
    "    def init_network(self, input_nodes, hidden_nodes, output_nodes, learning_rate):\n",
    "        # Store the number of nodes in input, hidden, and output layers.\n",
    "        self.input_nodes = input_nodes\n",
    "        self.hidden_nodes = hidden_nodes\n",
    "        self.output_nodes = output_nodes\n",
    "\n",
    "        # Store the learning rate\n",
    "        self.learning_rate = learning_rate\n",
    "\n",
    "        # Initialize weights\n",
    "        \n",
    "        # TODO: initialize self.weights_0_1 as a matrix of zeros. These are the weights between\n",
    "        #       the input layer and the hidden layer.\n",
    "        self.weights_0_1 = np.random.normal(0.0, np.sqrt(1/input_nodes),\n",
    "                                            (input_nodes,hidden_nodes))\n",
    "        \n",
    "        # TODO: initialize self.weights_1_2 as a matrix of random values. \n",
    "        #       These are the weights between the hidden layer and the output layer.\n",
    "        self.weights_1_2 = np.random.normal(0.0, np.sqrt(1/hidden_nodes), \n",
    "                                                (self.hidden_nodes, self.output_nodes))\n",
    "        \n",
    "        # TODO: Create the input layer, a two-dimensional matrix with shape \n",
    "        #       1 x input_nodes, with all values initialized to zero\n",
    "        self.layer_0 = np.zeros((1,input_nodes))\n",
    "    \n",
    "        \n",
    "    def update_input_layer(self,review):\n",
    "        # TODO: You can copy most of the code you wrote for update_input_layer \n",
    "        #       earlier in this notebook. \n",
    "        #\n",
    "        #       However, MAKE SURE YOU CHANGE ALL VARIABLES TO REFERENCE\n",
    "        #       THE VERSIONS STORED IN THIS OBJECT, NOT THE GLOBAL OBJECTS.\n",
    "        #       For example, replace \"layer_0 *= 0\" with \"self.layer_0 *= 0\"\n",
    "        self.layer_0*=0\n",
    "        counter = Counter(review.split(' '))\n",
    "        for word in counter:\n",
    "            if word in self.word2index.keys():\n",
    "                word_count = counter[word]\n",
    "                word_index = self.word2index[word]\n",
    "                self.layer_0[0,word_index] = word_count\n",
    "                \n",
    "    def get_target_for_label(self,label):\n",
    "        # TODO: Copy the code you wrote for get_target_for_label \n",
    "        #       earlier in this notebook. \n",
    "        return 0 if label == 'NEGATIVE' else 1\n",
    "        \n",
    "    def sigmoid(self,x):\n",
    "        # TODO: Return the result of calculating the sigmoid activation function\n",
    "        #       shown in the lectures\n",
    "        return 1 / ( 1 + np.exp(-x))\n",
    "    \n",
    "    def sigmoid_output_2_derivative(self,output):\n",
    "        # TODO: Return the derivative of the sigmoid activation function, \n",
    "        #       where \"output\" is the original output from the sigmoid fucntion \n",
    "        return output * (1 - output)\n",
    "\n",
    "    def sigmoid_prime(self,output):\n",
    "        # TODO: Return the derivative of the sigmoid activation function, \n",
    "        return output * (1 - output)\n",
    "\n",
    "\n",
    "    def train(self, training_reviews, training_labels):\n",
    "        \n",
    "        # make sure out we have a matching number of reviews and labels\n",
    "        assert(len(training_reviews) == len(training_labels))\n",
    "        \n",
    "        # Keep track of correct predictions to display accuracy during training \n",
    "        correct_so_far = 0\n",
    "        \n",
    "        # Remember when we started for printing time statistics\n",
    "        start = time.time()\n",
    "\n",
    "        # loop through all the given reviews and run a forward and backward pass,\n",
    "        # updating weights for every item\n",
    "        for i in range(len(training_reviews)):\n",
    "            \n",
    "            # TODO: Get the next review and its correct label\n",
    "            review = training_reviews[i]\n",
    "            label = training_labels[i]\n",
    "            # TODO: Implement the forward pass through the network. \n",
    "            #       That means use the given review to update the input layer, \n",
    "            #       then calculate values for the hidden layer,\n",
    "            #       and finally calculate the output layer.\n",
    "            # \n",
    "            #       Do not use an activation function for the hidden layer,\n",
    "            #       but use the sigmoid activation function for the output layer.\n",
    "            self.update_input_layer(review)\n",
    "            hidden_layer_logits = np.dot(self.layer_0,self.weights_0_1)\n",
    "            hidden_layer_output = self.sigmoid(hidden_layer_logits)\n",
    "            output_layer_logits = np.dot(hidden_layer_output,self.weights_1_2)\n",
    "            output_layer_predictions = self.sigmoid(output_layer_logits)\n",
    "            #print(\"output layer\",output_layer_predictions.shape)\n",
    "            # TODO: Implement the back propagation pass here. \n",
    "            #       That means calculate the error for the forward pass's prediction\n",
    "            #       and update the weights in the network according to their\n",
    "            #       contributions toward the error, as calculated via the\n",
    "            #       gradient descent and back propagation algorithms you \n",
    "            #       learned in class.\n",
    "            error = output_layer_predictions - self.get_target_for_label(label) # dL/da2(derivada del costo respecto de la salida y_pred)\n",
    "            #print(\"error\",error.shape)\n",
    "            #calculate the error terms of each layer\n",
    "            output_error_term = error*self.sigmoid_prime(output_layer_predictions) #dL/dz2(derivada del costo respecto de la pre-activacion z2, el termino de error delta2)\n",
    "            #print(\"output error term\",output_error_term.shape)\n",
    "            #print(\"sigmoid prime(hidden)\",self.sigmoid_prime(hidden_layer_output).shape)\n",
    "            hidden_error_term = np.matmul(self.weights_1_2,output_error_term)*self.sigmoid_prime(hidden_layer_output).T# dL/dz1 (derivada del costo respecto de la pre-activacion z1, el termino de error delta1)\n",
    "            #print(\"hidden error term\",hidden_error_term.shape)\n",
    "            #print(\"hidden layer output\",hidden_layer_output.shape)\n",
    "            #calculate the delta on the weights of each layer\n",
    "\n",
    "            ## una vez calculados los terminos de error delta(derivadas respecto de z) los usamos para calcular las derivadas parciales respecto de los parametros usando #activacion entrante * error saliente\n",
    "            grad_weights_h_o =  output_error_term * hidden_layer_output\n",
    "            grad_weights_i_h = hidden_error_term * self.layer_0\n",
    "            #print(\"calculated\",(self.learning_rate*delta_weights_h_o).shape)\n",
    "            #print(\"weights\",self.weights_1_2.shape)\n",
    "\n",
    "            ## una vez calculadas las derivadas respecto de los parametros aplicamos \"gradient descent\"\n",
    "            self.weights_1_2-= (self.learning_rate*grad_weights_h_o).T\n",
    "            self.weights_0_1-= (self.learning_rate*grad_weights_i_h).T\n",
    "            # TODO: Keep track of correct predictions. To determine if the prediction was\n",
    "            #       correct, check that the absolute value of the output error \n",
    "            #       is less than 0.5. If so, add one to the correct_so_far count.\n",
    "            #Note to myself: strange way to calc correctness hmmm\n",
    "            if  np.abs(error) < 0.5:\n",
    "                correct_so_far+=1\n",
    "            \n",
    "            # For debug purposes, print out our prediction accuracy and speed \n",
    "            # throughout the training process. \n",
    "\n",
    "            elapsed_time = float(time.time() - start)\n",
    "            reviews_per_second = i / elapsed_time if elapsed_time > 0 else 0\n",
    "            \n",
    "            sys.stdout.write(\"\\rProgress:\" + str(100 * i/float(len(training_reviews)))[:4] \\\n",
    "                             + \"% Speed(reviews/sec):\" + str(reviews_per_second)[0:5] \\\n",
    "                             + \" #Correct:\" + str(correct_so_far) + \" #Trained:\" + str(i+1) \\\n",
    "                             + \" Training Accuracy:\" + str(correct_so_far * 100 / float(i+1))[:4] + \"%\")\n",
    "            if(i % 2500 == 0):\n",
    "                print(\"\")\n",
    "    \n",
    "    def test(self, testing_reviews, testing_labels):\n",
    "        \"\"\"\n",
    "        Attempts to predict the labels for the given testing_reviews,\n",
    "        and uses the test_labels to calculate the accuracy of those predictions.\n",
    "        \"\"\"\n",
    "        \n",
    "        # keep track of how many correct predictions we make\n",
    "        correct = 0\n",
    "\n",
    "        # we'll time how many predictions per second we make\n",
    "        start = time.time()\n",
    "\n",
    "        # Loop through each of the given reviews and call run to predict\n",
    "        # its label. \n",
    "        for i in range(len(testing_reviews)):\n",
    "            pred = self.run(testing_reviews[i])\n",
    "            if(pred == testing_labels[i]):\n",
    "                correct += 1\n",
    "            \n",
    "            # For debug purposes, print out our prediction accuracy and speed \n",
    "            # throughout the prediction process. \n",
    "\n",
    "            elapsed_time = float(time.time() - start)\n",
    "            reviews_per_second = i / elapsed_time if elapsed_time > 0 else 0\n",
    "            \n",
    "            sys.stdout.write(\"\\rProgress:\" + str(100 * i/float(len(testing_reviews)))[:4] \\\n",
    "                             + \"% Speed(reviews/sec):\" + str(reviews_per_second)[0:5] \\\n",
    "                             + \" #Correct:\" + str(correct) + \" #Tested:\" + str(i+1) \\\n",
    "                             + \" Testing Accuracy:\" + str(correct * 100 / float(i+1))[:4] + \"%\")\n",
    "    \n",
    "    def run(self, review):\n",
    "        \"\"\"\n",
    "        Returns a POSITIVE or NEGATIVE prediction for the given review.\n",
    "        \"\"\"\n",
    "        # TODO: Run a forward pass through the network, like you did in the\n",
    "        #       \"train\" function. That means use the given review to \n",
    "        #       update the input layer, then calculate values for the hidden layer,\n",
    "        #       and finally calculate the output layer.\n",
    "        #\n",
    "        #       Note: The review passed into this function for prediction \n",
    "        #             might come from anywhere, so you should convert it \n",
    "        #             to lower case prior to using it.\n",
    "        review = review.lower()\n",
    "        self.update_input_layer(review)\n",
    "        hidden_logits = np.dot(self.layer_0,self.weights_0_1)\n",
    "        hidden_output = self.sigmoid(hidden_logits)\n",
    "        output_logits = np.dot(hidden_output,self.weights_1_2)\n",
    "        output = self.sigmoid(output_logits)\n",
    "\n",
    "        # TODO: The output layer should now contain a prediction. \n",
    "        #       Return `POSITIVE` for predictions greater-than-or-equal-to `0.5`, \n",
    "        #       and `NEGATIVE` otherwise.\n",
    "        return \"POSITIVE\" if output >= 0.5 else \"NEGATIVE\"\n"
   ]
  },
  {
   "cell_type": "markdown",
   "metadata": {
    "id": "Jg8k8fyoNFls"
   },
   "source": [
    "Run the following cell to create a `SentimentNetwork` that will train on all but the last 1000 reviews (we're saving those for testing). Here we use a learning rate of `0.1`."
   ]
  },
  {
   "cell_type": "code",
   "execution_count": 38,
   "metadata": {
    "id": "fSPGMIkNNFls"
   },
   "outputs": [],
   "source": [
    "mlp = SentimentNetwork(reviews[:-1000],labels[:-1000], learning_rate=0.1)"
   ]
  },
  {
   "cell_type": "markdown",
   "metadata": {
    "id": "IxeAqLu6NFls"
   },
   "source": [
    "Run the following cell to test the network's performance against the last 1000 reviews (the ones we held out from our training set). \n",
    "\n",
    "**We have not trained the model yet, so the results should be about 50% as it will just be guessing and there are only two possible values to choose from.**"
   ]
  },
  {
   "cell_type": "code",
   "execution_count": 39,
   "metadata": {
    "colab": {
     "base_uri": "https://localhost:8080/"
    },
    "executionInfo": {
     "elapsed": 1948,
     "status": "ok",
     "timestamp": 1629337045919,
     "user": {
      "displayName": "Luis Fernando Leal Hernandez",
      "photoUrl": "",
      "userId": "08643725771405988586"
     },
     "user_tz": 300
    },
    "id": "CPmG1VXeNFls",
    "outputId": "49de78ff-f527-44f4-8f71-ba42487f610f"
   },
   "outputs": [
    {
     "name": "stdout",
     "output_type": "stream",
     "text": [
      "\r",
      "Progress:0.0% Speed(reviews/sec):0.0 #Correct:1 #Tested:1 Testing Accuracy:100.%\r",
      "Progress:0.1% Speed(reviews/sec):29.88 #Correct:1 #Tested:2 Testing Accuracy:50.0%\r",
      "Progress:0.2% Speed(reviews/sec):58.04 #Correct:2 #Tested:3 Testing Accuracy:66.6%\r",
      "Progress:0.3% Speed(reviews/sec):87.06 #Correct:2 #Tested:4 Testing Accuracy:50.0%\r",
      "Progress:0.4% Speed(reviews/sec):112.8 #Correct:3 #Tested:5 Testing Accuracy:60.0%\r",
      "Progress:0.5% Speed(reviews/sec):137.1 #Correct:3 #Tested:6 Testing Accuracy:50.0%\r",
      "Progress:0.6% Speed(reviews/sec):160.3 #Correct:4 #Tested:7 Testing Accuracy:57.1%\r",
      "Progress:0.7% Speed(reviews/sec):182.2 #Correct:4 #Tested:8 Testing Accuracy:50.0%\r",
      "Progress:0.8% Speed(reviews/sec):202.9 #Correct:5 #Tested:9 Testing Accuracy:55.5%\r",
      "Progress:0.9% Speed(reviews/sec):228.3 #Correct:5 #Tested:10 Testing Accuracy:50.0%\r",
      "Progress:1.0% Speed(reviews/sec):247.4 #Correct:6 #Tested:11 Testing Accuracy:54.5%\r",
      "Progress:1.1% Speed(reviews/sec):272.2 #Correct:6 #Tested:12 Testing Accuracy:50.0%\r",
      "Progress:1.2% Speed(reviews/sec):289.8 #Correct:7 #Tested:13 Testing Accuracy:53.8%\r",
      "Progress:1.3% Speed(reviews/sec):306.5 #Correct:7 #Tested:14 Testing Accuracy:50.0%\r",
      "Progress:1.4% Speed(reviews/sec):330.1 #Correct:8 #Tested:15 Testing Accuracy:53.3%\r",
      "Progress:1.5% Speed(reviews/sec):345.6 #Correct:8 #Tested:16 Testing Accuracy:50.0%\r",
      "Progress:1.6% Speed(reviews/sec):360.3 #Correct:9 #Tested:17 Testing Accuracy:52.9%\r",
      "Progress:1.7% Speed(reviews/sec):382.9 #Correct:9 #Tested:18 Testing Accuracy:50.0%\r",
      "Progress:1.8% Speed(reviews/sec):396.5 #Correct:10 #Tested:19 Testing Accuracy:52.6%\r",
      "Progress:1.9% Speed(reviews/sec):409.5 #Correct:10 #Tested:20 Testing Accuracy:50.0%\r",
      "Progress:2.0% Speed(reviews/sec):431.1 #Correct:11 #Tested:21 Testing Accuracy:52.3%\r",
      "Progress:2.1% Speed(reviews/sec):446.2 #Correct:11 #Tested:22 Testing Accuracy:50.0%\r",
      "Progress:2.2% Speed(reviews/sec):457.7 #Correct:12 #Tested:23 Testing Accuracy:52.1%\r",
      "Progress:2.3% Speed(reviews/sec):468.8 #Correct:12 #Tested:24 Testing Accuracy:50.0%\r",
      "Progress:2.4% Speed(reviews/sec):489.1 #Correct:13 #Tested:25 Testing Accuracy:52.0%\r",
      "Progress:2.5% Speed(reviews/sec):499.4 #Correct:13 #Tested:26 Testing Accuracy:50.0%\r",
      "Progress:2.6% Speed(reviews/sec):509.2 #Correct:14 #Tested:27 Testing Accuracy:51.8%\r",
      "Progress:2.7% Speed(reviews/sec):528.8 #Correct:14 #Tested:28 Testing Accuracy:50.0%\r",
      "Progress:2.8% Speed(reviews/sec):537.9 #Correct:15 #Tested:29 Testing Accuracy:51.7%\r",
      "Progress:2.9% Speed(reviews/sec):546.6 #Correct:15 #Tested:30 Testing Accuracy:50.0%\r",
      "Progress:3.0% Speed(reviews/sec):555.0 #Correct:16 #Tested:31 Testing Accuracy:51.6%\r",
      "Progress:3.1% Speed(reviews/sec):563.1 #Correct:16 #Tested:32 Testing Accuracy:50.0%\r",
      "Progress:3.2% Speed(reviews/sec):581.3 #Correct:17 #Tested:33 Testing Accuracy:51.5%\r",
      "Progress:3.3% Speed(reviews/sec):588.8 #Correct:17 #Tested:34 Testing Accuracy:50.0%\r",
      "Progress:3.4% Speed(reviews/sec):596.0 #Correct:18 #Tested:35 Testing Accuracy:51.4%\r",
      "Progress:3.5% Speed(reviews/sec):613.6 #Correct:18 #Tested:36 Testing Accuracy:50.0%\r",
      "Progress:3.6% Speed(reviews/sec):620.3 #Correct:19 #Tested:37 Testing Accuracy:51.3%\r",
      "Progress:3.7% Speed(reviews/sec):626.7 #Correct:19 #Tested:38 Testing Accuracy:50.0%\r",
      "Progress:3.8% Speed(reviews/sec):643.7 #Correct:20 #Tested:39 Testing Accuracy:51.2%\r",
      "Progress:3.9% Speed(reviews/sec):649.6 #Correct:20 #Tested:40 Testing Accuracy:50.0%\r",
      "Progress:4.0% Speed(reviews/sec):655.4 #Correct:21 #Tested:41 Testing Accuracy:51.2%\r",
      "Progress:4.1% Speed(reviews/sec):671.8 #Correct:21 #Tested:42 Testing Accuracy:50.0%\r",
      "Progress:4.2% Speed(reviews/sec):677.1 #Correct:22 #Tested:43 Testing Accuracy:51.1%\r",
      "Progress:4.3% Speed(reviews/sec):682.3 #Correct:22 #Tested:44 Testing Accuracy:50.0%\r",
      "Progress:4.4% Speed(reviews/sec):687.3 #Correct:23 #Tested:45 Testing Accuracy:51.1%\r",
      "Progress:4.5% Speed(reviews/sec):692.1 #Correct:23 #Tested:46 Testing Accuracy:50.0%\r",
      "Progress:4.6% Speed(reviews/sec):707.5 #Correct:24 #Tested:47 Testing Accuracy:51.0%\r",
      "Progress:4.7% Speed(reviews/sec):711.9 #Correct:24 #Tested:48 Testing Accuracy:50.0%\r",
      "Progress:4.8% Speed(reviews/sec):716.3 #Correct:25 #Tested:49 Testing Accuracy:51.0%\r",
      "Progress:4.9% Speed(reviews/sec):731.2 #Correct:25 #Tested:50 Testing Accuracy:50.0%\r",
      "Progress:5.0% Speed(reviews/sec):735.2 #Correct:26 #Tested:51 Testing Accuracy:50.9%\r",
      "Progress:5.1% Speed(reviews/sec):739.0 #Correct:26 #Tested:52 Testing Accuracy:50.0%\r",
      "Progress:5.2% Speed(reviews/sec):753.5 #Correct:27 #Tested:53 Testing Accuracy:50.9%\r",
      "Progress:5.3% Speed(reviews/sec):757.0 #Correct:27 #Tested:54 Testing Accuracy:50.0%\r",
      "Progress:5.4% Speed(reviews/sec):760.5 #Correct:28 #Tested:55 Testing Accuracy:50.9%\r",
      "Progress:5.5% Speed(reviews/sec):763.9 #Correct:28 #Tested:56 Testing Accuracy:50.0%\r",
      "Progress:5.6% Speed(reviews/sec):777.8 #Correct:29 #Tested:57 Testing Accuracy:50.8%\r",
      "Progress:5.7% Speed(reviews/sec):780.8 #Correct:29 #Tested:58 Testing Accuracy:50.0%\r",
      "Progress:5.8% Speed(reviews/sec):783.8 #Correct:30 #Tested:59 Testing Accuracy:50.8%\r",
      "Progress:5.9% Speed(reviews/sec):797.3 #Correct:30 #Tested:60 Testing Accuracy:50.0%\r",
      "Progress:6.0% Speed(reviews/sec):800.0 #Correct:31 #Tested:61 Testing Accuracy:50.8%\r",
      "Progress:6.1% Speed(reviews/sec):802.7 #Correct:31 #Tested:62 Testing Accuracy:50.0%\r",
      "Progress:6.2% Speed(reviews/sec):815.9 #Correct:32 #Tested:63 Testing Accuracy:50.7%\r",
      "Progress:6.3% Speed(reviews/sec):818.3 #Correct:32 #Tested:64 Testing Accuracy:50.0%\r",
      "Progress:6.4% Speed(reviews/sec):831.3 #Correct:33 #Tested:65 Testing Accuracy:50.7%\r",
      "Progress:6.5% Speed(reviews/sec):833.5 #Correct:33 #Tested:66 Testing Accuracy:50.0%\r",
      "Progress:6.6% Speed(reviews/sec):835.6 #Correct:34 #Tested:67 Testing Accuracy:50.7%\r",
      "Progress:6.7% Speed(reviews/sec):848.3 #Correct:34 #Tested:68 Testing Accuracy:50.0%\r",
      "Progress:6.8% Speed(reviews/sec):850.2 #Correct:35 #Tested:69 Testing Accuracy:50.7%\r",
      "Progress:6.9% Speed(reviews/sec):852.1 #Correct:35 #Tested:70 Testing Accuracy:50.0%\r",
      "Progress:7.0% Speed(reviews/sec):864.4 #Correct:36 #Tested:71 Testing Accuracy:50.7%\r",
      "Progress:7.1% Speed(reviews/sec):866.1 #Correct:36 #Tested:72 Testing Accuracy:50.0%\r",
      "Progress:7.2% Speed(reviews/sec):878.3 #Correct:37 #Tested:73 Testing Accuracy:50.6%\r",
      "Progress:7.3% Speed(reviews/sec):879.8 #Correct:37 #Tested:74 Testing Accuracy:50.0%\r",
      "Progress:7.4% Speed(reviews/sec):891.9 #Correct:38 #Tested:75 Testing Accuracy:50.6%\r",
      "Progress:7.5% Speed(reviews/sec):893.2 #Correct:38 #Tested:76 Testing Accuracy:50.0%\r",
      "Progress:7.6% Speed(reviews/sec):905.1 #Correct:39 #Tested:77 Testing Accuracy:50.6%\r",
      "Progress:7.7% Speed(reviews/sec):906.2 #Correct:39 #Tested:78 Testing Accuracy:50.0%\r",
      "Progress:7.8% Speed(reviews/sec):907.3 #Correct:40 #Tested:79 Testing Accuracy:50.6%\r",
      "Progress:7.9% Speed(reviews/sec):919.0 #Correct:40 #Tested:80 Testing Accuracy:50.0%\r",
      "Progress:8.0% Speed(reviews/sec):919.9 #Correct:41 #Tested:81 Testing Accuracy:50.6%\r",
      "Progress:8.1% Speed(reviews/sec):916.3 #Correct:41 #Tested:82 Testing Accuracy:50.0%\r",
      "Progress:8.2% Speed(reviews/sec):927.6 #Correct:42 #Tested:83 Testing Accuracy:50.6%\r",
      "Progress:8.3% Speed(reviews/sec):928.4 #Correct:42 #Tested:84 Testing Accuracy:50.0%\r",
      "Progress:8.4% Speed(reviews/sec):929.2 #Correct:43 #Tested:85 Testing Accuracy:50.5%\r",
      "Progress:8.5% Speed(reviews/sec):940.3 #Correct:43 #Tested:86 Testing Accuracy:50.0%\r",
      "Progress:8.6% Speed(reviews/sec):940.9 #Correct:44 #Tested:87 Testing Accuracy:50.5%\r",
      "Progress:8.7% Speed(reviews/sec):951.9 #Correct:44 #Tested:88 Testing Accuracy:50.0%\r",
      "Progress:8.8% Speed(reviews/sec):952.4 #Correct:45 #Tested:89 Testing Accuracy:50.5%\r",
      "Progress:8.9% Speed(reviews/sec):953.0 #Correct:45 #Tested:90 Testing Accuracy:50.0%\r",
      "Progress:9.0% Speed(reviews/sec):963.7 #Correct:46 #Tested:91 Testing Accuracy:50.5%\r",
      "Progress:9.1% Speed(reviews/sec):964.1 #Correct:46 #Tested:92 Testing Accuracy:50.0%\r",
      "Progress:9.2% Speed(reviews/sec):974.7 #Correct:47 #Tested:93 Testing Accuracy:50.5%\r",
      "Progress:9.3% Speed(reviews/sec):975.0 #Correct:47 #Tested:94 Testing Accuracy:50.0%\r",
      "Progress:9.4% Speed(reviews/sec):985.5 #Correct:48 #Tested:95 Testing Accuracy:50.5%\r",
      "Progress:9.5% Speed(reviews/sec):985.6 #Correct:48 #Tested:96 Testing Accuracy:50.0%\r",
      "Progress:9.6% Speed(reviews/sec):985.8 #Correct:49 #Tested:97 Testing Accuracy:50.5%\r",
      "Progress:9.7% Speed(reviews/sec):996.1 #Correct:49 #Tested:98 Testing Accuracy:50.0%\r",
      "Progress:9.8% Speed(reviews/sec):996.1 #Correct:50 #Tested:99 Testing Accuracy:50.5%\r",
      "Progress:9.9% Speed(reviews/sec):1006. #Correct:50 #Tested:100 Testing Accuracy:50.0%\r",
      "Progress:10.0% Speed(reviews/sec):1006. #Correct:51 #Tested:101 Testing Accuracy:50.4%\r",
      "Progress:10.1% Speed(reviews/sec):1016. #Correct:51 #Tested:102 Testing Accuracy:50.0%\r",
      "Progress:10.2% Speed(reviews/sec):1016. #Correct:52 #Tested:103 Testing Accuracy:50.4%\r",
      "Progress:10.3% Speed(reviews/sec):1016. #Correct:52 #Tested:104 Testing Accuracy:50.0%\r",
      "Progress:10.4% Speed(reviews/sec):1025. #Correct:53 #Tested:105 Testing Accuracy:50.4%\r",
      "Progress:10.5% Speed(reviews/sec):1025. #Correct:53 #Tested:106 Testing Accuracy:50.0%\r",
      "Progress:10.6% Speed(reviews/sec):1035. #Correct:54 #Tested:107 Testing Accuracy:50.4%\r",
      "Progress:10.7% Speed(reviews/sec):1035. #Correct:54 #Tested:108 Testing Accuracy:50.0%\r",
      "Progress:10.8% Speed(reviews/sec):1034. #Correct:55 #Tested:109 Testing Accuracy:50.4%\r",
      "Progress:10.9% Speed(reviews/sec):1044. #Correct:55 #Tested:110 Testing Accuracy:50.0%\r",
      "Progress:11.0% Speed(reviews/sec):1044. #Correct:56 #Tested:111 Testing Accuracy:50.4%\r",
      "Progress:11.1% Speed(reviews/sec):1043. #Correct:56 #Tested:112 Testing Accuracy:50.0%\r",
      "Progress:11.2% Speed(reviews/sec):1045. #Correct:57 #Tested:113 Testing Accuracy:50.4%\r",
      "Progress:11.3% Speed(reviews/sec):1054. #Correct:57 #Tested:114 Testing Accuracy:50.0%\r",
      "Progress:11.4% Speed(reviews/sec):1054. #Correct:58 #Tested:115 Testing Accuracy:50.4%\r",
      "Progress:11.5% Speed(reviews/sec):1063. #Correct:58 #Tested:116 Testing Accuracy:50.0%\r",
      "Progress:11.6% Speed(reviews/sec):1063. #Correct:59 #Tested:117 Testing Accuracy:50.4%\r",
      "Progress:11.7% Speed(reviews/sec):1072. #Correct:59 #Tested:118 Testing Accuracy:50.0%\r",
      "Progress:11.8% Speed(reviews/sec):1071. #Correct:60 #Tested:119 Testing Accuracy:50.4%\r",
      "Progress:11.9% Speed(reviews/sec):1080. #Correct:60 #Tested:120 Testing Accuracy:50.0%\r",
      "Progress:12.0% Speed(reviews/sec):1080. #Correct:61 #Tested:121 Testing Accuracy:50.4%\r",
      "Progress:12.1% Speed(reviews/sec):1089. #Correct:61 #Tested:122 Testing Accuracy:50.0%\r",
      "Progress:12.2% Speed(reviews/sec):1088. #Correct:62 #Tested:123 Testing Accuracy:50.4%\r",
      "Progress:12.3% Speed(reviews/sec):1087. #Correct:62 #Tested:124 Testing Accuracy:50.0%\r",
      "Progress:12.4% Speed(reviews/sec):1096. #Correct:63 #Tested:125 Testing Accuracy:50.4%\r",
      "Progress:12.5% Speed(reviews/sec):1095. #Correct:63 #Tested:126 Testing Accuracy:50.0%\r",
      "Progress:12.6% Speed(reviews/sec):1104. #Correct:64 #Tested:127 Testing Accuracy:50.3%\r",
      "Progress:12.7% Speed(reviews/sec):1103. #Correct:64 #Tested:128 Testing Accuracy:50.0%\r",
      "Progress:12.8% Speed(reviews/sec):1112. #Correct:65 #Tested:129 Testing Accuracy:50.3%\r",
      "Progress:12.9% Speed(reviews/sec):1111. #Correct:65 #Tested:130 Testing Accuracy:50.0%\r",
      "Progress:13.0% Speed(reviews/sec):1119. #Correct:66 #Tested:131 Testing Accuracy:50.3%\r",
      "Progress:13.1% Speed(reviews/sec):1128. #Correct:66 #Tested:132 Testing Accuracy:50.0%\r",
      "Progress:13.2% Speed(reviews/sec):1127. #Correct:67 #Tested:133 Testing Accuracy:50.3%\r",
      "Progress:13.3% Speed(reviews/sec):1126. #Correct:67 #Tested:134 Testing Accuracy:50.0%\r",
      "Progress:13.4% Speed(reviews/sec):1134. #Correct:68 #Tested:135 Testing Accuracy:50.3%\r",
      "Progress:13.5% Speed(reviews/sec):1133. #Correct:68 #Tested:136 Testing Accuracy:50.0%\r",
      "Progress:13.6% Speed(reviews/sec):1142. #Correct:69 #Tested:137 Testing Accuracy:50.3%\r",
      "Progress:13.7% Speed(reviews/sec):1140. #Correct:69 #Tested:138 Testing Accuracy:50.0%\r",
      "Progress:13.8% Speed(reviews/sec):1139. #Correct:70 #Tested:139 Testing Accuracy:50.3%\r",
      "Progress:13.9% Speed(reviews/sec):1148. #Correct:70 #Tested:140 Testing Accuracy:50.0%\r",
      "Progress:14.0% Speed(reviews/sec):1146. #Correct:71 #Tested:141 Testing Accuracy:50.3%\r",
      "Progress:14.1% Speed(reviews/sec):1155. #Correct:71 #Tested:142 Testing Accuracy:50.0%\r",
      "Progress:14.2% Speed(reviews/sec):1153. #Correct:72 #Tested:143 Testing Accuracy:50.3%\r",
      "Progress:14.3% Speed(reviews/sec):1161. #Correct:72 #Tested:144 Testing Accuracy:50.0%\r",
      "Progress:14.4% Speed(reviews/sec):1160. #Correct:73 #Tested:145 Testing Accuracy:50.3%\r",
      "Progress:14.5% Speed(reviews/sec):1168. #Correct:73 #Tested:146 Testing Accuracy:50.0%\r",
      "Progress:14.6% Speed(reviews/sec):1167. #Correct:74 #Tested:147 Testing Accuracy:50.3%\r",
      "Progress:14.7% Speed(reviews/sec):1175. #Correct:74 #Tested:148 Testing Accuracy:50.0%\r",
      "Progress:14.8% Speed(reviews/sec):1173. #Correct:75 #Tested:149 Testing Accuracy:50.3%\r",
      "Progress:14.9% Speed(reviews/sec):1181. #Correct:75 #Tested:150 Testing Accuracy:50.0%\r",
      "Progress:15.0% Speed(reviews/sec):1180. #Correct:76 #Tested:151 Testing Accuracy:50.3%\r",
      "Progress:15.1% Speed(reviews/sec):1188. #Correct:76 #Tested:152 Testing Accuracy:50.0%\r",
      "Progress:15.2% Speed(reviews/sec):1186. #Correct:77 #Tested:153 Testing Accuracy:50.3%\r",
      "Progress:15.3% Speed(reviews/sec):1194. #Correct:77 #Tested:154 Testing Accuracy:50.0%\r",
      "Progress:15.4% Speed(reviews/sec):1193. #Correct:78 #Tested:155 Testing Accuracy:50.3%\r",
      "Progress:15.5% Speed(reviews/sec):1201. #Correct:78 #Tested:156 Testing Accuracy:50.0%\r",
      "Progress:15.6% Speed(reviews/sec):1199. #Correct:79 #Tested:157 Testing Accuracy:50.3%\r",
      "Progress:15.7% Speed(reviews/sec):1197. #Correct:79 #Tested:158 Testing Accuracy:50.0%\r",
      "Progress:15.8% Speed(reviews/sec):1205. #Correct:80 #Tested:159 Testing Accuracy:50.3%\r",
      "Progress:15.9% Speed(reviews/sec):1204. #Correct:80 #Tested:160 Testing Accuracy:50.0%\r",
      "Progress:16.0% Speed(reviews/sec):1211. #Correct:81 #Tested:161 Testing Accuracy:50.3%\r",
      "Progress:16.1% Speed(reviews/sec):1219. #Correct:81 #Tested:162 Testing Accuracy:50.0%\r",
      "Progress:16.2% Speed(reviews/sec):1217. #Correct:82 #Tested:163 Testing Accuracy:50.3%\r",
      "Progress:16.3% Speed(reviews/sec):1225. #Correct:82 #Tested:164 Testing Accuracy:50.0%\r",
      "Progress:16.4% Speed(reviews/sec):1223. #Correct:83 #Tested:165 Testing Accuracy:50.3%\r",
      "Progress:16.5% Speed(reviews/sec):1230. #Correct:83 #Tested:166 Testing Accuracy:50.0%\r",
      "Progress:16.6% Speed(reviews/sec):1229. #Correct:84 #Tested:167 Testing Accuracy:50.2%\r",
      "Progress:16.7% Speed(reviews/sec):1236. #Correct:84 #Tested:168 Testing Accuracy:50.0%\r",
      "Progress:16.8% Speed(reviews/sec):1234. #Correct:85 #Tested:169 Testing Accuracy:50.2%\r",
      "Progress:16.9% Speed(reviews/sec):1242. #Correct:85 #Tested:170 Testing Accuracy:50.0%\r",
      "Progress:17.0% Speed(reviews/sec):1240. #Correct:86 #Tested:171 Testing Accuracy:50.2%\r",
      "Progress:17.1% Speed(reviews/sec):1238. #Correct:86 #Tested:172 Testing Accuracy:50.0%\r",
      "Progress:17.2% Speed(reviews/sec):1246. #Correct:87 #Tested:173 Testing Accuracy:50.2%\r",
      "Progress:17.3% Speed(reviews/sec):1244. #Correct:87 #Tested:174 Testing Accuracy:50.0%\r",
      "Progress:17.4% Speed(reviews/sec):1242. #Correct:88 #Tested:175 Testing Accuracy:50.2%\r",
      "Progress:17.5% Speed(reviews/sec):1249. #Correct:88 #Tested:176 Testing Accuracy:50.0%\r",
      "Progress:17.6% Speed(reviews/sec):1248. #Correct:89 #Tested:177 Testing Accuracy:50.2%\r",
      "Progress:17.7% Speed(reviews/sec):1255. #Correct:89 #Tested:178 Testing Accuracy:50.0%\r",
      "Progress:17.8% Speed(reviews/sec):1253. #Correct:90 #Tested:179 Testing Accuracy:50.2%\r",
      "Progress:17.9% Speed(reviews/sec):1260. #Correct:90 #Tested:180 Testing Accuracy:50.0%\r",
      "Progress:18.0% Speed(reviews/sec):1258. #Correct:91 #Tested:181 Testing Accuracy:50.2%\r",
      "Progress:18.1% Speed(reviews/sec):1256. #Correct:91 #Tested:182 Testing Accuracy:50.0%\r",
      "Progress:18.2% Speed(reviews/sec):1263. #Correct:92 #Tested:183 Testing Accuracy:50.2%\r",
      "Progress:18.3% Speed(reviews/sec):1261. #Correct:92 #Tested:184 Testing Accuracy:50.0%\r",
      "Progress:18.4% Speed(reviews/sec):1260. #Correct:93 #Tested:185 Testing Accuracy:50.2%\r",
      "Progress:18.5% Speed(reviews/sec):1267. #Correct:93 #Tested:186 Testing Accuracy:50.0%\r",
      "Progress:18.6% Speed(reviews/sec):1265. #Correct:94 #Tested:187 Testing Accuracy:50.2%\r",
      "Progress:18.7% Speed(reviews/sec):1272. #Correct:94 #Tested:188 Testing Accuracy:50.0%\r",
      "Progress:18.8% Speed(reviews/sec):1270. #Correct:95 #Tested:189 Testing Accuracy:50.2%\r",
      "Progress:18.9% Speed(reviews/sec):1268. #Correct:95 #Tested:190 Testing Accuracy:50.0%\r",
      "Progress:19.0% Speed(reviews/sec):1275. #Correct:96 #Tested:191 Testing Accuracy:50.2%\r",
      "Progress:19.1% Speed(reviews/sec):1273. #Correct:96 #Tested:192 Testing Accuracy:50.0%\r",
      "Progress:19.2% Speed(reviews/sec):1271. #Correct:97 #Tested:193 Testing Accuracy:50.2%\r",
      "Progress:19.3% Speed(reviews/sec):1278. #Correct:97 #Tested:194 Testing Accuracy:50.0%\r",
      "Progress:19.4% Speed(reviews/sec):1276. #Correct:98 #Tested:195 Testing Accuracy:50.2%\r",
      "Progress:19.5% Speed(reviews/sec):1274. #Correct:98 #Tested:196 Testing Accuracy:50.0%\r",
      "Progress:19.6% Speed(reviews/sec):1272. #Correct:99 #Tested:197 Testing Accuracy:50.2%\r",
      "Progress:19.7% Speed(reviews/sec):1271. #Correct:99 #Tested:198 Testing Accuracy:50.0%\r",
      "Progress:19.8% Speed(reviews/sec):1269. #Correct:100 #Tested:199 Testing Accuracy:50.2%\r",
      "Progress:19.9% Speed(reviews/sec):1275. #Correct:100 #Tested:200 Testing Accuracy:50.0%\r",
      "Progress:20.0% Speed(reviews/sec):1274. #Correct:101 #Tested:201 Testing Accuracy:50.2%\r",
      "Progress:20.1% Speed(reviews/sec):1280. #Correct:101 #Tested:202 Testing Accuracy:50.0%\r",
      "Progress:20.2% Speed(reviews/sec):1276. #Correct:102 #Tested:203 Testing Accuracy:50.2%\r",
      "Progress:20.3% Speed(reviews/sec):1275. #Correct:102 #Tested:204 Testing Accuracy:50.0%\r",
      "Progress:20.4% Speed(reviews/sec):1281. #Correct:103 #Tested:205 Testing Accuracy:50.2%\r",
      "Progress:20.5% Speed(reviews/sec):1279. #Correct:103 #Tested:206 Testing Accuracy:50.0%\r",
      "Progress:20.6% Speed(reviews/sec):1285. #Correct:104 #Tested:207 Testing Accuracy:50.2%\r",
      "Progress:20.7% Speed(reviews/sec):1284. #Correct:104 #Tested:208 Testing Accuracy:50.0%\r",
      "Progress:20.8% Speed(reviews/sec):1282. #Correct:105 #Tested:209 Testing Accuracy:50.2%\r",
      "Progress:20.9% Speed(reviews/sec):1288. #Correct:105 #Tested:210 Testing Accuracy:50.0%\r",
      "Progress:21.0% Speed(reviews/sec):1294. #Correct:106 #Tested:211 Testing Accuracy:50.2%\r",
      "Progress:21.1% Speed(reviews/sec):1292. #Correct:106 #Tested:212 Testing Accuracy:50.0%\r",
      "Progress:21.2% Speed(reviews/sec):1291. #Correct:107 #Tested:213 Testing Accuracy:50.2%\r",
      "Progress:21.3% Speed(reviews/sec):1297. #Correct:107 #Tested:214 Testing Accuracy:50.0%\r",
      "Progress:21.4% Speed(reviews/sec):1295. #Correct:108 #Tested:215 Testing Accuracy:50.2%\r",
      "Progress:21.5% Speed(reviews/sec):1301. #Correct:108 #Tested:216 Testing Accuracy:50.0%\r",
      "Progress:21.6% Speed(reviews/sec):1299. #Correct:109 #Tested:217 Testing Accuracy:50.2%\r",
      "Progress:21.7% Speed(reviews/sec):1298. #Correct:109 #Tested:218 Testing Accuracy:50.0%\r",
      "Progress:21.8% Speed(reviews/sec):1303. #Correct:110 #Tested:219 Testing Accuracy:50.2%\r",
      "Progress:21.9% Speed(reviews/sec):1302. #Correct:110 #Tested:220 Testing Accuracy:50.0%\r",
      "Progress:22.0% Speed(reviews/sec):1308. #Correct:111 #Tested:221 Testing Accuracy:50.2%\r",
      "Progress:22.1% Speed(reviews/sec):1306. #Correct:111 #Tested:222 Testing Accuracy:50.0%\r",
      "Progress:22.2% Speed(reviews/sec):1304. #Correct:112 #Tested:223 Testing Accuracy:50.2%\r",
      "Progress:22.3% Speed(reviews/sec):1302. #Correct:112 #Tested:224 Testing Accuracy:50.0%\r",
      "Progress:22.4% Speed(reviews/sec):1308. #Correct:113 #Tested:225 Testing Accuracy:50.2%\r",
      "Progress:22.5% Speed(reviews/sec):1306. #Correct:113 #Tested:226 Testing Accuracy:50.0%\r",
      "Progress:22.6% Speed(reviews/sec):1305. #Correct:114 #Tested:227 Testing Accuracy:50.2%\r",
      "Progress:22.7% Speed(reviews/sec):1310. #Correct:114 #Tested:228 Testing Accuracy:50.0%\r",
      "Progress:22.8% Speed(reviews/sec):1309. #Correct:115 #Tested:229 Testing Accuracy:50.2%\r",
      "Progress:22.9% Speed(reviews/sec):1314. #Correct:115 #Tested:230 Testing Accuracy:50.0%\r",
      "Progress:23.0% Speed(reviews/sec):1313. #Correct:116 #Tested:231 Testing Accuracy:50.2%\r",
      "Progress:23.1% Speed(reviews/sec):1318. #Correct:116 #Tested:232 Testing Accuracy:50.0%\r",
      "Progress:23.2% Speed(reviews/sec):1317. #Correct:117 #Tested:233 Testing Accuracy:50.2%\r",
      "Progress:23.3% Speed(reviews/sec):1315. #Correct:117 #Tested:234 Testing Accuracy:50.0%\r",
      "Progress:23.4% Speed(reviews/sec):1320. #Correct:118 #Tested:235 Testing Accuracy:50.2%\r",
      "Progress:23.5% Speed(reviews/sec):1319. #Correct:118 #Tested:236 Testing Accuracy:50.0%\r",
      "Progress:23.6% Speed(reviews/sec):1317. #Correct:119 #Tested:237 Testing Accuracy:50.2%\r",
      "Progress:23.7% Speed(reviews/sec):1322. #Correct:119 #Tested:238 Testing Accuracy:50.0%\r",
      "Progress:23.8% Speed(reviews/sec):1321. #Correct:120 #Tested:239 Testing Accuracy:50.2%\r",
      "Progress:23.9% Speed(reviews/sec):1326. #Correct:120 #Tested:240 Testing Accuracy:50.0%\r",
      "Progress:24.0% Speed(reviews/sec):1324. #Correct:121 #Tested:241 Testing Accuracy:50.2%\r",
      "Progress:24.1% Speed(reviews/sec):1323. #Correct:121 #Tested:242 Testing Accuracy:50.0%\r",
      "Progress:24.2% Speed(reviews/sec):1328. #Correct:122 #Tested:243 Testing Accuracy:50.2%\r",
      "Progress:24.3% Speed(reviews/sec):1326. #Correct:122 #Tested:244 Testing Accuracy:50.0%\r",
      "Progress:24.4% Speed(reviews/sec):1332. #Correct:123 #Tested:245 Testing Accuracy:50.2%\r",
      "Progress:24.5% Speed(reviews/sec):1330. #Correct:123 #Tested:246 Testing Accuracy:50.0%\r",
      "Progress:24.6% Speed(reviews/sec):1335. #Correct:124 #Tested:247 Testing Accuracy:50.2%\r",
      "Progress:24.7% Speed(reviews/sec):1334. #Correct:124 #Tested:248 Testing Accuracy:50.0%\r",
      "Progress:24.8% Speed(reviews/sec):1339. #Correct:125 #Tested:249 Testing Accuracy:50.2%\r",
      "Progress:24.9% Speed(reviews/sec):1337. #Correct:125 #Tested:250 Testing Accuracy:50.0%\r",
      "Progress:25.0% Speed(reviews/sec):1336. #Correct:126 #Tested:251 Testing Accuracy:50.1%\r",
      "Progress:25.1% Speed(reviews/sec):1341. #Correct:126 #Tested:252 Testing Accuracy:50.0%\r",
      "Progress:25.2% Speed(reviews/sec):1339. #Correct:127 #Tested:253 Testing Accuracy:50.1%\r",
      "Progress:25.3% Speed(reviews/sec):1337. #Correct:127 #Tested:254 Testing Accuracy:50.0%\r",
      "Progress:25.4% Speed(reviews/sec):1343. #Correct:128 #Tested:255 Testing Accuracy:50.1%\r",
      "Progress:25.5% Speed(reviews/sec):1341. #Correct:128 #Tested:256 Testing Accuracy:50.0%\r",
      "Progress:25.6% Speed(reviews/sec):1346. #Correct:129 #Tested:257 Testing Accuracy:50.1%\r",
      "Progress:25.7% Speed(reviews/sec):1344. #Correct:129 #Tested:258 Testing Accuracy:50.0%\r",
      "Progress:25.8% Speed(reviews/sec):1349. #Correct:130 #Tested:259 Testing Accuracy:50.1%\r",
      "Progress:25.9% Speed(reviews/sec):1348. #Correct:130 #Tested:260 Testing Accuracy:50.0%\r",
      "Progress:26.0% Speed(reviews/sec):1353. #Correct:131 #Tested:261 Testing Accuracy:50.1%\r",
      "Progress:26.1% Speed(reviews/sec):1351. #Correct:131 #Tested:262 Testing Accuracy:50.0%\r",
      "Progress:26.2% Speed(reviews/sec):1356. #Correct:132 #Tested:263 Testing Accuracy:50.1%\r",
      "Progress:26.3% Speed(reviews/sec):1354. #Correct:132 #Tested:264 Testing Accuracy:50.0%\r",
      "Progress:26.4% Speed(reviews/sec):1353. #Correct:133 #Tested:265 Testing Accuracy:50.1%\r",
      "Progress:26.5% Speed(reviews/sec):1358. #Correct:133 #Tested:266 Testing Accuracy:50.0%\r",
      "Progress:26.6% Speed(reviews/sec):1356. #Correct:134 #Tested:267 Testing Accuracy:50.1%\r",
      "Progress:26.7% Speed(reviews/sec):1361. #Correct:134 #Tested:268 Testing Accuracy:50.0%\r",
      "Progress:26.8% Speed(reviews/sec):1359. #Correct:135 #Tested:269 Testing Accuracy:50.1%\r",
      "Progress:26.9% Speed(reviews/sec):1357. #Correct:135 #Tested:270 Testing Accuracy:50.0%\r",
      "Progress:27.0% Speed(reviews/sec):1362. #Correct:136 #Tested:271 Testing Accuracy:50.1%\r",
      "Progress:27.1% Speed(reviews/sec):1361. #Correct:136 #Tested:272 Testing Accuracy:50.0%\r",
      "Progress:27.2% Speed(reviews/sec):1366. #Correct:137 #Tested:273 Testing Accuracy:50.1%\r",
      "Progress:27.3% Speed(reviews/sec):1364. #Correct:137 #Tested:274 Testing Accuracy:50.0%\r",
      "Progress:27.4% Speed(reviews/sec):1362. #Correct:138 #Tested:275 Testing Accuracy:50.1%\r",
      "Progress:27.5% Speed(reviews/sec):1367. #Correct:138 #Tested:276 Testing Accuracy:50.0%\r",
      "Progress:27.6% Speed(reviews/sec):1365. #Correct:139 #Tested:277 Testing Accuracy:50.1%\r",
      "Progress:27.7% Speed(reviews/sec):1370. #Correct:139 #Tested:278 Testing Accuracy:50.0%\r",
      "Progress:27.8% Speed(reviews/sec):1368. #Correct:140 #Tested:279 Testing Accuracy:50.1%\r",
      "Progress:27.9% Speed(reviews/sec):1373. #Correct:140 #Tested:280 Testing Accuracy:50.0%\r",
      "Progress:28.0% Speed(reviews/sec):1372. #Correct:141 #Tested:281 Testing Accuracy:50.1%\r",
      "Progress:28.1% Speed(reviews/sec):1376. #Correct:141 #Tested:282 Testing Accuracy:50.0%\r",
      "Progress:28.2% Speed(reviews/sec):1375. #Correct:142 #Tested:283 Testing Accuracy:50.1%\r",
      "Progress:28.3% Speed(reviews/sec):1373. #Correct:142 #Tested:284 Testing Accuracy:50.0%\r",
      "Progress:28.4% Speed(reviews/sec):1378. #Correct:143 #Tested:285 Testing Accuracy:50.1%\r",
      "Progress:28.5% Speed(reviews/sec):1376. #Correct:143 #Tested:286 Testing Accuracy:50.0%\r",
      "Progress:28.6% Speed(reviews/sec):1381. #Correct:144 #Tested:287 Testing Accuracy:50.1%\r",
      "Progress:28.7% Speed(reviews/sec):1379. #Correct:144 #Tested:288 Testing Accuracy:50.0%"
     ]
    },
    {
     "name": "stdout",
     "output_type": "stream",
     "text": [
      "\r",
      "Progress:28.8% Speed(reviews/sec):1377. #Correct:145 #Tested:289 Testing Accuracy:50.1%\r",
      "Progress:28.9% Speed(reviews/sec):1375. #Correct:145 #Tested:290 Testing Accuracy:50.0%\r",
      "Progress:29.0% Speed(reviews/sec):1380. #Correct:146 #Tested:291 Testing Accuracy:50.1%\r",
      "Progress:29.1% Speed(reviews/sec):1378. #Correct:146 #Tested:292 Testing Accuracy:50.0%\r",
      "Progress:29.2% Speed(reviews/sec):1383. #Correct:147 #Tested:293 Testing Accuracy:50.1%\r",
      "Progress:29.3% Speed(reviews/sec):1381. #Correct:147 #Tested:294 Testing Accuracy:50.0%\r",
      "Progress:29.4% Speed(reviews/sec):1386. #Correct:148 #Tested:295 Testing Accuracy:50.1%\r",
      "Progress:29.5% Speed(reviews/sec):1384. #Correct:148 #Tested:296 Testing Accuracy:50.0%\r",
      "Progress:29.6% Speed(reviews/sec):1382. #Correct:149 #Tested:297 Testing Accuracy:50.1%\r",
      "Progress:29.7% Speed(reviews/sec):1387. #Correct:149 #Tested:298 Testing Accuracy:50.0%\r",
      "Progress:29.8% Speed(reviews/sec):1385. #Correct:150 #Tested:299 Testing Accuracy:50.1%\r",
      "Progress:29.9% Speed(reviews/sec):1390. #Correct:150 #Tested:300 Testing Accuracy:50.0%\r",
      "Progress:30.0% Speed(reviews/sec):1388. #Correct:151 #Tested:301 Testing Accuracy:50.1%\r",
      "Progress:30.1% Speed(reviews/sec):1386. #Correct:151 #Tested:302 Testing Accuracy:50.0%\r",
      "Progress:30.2% Speed(reviews/sec):1385. #Correct:152 #Tested:303 Testing Accuracy:50.1%\r",
      "Progress:30.3% Speed(reviews/sec):1389. #Correct:152 #Tested:304 Testing Accuracy:50.0%\r",
      "Progress:30.4% Speed(reviews/sec):1387. #Correct:153 #Tested:305 Testing Accuracy:50.1%\r",
      "Progress:30.5% Speed(reviews/sec):1386. #Correct:153 #Tested:306 Testing Accuracy:50.0%\r",
      "Progress:30.6% Speed(reviews/sec):1384. #Correct:154 #Tested:307 Testing Accuracy:50.1%\r",
      "Progress:30.7% Speed(reviews/sec):1388. #Correct:154 #Tested:308 Testing Accuracy:50.0%\r",
      "Progress:30.8% Speed(reviews/sec):1387. #Correct:155 #Tested:309 Testing Accuracy:50.1%\r",
      "Progress:30.9% Speed(reviews/sec):1391. #Correct:155 #Tested:310 Testing Accuracy:50.0%\r",
      "Progress:31.0% Speed(reviews/sec):1389. #Correct:156 #Tested:311 Testing Accuracy:50.1%\r",
      "Progress:31.1% Speed(reviews/sec):1394. #Correct:156 #Tested:312 Testing Accuracy:50.0%\r",
      "Progress:31.2% Speed(reviews/sec):1392. #Correct:157 #Tested:313 Testing Accuracy:50.1%\r",
      "Progress:31.3% Speed(reviews/sec):1397. #Correct:157 #Tested:314 Testing Accuracy:50.0%\r",
      "Progress:31.4% Speed(reviews/sec):1395. #Correct:158 #Tested:315 Testing Accuracy:50.1%\r",
      "Progress:31.5% Speed(reviews/sec):1399. #Correct:158 #Tested:316 Testing Accuracy:50.0%\r",
      "Progress:31.6% Speed(reviews/sec):1398. #Correct:159 #Tested:317 Testing Accuracy:50.1%\r",
      "Progress:31.7% Speed(reviews/sec):1396. #Correct:159 #Tested:318 Testing Accuracy:50.0%\r",
      "Progress:31.8% Speed(reviews/sec):1400. #Correct:160 #Tested:319 Testing Accuracy:50.1%\r",
      "Progress:31.9% Speed(reviews/sec):1405. #Correct:160 #Tested:320 Testing Accuracy:50.0%\r",
      "Progress:32.0% Speed(reviews/sec):1403. #Correct:161 #Tested:321 Testing Accuracy:50.1%\r",
      "Progress:32.1% Speed(reviews/sec):1407. #Correct:161 #Tested:322 Testing Accuracy:50.0%\r",
      "Progress:32.2% Speed(reviews/sec):1406. #Correct:162 #Tested:323 Testing Accuracy:50.1%\r",
      "Progress:32.3% Speed(reviews/sec):1410. #Correct:162 #Tested:324 Testing Accuracy:50.0%\r",
      "Progress:32.4% Speed(reviews/sec):1408. #Correct:163 #Tested:325 Testing Accuracy:50.1%\r",
      "Progress:32.5% Speed(reviews/sec):1412. #Correct:163 #Tested:326 Testing Accuracy:50.0%\r",
      "Progress:32.6% Speed(reviews/sec):1411. #Correct:164 #Tested:327 Testing Accuracy:50.1%\r",
      "Progress:32.7% Speed(reviews/sec):1415. #Correct:164 #Tested:328 Testing Accuracy:50.0%\r",
      "Progress:32.8% Speed(reviews/sec):1413. #Correct:165 #Tested:329 Testing Accuracy:50.1%\r",
      "Progress:32.9% Speed(reviews/sec):1418. #Correct:165 #Tested:330 Testing Accuracy:50.0%\r",
      "Progress:33.0% Speed(reviews/sec):1416. #Correct:166 #Tested:331 Testing Accuracy:50.1%\r",
      "Progress:33.1% Speed(reviews/sec):1420. #Correct:166 #Tested:332 Testing Accuracy:50.0%\r",
      "Progress:33.2% Speed(reviews/sec):1418. #Correct:167 #Tested:333 Testing Accuracy:50.1%\r",
      "Progress:33.3% Speed(reviews/sec):1417. #Correct:167 #Tested:334 Testing Accuracy:50.0%\r",
      "Progress:33.4% Speed(reviews/sec):1421. #Correct:168 #Tested:335 Testing Accuracy:50.1%\r",
      "Progress:33.5% Speed(reviews/sec):1419. #Correct:168 #Tested:336 Testing Accuracy:50.0%\r",
      "Progress:33.6% Speed(reviews/sec):1423. #Correct:169 #Tested:337 Testing Accuracy:50.1%\r",
      "Progress:33.7% Speed(reviews/sec):1421. #Correct:169 #Tested:338 Testing Accuracy:50.0%\r",
      "Progress:33.8% Speed(reviews/sec):1421. #Correct:170 #Tested:339 Testing Accuracy:50.1%\r",
      "Progress:33.9% Speed(reviews/sec):1420. #Correct:170 #Tested:340 Testing Accuracy:50.0%\r",
      "Progress:34.0% Speed(reviews/sec):1424. #Correct:171 #Tested:341 Testing Accuracy:50.1%\r",
      "Progress:34.1% Speed(reviews/sec):1422. #Correct:171 #Tested:342 Testing Accuracy:50.0%\r",
      "Progress:34.2% Speed(reviews/sec):1420. #Correct:172 #Tested:343 Testing Accuracy:50.1%\r",
      "Progress:34.3% Speed(reviews/sec):1425. #Correct:172 #Tested:344 Testing Accuracy:50.0%\r",
      "Progress:34.4% Speed(reviews/sec):1423. #Correct:173 #Tested:345 Testing Accuracy:50.1%\r",
      "Progress:34.5% Speed(reviews/sec):1427. #Correct:173 #Tested:346 Testing Accuracy:50.0%\r",
      "Progress:34.6% Speed(reviews/sec):1425. #Correct:174 #Tested:347 Testing Accuracy:50.1%\r",
      "Progress:34.7% Speed(reviews/sec):1423. #Correct:174 #Tested:348 Testing Accuracy:50.0%\r",
      "Progress:34.8% Speed(reviews/sec):1428. #Correct:175 #Tested:349 Testing Accuracy:50.1%\r",
      "Progress:34.9% Speed(reviews/sec):1426. #Correct:175 #Tested:350 Testing Accuracy:50.0%\r",
      "Progress:35.0% Speed(reviews/sec):1430. #Correct:176 #Tested:351 Testing Accuracy:50.1%\r",
      "Progress:35.1% Speed(reviews/sec):1428. #Correct:176 #Tested:352 Testing Accuracy:50.0%\r",
      "Progress:35.2% Speed(reviews/sec):1432. #Correct:177 #Tested:353 Testing Accuracy:50.1%\r",
      "Progress:35.3% Speed(reviews/sec):1431. #Correct:177 #Tested:354 Testing Accuracy:50.0%\r",
      "Progress:35.4% Speed(reviews/sec):1432. #Correct:178 #Tested:355 Testing Accuracy:50.1%\r",
      "Progress:35.5% Speed(reviews/sec):1436. #Correct:178 #Tested:356 Testing Accuracy:50.0%\r",
      "Progress:35.6% Speed(reviews/sec):1434. #Correct:179 #Tested:357 Testing Accuracy:50.1%\r",
      "Progress:35.7% Speed(reviews/sec):1432. #Correct:179 #Tested:358 Testing Accuracy:50.0%\r",
      "Progress:35.8% Speed(reviews/sec):1436. #Correct:180 #Tested:359 Testing Accuracy:50.1%\r",
      "Progress:35.9% Speed(reviews/sec):1434. #Correct:180 #Tested:360 Testing Accuracy:50.0%\r",
      "Progress:36.0% Speed(reviews/sec):1438. #Correct:181 #Tested:361 Testing Accuracy:50.1%\r",
      "Progress:36.1% Speed(reviews/sec):1437. #Correct:181 #Tested:362 Testing Accuracy:50.0%\r",
      "Progress:36.2% Speed(reviews/sec):1441. #Correct:182 #Tested:363 Testing Accuracy:50.1%\r",
      "Progress:36.3% Speed(reviews/sec):1439. #Correct:182 #Tested:364 Testing Accuracy:50.0%\r",
      "Progress:36.4% Speed(reviews/sec):1443. #Correct:183 #Tested:365 Testing Accuracy:50.1%\r",
      "Progress:36.5% Speed(reviews/sec):1441. #Correct:183 #Tested:366 Testing Accuracy:50.0%\r",
      "Progress:36.6% Speed(reviews/sec):1445. #Correct:184 #Tested:367 Testing Accuracy:50.1%\r",
      "Progress:36.7% Speed(reviews/sec):1443. #Correct:184 #Tested:368 Testing Accuracy:50.0%\r",
      "Progress:36.8% Speed(reviews/sec):1447. #Correct:185 #Tested:369 Testing Accuracy:50.1%\r",
      "Progress:36.9% Speed(reviews/sec):1446. #Correct:185 #Tested:370 Testing Accuracy:50.0%\r",
      "Progress:37.0% Speed(reviews/sec):1444. #Correct:186 #Tested:371 Testing Accuracy:50.1%\r",
      "Progress:37.1% Speed(reviews/sec):1448. #Correct:186 #Tested:372 Testing Accuracy:50.0%\r",
      "Progress:37.2% Speed(reviews/sec):1446. #Correct:187 #Tested:373 Testing Accuracy:50.1%\r",
      "Progress:37.3% Speed(reviews/sec):1450. #Correct:187 #Tested:374 Testing Accuracy:50.0%\r",
      "Progress:37.4% Speed(reviews/sec):1448. #Correct:188 #Tested:375 Testing Accuracy:50.1%\r",
      "Progress:37.5% Speed(reviews/sec):1452. #Correct:188 #Tested:376 Testing Accuracy:50.0%\r",
      "Progress:37.6% Speed(reviews/sec):1450. #Correct:189 #Tested:377 Testing Accuracy:50.1%\r",
      "Progress:37.7% Speed(reviews/sec):1454. #Correct:189 #Tested:378 Testing Accuracy:50.0%\r",
      "Progress:37.8% Speed(reviews/sec):1452. #Correct:190 #Tested:379 Testing Accuracy:50.1%\r",
      "Progress:37.9% Speed(reviews/sec):1456. #Correct:190 #Tested:380 Testing Accuracy:50.0%\r",
      "Progress:38.0% Speed(reviews/sec):1455. #Correct:191 #Tested:381 Testing Accuracy:50.1%\r",
      "Progress:38.1% Speed(reviews/sec):1458. #Correct:191 #Tested:382 Testing Accuracy:50.0%\r",
      "Progress:38.2% Speed(reviews/sec):1457. #Correct:192 #Tested:383 Testing Accuracy:50.1%\r",
      "Progress:38.3% Speed(reviews/sec):1461. #Correct:192 #Tested:384 Testing Accuracy:50.0%\r",
      "Progress:38.4% Speed(reviews/sec):1459. #Correct:193 #Tested:385 Testing Accuracy:50.1%\r",
      "Progress:38.5% Speed(reviews/sec):1463. #Correct:193 #Tested:386 Testing Accuracy:50.0%\r",
      "Progress:38.6% Speed(reviews/sec):1461. #Correct:194 #Tested:387 Testing Accuracy:50.1%\r",
      "Progress:38.7% Speed(reviews/sec):1465. #Correct:194 #Tested:388 Testing Accuracy:50.0%\r",
      "Progress:38.8% Speed(reviews/sec):1463. #Correct:195 #Tested:389 Testing Accuracy:50.1%\r",
      "Progress:38.9% Speed(reviews/sec):1467. #Correct:195 #Tested:390 Testing Accuracy:50.0%\r",
      "Progress:39.0% Speed(reviews/sec):1465. #Correct:196 #Tested:391 Testing Accuracy:50.1%\r",
      "Progress:39.1% Speed(reviews/sec):1469. #Correct:196 #Tested:392 Testing Accuracy:50.0%\r",
      "Progress:39.2% Speed(reviews/sec):1467. #Correct:197 #Tested:393 Testing Accuracy:50.1%\r",
      "Progress:39.3% Speed(reviews/sec):1471. #Correct:197 #Tested:394 Testing Accuracy:50.0%\r",
      "Progress:39.4% Speed(reviews/sec):1469. #Correct:198 #Tested:395 Testing Accuracy:50.1%\r",
      "Progress:39.5% Speed(reviews/sec):1473. #Correct:198 #Tested:396 Testing Accuracy:50.0%\r",
      "Progress:39.6% Speed(reviews/sec):1471. #Correct:199 #Tested:397 Testing Accuracy:50.1%\r",
      "Progress:39.7% Speed(reviews/sec):1475. #Correct:199 #Tested:398 Testing Accuracy:50.0%\r",
      "Progress:39.8% Speed(reviews/sec):1473. #Correct:200 #Tested:399 Testing Accuracy:50.1%\r",
      "Progress:39.9% Speed(reviews/sec):1471. #Correct:200 #Tested:400 Testing Accuracy:50.0%\r",
      "Progress:40.0% Speed(reviews/sec):1475. #Correct:201 #Tested:401 Testing Accuracy:50.1%\r",
      "Progress:40.1% Speed(reviews/sec):1473. #Correct:201 #Tested:402 Testing Accuracy:50.0%\r",
      "Progress:40.2% Speed(reviews/sec):1477. #Correct:202 #Tested:403 Testing Accuracy:50.1%\r",
      "Progress:40.3% Speed(reviews/sec):1480. #Correct:202 #Tested:404 Testing Accuracy:50.0%\r",
      "Progress:40.4% Speed(reviews/sec):1479. #Correct:203 #Tested:405 Testing Accuracy:50.1%\r",
      "Progress:40.5% Speed(reviews/sec):1482. #Correct:203 #Tested:406 Testing Accuracy:50.0%\r",
      "Progress:40.6% Speed(reviews/sec):1481. #Correct:204 #Tested:407 Testing Accuracy:50.1%\r",
      "Progress:40.7% Speed(reviews/sec):1484. #Correct:204 #Tested:408 Testing Accuracy:50.0%\r",
      "Progress:40.8% Speed(reviews/sec):1483. #Correct:205 #Tested:409 Testing Accuracy:50.1%\r",
      "Progress:40.9% Speed(reviews/sec):1486. #Correct:205 #Tested:410 Testing Accuracy:50.0%\r",
      "Progress:41.0% Speed(reviews/sec):1484. #Correct:206 #Tested:411 Testing Accuracy:50.1%\r",
      "Progress:41.1% Speed(reviews/sec):1488. #Correct:206 #Tested:412 Testing Accuracy:50.0%\r",
      "Progress:41.2% Speed(reviews/sec):1486. #Correct:207 #Tested:413 Testing Accuracy:50.1%\r",
      "Progress:41.3% Speed(reviews/sec):1490. #Correct:207 #Tested:414 Testing Accuracy:50.0%\r",
      "Progress:41.4% Speed(reviews/sec):1488. #Correct:208 #Tested:415 Testing Accuracy:50.1%\r",
      "Progress:41.5% Speed(reviews/sec):1492. #Correct:208 #Tested:416 Testing Accuracy:50.0%\r",
      "Progress:41.6% Speed(reviews/sec):1490. #Correct:209 #Tested:417 Testing Accuracy:50.1%\r",
      "Progress:41.7% Speed(reviews/sec):1488. #Correct:209 #Tested:418 Testing Accuracy:50.0%\r",
      "Progress:41.8% Speed(reviews/sec):1492. #Correct:210 #Tested:419 Testing Accuracy:50.1%\r",
      "Progress:41.9% Speed(reviews/sec):1490. #Correct:210 #Tested:420 Testing Accuracy:50.0%\r",
      "Progress:42.0% Speed(reviews/sec):1494. #Correct:211 #Tested:421 Testing Accuracy:50.1%\r",
      "Progress:42.1% Speed(reviews/sec):1492. #Correct:211 #Tested:422 Testing Accuracy:50.0%\r",
      "Progress:42.2% Speed(reviews/sec):1495. #Correct:212 #Tested:423 Testing Accuracy:50.1%\r",
      "Progress:42.3% Speed(reviews/sec):1499. #Correct:212 #Tested:424 Testing Accuracy:50.0%\r",
      "Progress:42.4% Speed(reviews/sec):1497. #Correct:213 #Tested:425 Testing Accuracy:50.1%\r",
      "Progress:42.5% Speed(reviews/sec):1496. #Correct:213 #Tested:426 Testing Accuracy:50.0%\r",
      "Progress:42.6% Speed(reviews/sec):1499. #Correct:214 #Tested:427 Testing Accuracy:50.1%\r",
      "Progress:42.7% Speed(reviews/sec):1497. #Correct:214 #Tested:428 Testing Accuracy:50.0%\r",
      "Progress:42.8% Speed(reviews/sec):1501. #Correct:215 #Tested:429 Testing Accuracy:50.1%\r",
      "Progress:42.9% Speed(reviews/sec):1504. #Correct:215 #Tested:430 Testing Accuracy:50.0%\r",
      "Progress:43.0% Speed(reviews/sec):1503. #Correct:216 #Tested:431 Testing Accuracy:50.1%\r",
      "Progress:43.1% Speed(reviews/sec):1501. #Correct:216 #Tested:432 Testing Accuracy:50.0%\r",
      "Progress:43.2% Speed(reviews/sec):1504. #Correct:217 #Tested:433 Testing Accuracy:50.1%\r",
      "Progress:43.3% Speed(reviews/sec):1503. #Correct:217 #Tested:434 Testing Accuracy:50.0%\r",
      "Progress:43.4% Speed(reviews/sec):1506. #Correct:218 #Tested:435 Testing Accuracy:50.1%\r",
      "Progress:43.5% Speed(reviews/sec):1504. #Correct:218 #Tested:436 Testing Accuracy:50.0%\r",
      "Progress:43.6% Speed(reviews/sec):1508. #Correct:219 #Tested:437 Testing Accuracy:50.1%\r",
      "Progress:43.7% Speed(reviews/sec):1506. #Correct:219 #Tested:438 Testing Accuracy:50.0%\r",
      "Progress:43.8% Speed(reviews/sec):1504. #Correct:220 #Tested:439 Testing Accuracy:50.1%\r",
      "Progress:43.9% Speed(reviews/sec):1508. #Correct:220 #Tested:440 Testing Accuracy:50.0%\r",
      "Progress:44.0% Speed(reviews/sec):1506. #Correct:221 #Tested:441 Testing Accuracy:50.1%\r",
      "Progress:44.1% Speed(reviews/sec):1509. #Correct:221 #Tested:442 Testing Accuracy:50.0%\r",
      "Progress:44.2% Speed(reviews/sec):1508. #Correct:222 #Tested:443 Testing Accuracy:50.1%\r",
      "Progress:44.3% Speed(reviews/sec):1511. #Correct:222 #Tested:444 Testing Accuracy:50.0%\r",
      "Progress:44.4% Speed(reviews/sec):1509. #Correct:223 #Tested:445 Testing Accuracy:50.1%\r",
      "Progress:44.5% Speed(reviews/sec):1513. #Correct:223 #Tested:446 Testing Accuracy:50.0%\r",
      "Progress:44.6% Speed(reviews/sec):1511. #Correct:224 #Tested:447 Testing Accuracy:50.1%\r",
      "Progress:44.7% Speed(reviews/sec):1509. #Correct:224 #Tested:448 Testing Accuracy:50.0%\r",
      "Progress:44.8% Speed(reviews/sec):1513. #Correct:225 #Tested:449 Testing Accuracy:50.1%\r",
      "Progress:44.9% Speed(reviews/sec):1511. #Correct:225 #Tested:450 Testing Accuracy:50.0%\r",
      "Progress:45.0% Speed(reviews/sec):1514. #Correct:226 #Tested:451 Testing Accuracy:50.1%\r",
      "Progress:45.1% Speed(reviews/sec):1513. #Correct:226 #Tested:452 Testing Accuracy:50.0%\r",
      "Progress:45.2% Speed(reviews/sec):1516. #Correct:227 #Tested:453 Testing Accuracy:50.1%\r",
      "Progress:45.3% Speed(reviews/sec):1514. #Correct:227 #Tested:454 Testing Accuracy:50.0%\r",
      "Progress:45.4% Speed(reviews/sec):1518. #Correct:228 #Tested:455 Testing Accuracy:50.1%\r",
      "Progress:45.5% Speed(reviews/sec):1516. #Correct:228 #Tested:456 Testing Accuracy:50.0%\r",
      "Progress:45.6% Speed(reviews/sec):1519. #Correct:229 #Tested:457 Testing Accuracy:50.1%\r",
      "Progress:45.7% Speed(reviews/sec):1518. #Correct:229 #Tested:458 Testing Accuracy:50.0%\r",
      "Progress:45.8% Speed(reviews/sec):1521. #Correct:230 #Tested:459 Testing Accuracy:50.1%\r",
      "Progress:45.9% Speed(reviews/sec):1519. #Correct:230 #Tested:460 Testing Accuracy:50.0%\r",
      "Progress:46.0% Speed(reviews/sec):1517. #Correct:231 #Tested:461 Testing Accuracy:50.1%\r",
      "Progress:46.1% Speed(reviews/sec):1521. #Correct:231 #Tested:462 Testing Accuracy:50.0%\r",
      "Progress:46.2% Speed(reviews/sec):1519. #Correct:232 #Tested:463 Testing Accuracy:50.1%\r",
      "Progress:46.3% Speed(reviews/sec):1522. #Correct:232 #Tested:464 Testing Accuracy:50.0%\r",
      "Progress:46.4% Speed(reviews/sec):1521. #Correct:233 #Tested:465 Testing Accuracy:50.1%\r",
      "Progress:46.5% Speed(reviews/sec):1524. #Correct:233 #Tested:466 Testing Accuracy:50.0%\r",
      "Progress:46.6% Speed(reviews/sec):1522. #Correct:234 #Tested:467 Testing Accuracy:50.1%\r",
      "Progress:46.7% Speed(reviews/sec):1525. #Correct:234 #Tested:468 Testing Accuracy:50.0%\r",
      "Progress:46.8% Speed(reviews/sec):1524. #Correct:235 #Tested:469 Testing Accuracy:50.1%\r",
      "Progress:46.9% Speed(reviews/sec):1527. #Correct:235 #Tested:470 Testing Accuracy:50.0%\r",
      "Progress:47.0% Speed(reviews/sec):1525. #Correct:236 #Tested:471 Testing Accuracy:50.1%\r",
      "Progress:47.1% Speed(reviews/sec):1524. #Correct:236 #Tested:472 Testing Accuracy:50.0%\r",
      "Progress:47.2% Speed(reviews/sec):1527. #Correct:237 #Tested:473 Testing Accuracy:50.1%\r",
      "Progress:47.3% Speed(reviews/sec):1525. #Correct:237 #Tested:474 Testing Accuracy:50.0%\r",
      "Progress:47.4% Speed(reviews/sec):1528. #Correct:238 #Tested:475 Testing Accuracy:50.1%\r",
      "Progress:47.5% Speed(reviews/sec):1527. #Correct:238 #Tested:476 Testing Accuracy:50.0%\r",
      "Progress:47.6% Speed(reviews/sec):1530. #Correct:239 #Tested:477 Testing Accuracy:50.1%\r",
      "Progress:47.7% Speed(reviews/sec):1528. #Correct:239 #Tested:478 Testing Accuracy:50.0%\r",
      "Progress:47.8% Speed(reviews/sec):1527. #Correct:240 #Tested:479 Testing Accuracy:50.1%\r",
      "Progress:47.9% Speed(reviews/sec):1530. #Correct:240 #Tested:480 Testing Accuracy:50.0%\r",
      "Progress:48.0% Speed(reviews/sec):1528. #Correct:241 #Tested:481 Testing Accuracy:50.1%\r",
      "Progress:48.1% Speed(reviews/sec):1531. #Correct:241 #Tested:482 Testing Accuracy:50.0%\r",
      "Progress:48.2% Speed(reviews/sec):1530. #Correct:242 #Tested:483 Testing Accuracy:50.1%\r",
      "Progress:48.3% Speed(reviews/sec):1533. #Correct:242 #Tested:484 Testing Accuracy:50.0%\r",
      "Progress:48.4% Speed(reviews/sec):1531. #Correct:243 #Tested:485 Testing Accuracy:50.1%\r",
      "Progress:48.5% Speed(reviews/sec):1534. #Correct:243 #Tested:486 Testing Accuracy:50.0%\r",
      "Progress:48.6% Speed(reviews/sec):1537. #Correct:244 #Tested:487 Testing Accuracy:50.1%\r",
      "Progress:48.7% Speed(reviews/sec):1536. #Correct:244 #Tested:488 Testing Accuracy:50.0%\r",
      "Progress:48.8% Speed(reviews/sec):1534. #Correct:245 #Tested:489 Testing Accuracy:50.1%\r",
      "Progress:48.9% Speed(reviews/sec):1537. #Correct:245 #Tested:490 Testing Accuracy:50.0%\r",
      "Progress:49.0% Speed(reviews/sec):1536. #Correct:246 #Tested:491 Testing Accuracy:50.1%\r",
      "Progress:49.1% Speed(reviews/sec):1539. #Correct:246 #Tested:492 Testing Accuracy:50.0%\r",
      "Progress:49.2% Speed(reviews/sec):1537. #Correct:247 #Tested:493 Testing Accuracy:50.1%\r",
      "Progress:49.3% Speed(reviews/sec):1540. #Correct:247 #Tested:494 Testing Accuracy:50.0%\r",
      "Progress:49.4% Speed(reviews/sec):1538. #Correct:248 #Tested:495 Testing Accuracy:50.1%\r",
      "Progress:49.5% Speed(reviews/sec):1542. #Correct:248 #Tested:496 Testing Accuracy:50.0%\r",
      "Progress:49.6% Speed(reviews/sec):1540. #Correct:249 #Tested:497 Testing Accuracy:50.1%\r",
      "Progress:49.7% Speed(reviews/sec):1543. #Correct:249 #Tested:498 Testing Accuracy:50.0%\r",
      "Progress:49.8% Speed(reviews/sec):1541. #Correct:250 #Tested:499 Testing Accuracy:50.1%\r",
      "Progress:49.9% Speed(reviews/sec):1544. #Correct:250 #Tested:500 Testing Accuracy:50.0%\r",
      "Progress:50.0% Speed(reviews/sec):1543. #Correct:251 #Tested:501 Testing Accuracy:50.0%\r",
      "Progress:50.1% Speed(reviews/sec):1546. #Correct:251 #Tested:502 Testing Accuracy:50.0%\r",
      "Progress:50.2% Speed(reviews/sec):1544. #Correct:252 #Tested:503 Testing Accuracy:50.0%\r",
      "Progress:50.3% Speed(reviews/sec):1543. #Correct:252 #Tested:504 Testing Accuracy:50.0%\r",
      "Progress:50.4% Speed(reviews/sec):1546. #Correct:253 #Tested:505 Testing Accuracy:50.0%\r",
      "Progress:50.5% Speed(reviews/sec):1544. #Correct:253 #Tested:506 Testing Accuracy:50.0%\r",
      "Progress:50.6% Speed(reviews/sec):1542. #Correct:254 #Tested:507 Testing Accuracy:50.0%\r",
      "Progress:50.7% Speed(reviews/sec):1545. #Correct:254 #Tested:508 Testing Accuracy:50.0%\r",
      "Progress:50.8% Speed(reviews/sec):1544. #Correct:255 #Tested:509 Testing Accuracy:50.0%\r",
      "Progress:50.9% Speed(reviews/sec):1547. #Correct:255 #Tested:510 Testing Accuracy:50.0%\r",
      "Progress:51.0% Speed(reviews/sec):1545. #Correct:256 #Tested:511 Testing Accuracy:50.0%\r",
      "Progress:51.1% Speed(reviews/sec):1548. #Correct:256 #Tested:512 Testing Accuracy:50.0%\r",
      "Progress:51.2% Speed(reviews/sec):1546. #Correct:257 #Tested:513 Testing Accuracy:50.0%\r",
      "Progress:51.3% Speed(reviews/sec):1545. #Correct:257 #Tested:514 Testing Accuracy:50.0%\r",
      "Progress:51.4% Speed(reviews/sec):1548. #Correct:258 #Tested:515 Testing Accuracy:50.0%\r",
      "Progress:51.5% Speed(reviews/sec):1546. #Correct:258 #Tested:516 Testing Accuracy:50.0%\r",
      "Progress:51.6% Speed(reviews/sec):1549. #Correct:259 #Tested:517 Testing Accuracy:50.0%\r",
      "Progress:51.7% Speed(reviews/sec):1548. #Correct:259 #Tested:518 Testing Accuracy:50.0%\r",
      "Progress:51.8% Speed(reviews/sec):1551. #Correct:260 #Tested:519 Testing Accuracy:50.0%\r",
      "Progress:51.9% Speed(reviews/sec):1549. #Correct:260 #Tested:520 Testing Accuracy:50.0%\r",
      "Progress:52.0% Speed(reviews/sec):1552. #Correct:261 #Tested:521 Testing Accuracy:50.0%\r",
      "Progress:52.1% Speed(reviews/sec):1550. #Correct:261 #Tested:522 Testing Accuracy:50.0%\r",
      "Progress:52.2% Speed(reviews/sec):1553. #Correct:262 #Tested:523 Testing Accuracy:50.0%\r",
      "Progress:52.3% Speed(reviews/sec):1552. #Correct:262 #Tested:524 Testing Accuracy:50.0%\r",
      "Progress:52.4% Speed(reviews/sec):1555. #Correct:263 #Tested:525 Testing Accuracy:50.0%\r",
      "Progress:52.5% Speed(reviews/sec):1553. #Correct:263 #Tested:526 Testing Accuracy:50.0%\r",
      "Progress:52.6% Speed(reviews/sec):1556. #Correct:264 #Tested:527 Testing Accuracy:50.0%\r",
      "Progress:52.7% Speed(reviews/sec):1554. #Correct:264 #Tested:528 Testing Accuracy:50.0%\r",
      "Progress:52.8% Speed(reviews/sec):1553. #Correct:265 #Tested:529 Testing Accuracy:50.0%\r",
      "Progress:52.9% Speed(reviews/sec):1556. #Correct:265 #Tested:530 Testing Accuracy:50.0%\r",
      "Progress:53.0% Speed(reviews/sec):1554. #Correct:266 #Tested:531 Testing Accuracy:50.0%\r",
      "Progress:53.1% Speed(reviews/sec):1557. #Correct:266 #Tested:532 Testing Accuracy:50.0%\r",
      "Progress:53.2% Speed(reviews/sec):1555. #Correct:267 #Tested:533 Testing Accuracy:50.0%\r",
      "Progress:53.3% Speed(reviews/sec):1558. #Correct:267 #Tested:534 Testing Accuracy:50.0%\r",
      "Progress:53.4% Speed(reviews/sec):1557. #Correct:268 #Tested:535 Testing Accuracy:50.0%\r",
      "Progress:53.5% Speed(reviews/sec):1560. #Correct:268 #Tested:536 Testing Accuracy:50.0%\r",
      "Progress:53.6% Speed(reviews/sec):1558. #Correct:269 #Tested:537 Testing Accuracy:50.0%\r",
      "Progress:53.7% Speed(reviews/sec):1561. #Correct:269 #Tested:538 Testing Accuracy:50.0%\r",
      "Progress:53.8% Speed(reviews/sec):1559. #Correct:270 #Tested:539 Testing Accuracy:50.0%\r",
      "Progress:53.9% Speed(reviews/sec):1562. #Correct:270 #Tested:540 Testing Accuracy:50.0%\r",
      "Progress:54.0% Speed(reviews/sec):1561. #Correct:271 #Tested:541 Testing Accuracy:50.0%\r",
      "Progress:54.1% Speed(reviews/sec):1563. #Correct:271 #Tested:542 Testing Accuracy:50.0%\r",
      "Progress:54.2% Speed(reviews/sec):1562. #Correct:272 #Tested:543 Testing Accuracy:50.0%\r",
      "Progress:54.3% Speed(reviews/sec):1560. #Correct:272 #Tested:544 Testing Accuracy:50.0%\r",
      "Progress:54.4% Speed(reviews/sec):1563. #Correct:273 #Tested:545 Testing Accuracy:50.0%\r",
      "Progress:54.5% Speed(reviews/sec):1561. #Correct:273 #Tested:546 Testing Accuracy:50.0%\r",
      "Progress:54.6% Speed(reviews/sec):1560. #Correct:274 #Tested:547 Testing Accuracy:50.0%\r",
      "Progress:54.7% Speed(reviews/sec):1563. #Correct:274 #Tested:548 Testing Accuracy:50.0%\r",
      "Progress:54.8% Speed(reviews/sec):1561. #Correct:275 #Tested:549 Testing Accuracy:50.0%\r",
      "Progress:54.9% Speed(reviews/sec):1564. #Correct:275 #Tested:550 Testing Accuracy:50.0%\r",
      "Progress:55.0% Speed(reviews/sec):1562. #Correct:276 #Tested:551 Testing Accuracy:50.0%\r",
      "Progress:55.1% Speed(reviews/sec):1565. #Correct:276 #Tested:552 Testing Accuracy:50.0%\r",
      "Progress:55.2% Speed(reviews/sec):1564. #Correct:277 #Tested:553 Testing Accuracy:50.0%\r",
      "Progress:55.3% Speed(reviews/sec):1566. #Correct:277 #Tested:554 Testing Accuracy:50.0%\r",
      "Progress:55.4% Speed(reviews/sec):1565. #Correct:278 #Tested:555 Testing Accuracy:50.0%\r",
      "Progress:55.5% Speed(reviews/sec):1568. #Correct:278 #Tested:556 Testing Accuracy:50.0%\r",
      "Progress:55.6% Speed(reviews/sec):1566. #Correct:279 #Tested:557 Testing Accuracy:50.0%\r",
      "Progress:55.7% Speed(reviews/sec):1565. #Correct:279 #Tested:558 Testing Accuracy:50.0%\r",
      "Progress:55.8% Speed(reviews/sec):1567. #Correct:280 #Tested:559 Testing Accuracy:50.0%\r",
      "Progress:55.9% Speed(reviews/sec):1566. #Correct:280 #Tested:560 Testing Accuracy:50.0%\r",
      "Progress:56.0% Speed(reviews/sec):1569. #Correct:281 #Tested:561 Testing Accuracy:50.0%\r",
      "Progress:56.1% Speed(reviews/sec):1567. #Correct:281 #Tested:562 Testing Accuracy:50.0%\r",
      "Progress:56.2% Speed(reviews/sec):1570. #Correct:282 #Tested:563 Testing Accuracy:50.0%\r",
      "Progress:56.3% Speed(reviews/sec):1568. #Correct:282 #Tested:564 Testing Accuracy:50.0%\r",
      "Progress:56.4% Speed(reviews/sec):1571. #Correct:283 #Tested:565 Testing Accuracy:50.0%\r",
      "Progress:56.5% Speed(reviews/sec):1569. #Correct:283 #Tested:566 Testing Accuracy:50.0%\r",
      "Progress:56.6% Speed(reviews/sec):1572. #Correct:284 #Tested:567 Testing Accuracy:50.0%\r",
      "Progress:56.7% Speed(reviews/sec):1571. #Correct:284 #Tested:568 Testing Accuracy:50.0%\r",
      "Progress:56.8% Speed(reviews/sec):1573. #Correct:285 #Tested:569 Testing Accuracy:50.0%\r",
      "Progress:56.9% Speed(reviews/sec):1572. #Correct:285 #Tested:570 Testing Accuracy:50.0%\r",
      "Progress:57.0% Speed(reviews/sec):1575. #Correct:286 #Tested:571 Testing Accuracy:50.0%\r",
      "Progress:57.1% Speed(reviews/sec):1573. #Correct:286 #Tested:572 Testing Accuracy:50.0%\r",
      "Progress:57.2% Speed(reviews/sec):1576. #Correct:287 #Tested:573 Testing Accuracy:50.0%\r",
      "Progress:57.3% Speed(reviews/sec):1574. #Correct:287 #Tested:574 Testing Accuracy:50.0%\r",
      "Progress:57.4% Speed(reviews/sec):1577. #Correct:288 #Tested:575 Testing Accuracy:50.0%\r",
      "Progress:57.5% Speed(reviews/sec):1575. #Correct:288 #Tested:576 Testing Accuracy:50.0%\r",
      "Progress:57.6% Speed(reviews/sec):1578. #Correct:289 #Tested:577 Testing Accuracy:50.0%\r",
      "Progress:57.7% Speed(reviews/sec):1577. #Correct:289 #Tested:578 Testing Accuracy:50.0%\r",
      "Progress:57.8% Speed(reviews/sec):1579. #Correct:290 #Tested:579 Testing Accuracy:50.0%\r",
      "Progress:57.9% Speed(reviews/sec):1578. #Correct:290 #Tested:580 Testing Accuracy:50.0%\r",
      "Progress:58.0% Speed(reviews/sec):1580. #Correct:291 #Tested:581 Testing Accuracy:50.0%\r",
      "Progress:58.1% Speed(reviews/sec):1579. #Correct:291 #Tested:582 Testing Accuracy:50.0%\r",
      "Progress:58.2% Speed(reviews/sec):1582. #Correct:292 #Tested:583 Testing Accuracy:50.0%\r",
      "Progress:58.3% Speed(reviews/sec):1580. #Correct:292 #Tested:584 Testing Accuracy:50.0%\r",
      "Progress:58.4% Speed(reviews/sec):1583. #Correct:293 #Tested:585 Testing Accuracy:50.0%\r",
      "Progress:58.5% Speed(reviews/sec):1581. #Correct:293 #Tested:586 Testing Accuracy:50.0%\r",
      "Progress:58.6% Speed(reviews/sec):1584. #Correct:294 #Tested:587 Testing Accuracy:50.0%\r",
      "Progress:58.7% Speed(reviews/sec):1582. #Correct:294 #Tested:588 Testing Accuracy:50.0%\r",
      "Progress:58.8% Speed(reviews/sec):1585. #Correct:295 #Tested:589 Testing Accuracy:50.0%\r",
      "Progress:58.9% Speed(reviews/sec):1583. #Correct:295 #Tested:590 Testing Accuracy:50.0%\r",
      "Progress:59.0% Speed(reviews/sec):1586. #Correct:296 #Tested:591 Testing Accuracy:50.0%\r",
      "Progress:59.1% Speed(reviews/sec):1585. #Correct:296 #Tested:592 Testing Accuracy:50.0%\r",
      "Progress:59.2% Speed(reviews/sec):1583. #Correct:297 #Tested:593 Testing Accuracy:50.0%\r",
      "Progress:59.3% Speed(reviews/sec):1586. #Correct:297 #Tested:594 Testing Accuracy:50.0%\r",
      "Progress:59.4% Speed(reviews/sec):1584. #Correct:298 #Tested:595 Testing Accuracy:50.0%\r",
      "Progress:59.5% Speed(reviews/sec):1587. #Correct:298 #Tested:596 Testing Accuracy:50.0%\r",
      "Progress:59.6% Speed(reviews/sec):1585. #Correct:299 #Tested:597 Testing Accuracy:50.0%\r",
      "Progress:59.7% Speed(reviews/sec):1588. #Correct:299 #Tested:598 Testing Accuracy:50.0%\r",
      "Progress:59.8% Speed(reviews/sec):1586. #Correct:300 #Tested:599 Testing Accuracy:50.0%\r",
      "Progress:59.9% Speed(reviews/sec):1589. #Correct:300 #Tested:600 Testing Accuracy:50.0%\r",
      "Progress:60.0% Speed(reviews/sec):1587. #Correct:301 #Tested:601 Testing Accuracy:50.0%\r",
      "Progress:60.1% Speed(reviews/sec):1590. #Correct:301 #Tested:602 Testing Accuracy:50.0%\r",
      "Progress:60.2% Speed(reviews/sec):1589. #Correct:302 #Tested:603 Testing Accuracy:50.0%\r",
      "Progress:60.3% Speed(reviews/sec):1591. #Correct:302 #Tested:604 Testing Accuracy:50.0%\r",
      "Progress:60.4% Speed(reviews/sec):1590. #Correct:303 #Tested:605 Testing Accuracy:50.0%\r",
      "Progress:60.5% Speed(reviews/sec):1592. #Correct:303 #Tested:606 Testing Accuracy:50.0%\r",
      "Progress:60.6% Speed(reviews/sec):1591. #Correct:304 #Tested:607 Testing Accuracy:50.0%\r",
      "Progress:60.7% Speed(reviews/sec):1593. #Correct:304 #Tested:608 Testing Accuracy:50.0%\r",
      "Progress:60.8% Speed(reviews/sec):1592. #Correct:305 #Tested:609 Testing Accuracy:50.0%\r",
      "Progress:60.9% Speed(reviews/sec):1590. #Correct:305 #Tested:610 Testing Accuracy:50.0%\r",
      "Progress:61.0% Speed(reviews/sec):1593. #Correct:306 #Tested:611 Testing Accuracy:50.0%\r",
      "Progress:61.1% Speed(reviews/sec):1595. #Correct:306 #Tested:612 Testing Accuracy:50.0%\r",
      "Progress:61.2% Speed(reviews/sec):1594. #Correct:307 #Tested:613 Testing Accuracy:50.0%\r",
      "Progress:61.3% Speed(reviews/sec):1597. #Correct:307 #Tested:614 Testing Accuracy:50.0%\r",
      "Progress:61.4% Speed(reviews/sec):1595. #Correct:308 #Tested:615 Testing Accuracy:50.0%\r",
      "Progress:61.5% Speed(reviews/sec):1598. #Correct:308 #Tested:616 Testing Accuracy:50.0%\r",
      "Progress:61.6% Speed(reviews/sec):1596. #Correct:309 #Tested:617 Testing Accuracy:50.0%\r",
      "Progress:61.7% Speed(reviews/sec):1595. #Correct:309 #Tested:618 Testing Accuracy:50.0%\r",
      "Progress:61.8% Speed(reviews/sec):1597. #Correct:310 #Tested:619 Testing Accuracy:50.0%\r",
      "Progress:61.9% Speed(reviews/sec):1595. #Correct:310 #Tested:620 Testing Accuracy:50.0%\r",
      "Progress:62.0% Speed(reviews/sec):1597. #Correct:311 #Tested:621 Testing Accuracy:50.0%\r",
      "Progress:62.1% Speed(reviews/sec):1596. #Correct:311 #Tested:622 Testing Accuracy:50.0%\r",
      "Progress:62.2% Speed(reviews/sec):1598. #Correct:312 #Tested:623 Testing Accuracy:50.0%\r",
      "Progress:62.3% Speed(reviews/sec):1597. #Correct:312 #Tested:624 Testing Accuracy:50.0%\r",
      "Progress:62.4% Speed(reviews/sec):1599. #Correct:313 #Tested:625 Testing Accuracy:50.0%\r",
      "Progress:62.5% Speed(reviews/sec):1598. #Correct:313 #Tested:626 Testing Accuracy:50.0%\r",
      "Progress:62.6% Speed(reviews/sec):1596. #Correct:314 #Tested:627 Testing Accuracy:50.0%\r",
      "Progress:62.7% Speed(reviews/sec):1599. #Correct:314 #Tested:628 Testing Accuracy:50.0%\r",
      "Progress:62.8% Speed(reviews/sec):1597. #Correct:315 #Tested:629 Testing Accuracy:50.0%\r",
      "Progress:62.9% Speed(reviews/sec):1600. #Correct:315 #Tested:630 Testing Accuracy:50.0%\r",
      "Progress:63.0% Speed(reviews/sec):1598. #Correct:316 #Tested:631 Testing Accuracy:50.0%\r",
      "Progress:63.1% Speed(reviews/sec):1601. #Correct:316 #Tested:632 Testing Accuracy:50.0%\r",
      "Progress:63.2% Speed(reviews/sec):1599. #Correct:317 #Tested:633 Testing Accuracy:50.0%"
     ]
    },
    {
     "name": "stdout",
     "output_type": "stream",
     "text": [
      "\r",
      "Progress:63.3% Speed(reviews/sec):1598. #Correct:317 #Tested:634 Testing Accuracy:50.0%\r",
      "Progress:63.4% Speed(reviews/sec):1600. #Correct:318 #Tested:635 Testing Accuracy:50.0%\r",
      "Progress:63.5% Speed(reviews/sec):1599. #Correct:318 #Tested:636 Testing Accuracy:50.0%\r",
      "Progress:63.6% Speed(reviews/sec):1601. #Correct:319 #Tested:637 Testing Accuracy:50.0%\r",
      "Progress:63.7% Speed(reviews/sec):1600. #Correct:319 #Tested:638 Testing Accuracy:50.0%\r",
      "Progress:63.8% Speed(reviews/sec):1598. #Correct:320 #Tested:639 Testing Accuracy:50.0%\r",
      "Progress:63.9% Speed(reviews/sec):1601. #Correct:320 #Tested:640 Testing Accuracy:50.0%\r",
      "Progress:64.0% Speed(reviews/sec):1599. #Correct:321 #Tested:641 Testing Accuracy:50.0%\r",
      "Progress:64.1% Speed(reviews/sec):1602. #Correct:321 #Tested:642 Testing Accuracy:50.0%\r",
      "Progress:64.2% Speed(reviews/sec):1601. #Correct:322 #Tested:643 Testing Accuracy:50.0%\r",
      "Progress:64.3% Speed(reviews/sec):1603. #Correct:322 #Tested:644 Testing Accuracy:50.0%\r",
      "Progress:64.4% Speed(reviews/sec):1602. #Correct:323 #Tested:645 Testing Accuracy:50.0%\r",
      "Progress:64.5% Speed(reviews/sec):1600. #Correct:323 #Tested:646 Testing Accuracy:50.0%\r",
      "Progress:64.6% Speed(reviews/sec):1599. #Correct:324 #Tested:647 Testing Accuracy:50.0%\r",
      "Progress:64.7% Speed(reviews/sec):1601. #Correct:324 #Tested:648 Testing Accuracy:50.0%\r",
      "Progress:64.8% Speed(reviews/sec):1600. #Correct:325 #Tested:649 Testing Accuracy:50.0%\r",
      "Progress:64.9% Speed(reviews/sec):1602. #Correct:325 #Tested:650 Testing Accuracy:50.0%\r",
      "Progress:65.0% Speed(reviews/sec):1601. #Correct:326 #Tested:651 Testing Accuracy:50.0%\r",
      "Progress:65.1% Speed(reviews/sec):1599. #Correct:326 #Tested:652 Testing Accuracy:50.0%\r",
      "Progress:65.2% Speed(reviews/sec):1602. #Correct:327 #Tested:653 Testing Accuracy:50.0%\r",
      "Progress:65.3% Speed(reviews/sec):1600. #Correct:327 #Tested:654 Testing Accuracy:50.0%\r",
      "Progress:65.4% Speed(reviews/sec):1603. #Correct:328 #Tested:655 Testing Accuracy:50.0%\r",
      "Progress:65.5% Speed(reviews/sec):1601. #Correct:328 #Tested:656 Testing Accuracy:50.0%\r",
      "Progress:65.6% Speed(reviews/sec):1600. #Correct:329 #Tested:657 Testing Accuracy:50.0%\r",
      "Progress:65.7% Speed(reviews/sec):1602. #Correct:329 #Tested:658 Testing Accuracy:50.0%\r",
      "Progress:65.8% Speed(reviews/sec):1601. #Correct:330 #Tested:659 Testing Accuracy:50.0%\r",
      "Progress:65.9% Speed(reviews/sec):1603. #Correct:330 #Tested:660 Testing Accuracy:50.0%\r",
      "Progress:66.0% Speed(reviews/sec):1602. #Correct:331 #Tested:661 Testing Accuracy:50.0%\r",
      "Progress:66.1% Speed(reviews/sec):1604. #Correct:331 #Tested:662 Testing Accuracy:50.0%\r",
      "Progress:66.2% Speed(reviews/sec):1603. #Correct:332 #Tested:663 Testing Accuracy:50.0%\r",
      "Progress:66.3% Speed(reviews/sec):1605. #Correct:332 #Tested:664 Testing Accuracy:50.0%\r",
      "Progress:66.4% Speed(reviews/sec):1604. #Correct:333 #Tested:665 Testing Accuracy:50.0%\r",
      "Progress:66.5% Speed(reviews/sec):1606. #Correct:333 #Tested:666 Testing Accuracy:50.0%\r",
      "Progress:66.6% Speed(reviews/sec):1604. #Correct:334 #Tested:667 Testing Accuracy:50.0%\r",
      "Progress:66.7% Speed(reviews/sec):1607. #Correct:334 #Tested:668 Testing Accuracy:50.0%\r",
      "Progress:66.8% Speed(reviews/sec):1605. #Correct:335 #Tested:669 Testing Accuracy:50.0%\r",
      "Progress:66.9% Speed(reviews/sec):1608. #Correct:335 #Tested:670 Testing Accuracy:50.0%\r",
      "Progress:67.0% Speed(reviews/sec):1606. #Correct:336 #Tested:671 Testing Accuracy:50.0%\r",
      "Progress:67.1% Speed(reviews/sec):1609. #Correct:336 #Tested:672 Testing Accuracy:50.0%\r",
      "Progress:67.2% Speed(reviews/sec):1607. #Correct:337 #Tested:673 Testing Accuracy:50.0%\r",
      "Progress:67.3% Speed(reviews/sec):1606. #Correct:337 #Tested:674 Testing Accuracy:50.0%\r",
      "Progress:67.4% Speed(reviews/sec):1608. #Correct:338 #Tested:675 Testing Accuracy:50.0%\r",
      "Progress:67.5% Speed(reviews/sec):1607. #Correct:338 #Tested:676 Testing Accuracy:50.0%\r",
      "Progress:67.6% Speed(reviews/sec):1609. #Correct:339 #Tested:677 Testing Accuracy:50.0%\r",
      "Progress:67.7% Speed(reviews/sec):1608. #Correct:339 #Tested:678 Testing Accuracy:50.0%\r",
      "Progress:67.8% Speed(reviews/sec):1610. #Correct:340 #Tested:679 Testing Accuracy:50.0%\r",
      "Progress:67.9% Speed(reviews/sec):1609. #Correct:340 #Tested:680 Testing Accuracy:50.0%\r",
      "Progress:68.0% Speed(reviews/sec):1611. #Correct:341 #Tested:681 Testing Accuracy:50.0%\r",
      "Progress:68.1% Speed(reviews/sec):1610. #Correct:341 #Tested:682 Testing Accuracy:50.0%\r",
      "Progress:68.2% Speed(reviews/sec):1612. #Correct:342 #Tested:683 Testing Accuracy:50.0%\r",
      "Progress:68.3% Speed(reviews/sec):1611. #Correct:342 #Tested:684 Testing Accuracy:50.0%\r",
      "Progress:68.4% Speed(reviews/sec):1613. #Correct:343 #Tested:685 Testing Accuracy:50.0%\r",
      "Progress:68.5% Speed(reviews/sec):1612. #Correct:343 #Tested:686 Testing Accuracy:50.0%\r",
      "Progress:68.6% Speed(reviews/sec):1614. #Correct:344 #Tested:687 Testing Accuracy:50.0%\r",
      "Progress:68.7% Speed(reviews/sec):1612. #Correct:344 #Tested:688 Testing Accuracy:50.0%\r",
      "Progress:68.8% Speed(reviews/sec):1615. #Correct:345 #Tested:689 Testing Accuracy:50.0%\r",
      "Progress:68.9% Speed(reviews/sec):1613. #Correct:345 #Tested:690 Testing Accuracy:50.0%\r",
      "Progress:69.0% Speed(reviews/sec):1616. #Correct:346 #Tested:691 Testing Accuracy:50.0%\r",
      "Progress:69.1% Speed(reviews/sec):1614. #Correct:346 #Tested:692 Testing Accuracy:50.0%\r",
      "Progress:69.2% Speed(reviews/sec):1613. #Correct:347 #Tested:693 Testing Accuracy:50.0%\r",
      "Progress:69.3% Speed(reviews/sec):1615. #Correct:347 #Tested:694 Testing Accuracy:50.0%\r",
      "Progress:69.4% Speed(reviews/sec):1614. #Correct:348 #Tested:695 Testing Accuracy:50.0%\r",
      "Progress:69.5% Speed(reviews/sec):1616. #Correct:348 #Tested:696 Testing Accuracy:50.0%\r",
      "Progress:69.6% Speed(reviews/sec):1615. #Correct:349 #Tested:697 Testing Accuracy:50.0%\r",
      "Progress:69.7% Speed(reviews/sec):1617. #Correct:349 #Tested:698 Testing Accuracy:50.0%\r",
      "Progress:69.8% Speed(reviews/sec):1619. #Correct:350 #Tested:699 Testing Accuracy:50.0%\r",
      "Progress:69.9% Speed(reviews/sec):1618. #Correct:350 #Tested:700 Testing Accuracy:50.0%\r",
      "Progress:70.0% Speed(reviews/sec):1616. #Correct:351 #Tested:701 Testing Accuracy:50.0%\r",
      "Progress:70.1% Speed(reviews/sec):1619. #Correct:351 #Tested:702 Testing Accuracy:50.0%\r",
      "Progress:70.2% Speed(reviews/sec):1617. #Correct:352 #Tested:703 Testing Accuracy:50.0%\r",
      "Progress:70.3% Speed(reviews/sec):1620. #Correct:352 #Tested:704 Testing Accuracy:50.0%\r",
      "Progress:70.4% Speed(reviews/sec):1618. #Correct:353 #Tested:705 Testing Accuracy:50.0%\r",
      "Progress:70.5% Speed(reviews/sec):1621. #Correct:353 #Tested:706 Testing Accuracy:50.0%\r",
      "Progress:70.6% Speed(reviews/sec):1619. #Correct:354 #Tested:707 Testing Accuracy:50.0%\r",
      "Progress:70.7% Speed(reviews/sec):1621. #Correct:354 #Tested:708 Testing Accuracy:50.0%\r",
      "Progress:70.8% Speed(reviews/sec):1620. #Correct:355 #Tested:709 Testing Accuracy:50.0%\r",
      "Progress:70.9% Speed(reviews/sec):1622. #Correct:355 #Tested:710 Testing Accuracy:50.0%\r",
      "Progress:71.0% Speed(reviews/sec):1621. #Correct:356 #Tested:711 Testing Accuracy:50.0%\r",
      "Progress:71.1% Speed(reviews/sec):1623. #Correct:356 #Tested:712 Testing Accuracy:50.0%\r",
      "Progress:71.2% Speed(reviews/sec):1622. #Correct:357 #Tested:713 Testing Accuracy:50.0%\r",
      "Progress:71.3% Speed(reviews/sec):1620. #Correct:357 #Tested:714 Testing Accuracy:50.0%\r",
      "Progress:71.4% Speed(reviews/sec):1623. #Correct:358 #Tested:715 Testing Accuracy:50.0%\r",
      "Progress:71.5% Speed(reviews/sec):1621. #Correct:358 #Tested:716 Testing Accuracy:50.0%\r",
      "Progress:71.6% Speed(reviews/sec):1623. #Correct:359 #Tested:717 Testing Accuracy:50.0%\r",
      "Progress:71.7% Speed(reviews/sec):1622. #Correct:359 #Tested:718 Testing Accuracy:50.0%\r",
      "Progress:71.8% Speed(reviews/sec):1624. #Correct:360 #Tested:719 Testing Accuracy:50.0%\r",
      "Progress:71.9% Speed(reviews/sec):1623. #Correct:360 #Tested:720 Testing Accuracy:50.0%\r",
      "Progress:72.0% Speed(reviews/sec):1625. #Correct:361 #Tested:721 Testing Accuracy:50.0%\r",
      "Progress:72.1% Speed(reviews/sec):1624. #Correct:361 #Tested:722 Testing Accuracy:50.0%\r",
      "Progress:72.2% Speed(reviews/sec):1626. #Correct:362 #Tested:723 Testing Accuracy:50.0%\r",
      "Progress:72.3% Speed(reviews/sec):1625. #Correct:362 #Tested:724 Testing Accuracy:50.0%\r",
      "Progress:72.4% Speed(reviews/sec):1627. #Correct:363 #Tested:725 Testing Accuracy:50.0%\r",
      "Progress:72.5% Speed(reviews/sec):1626. #Correct:363 #Tested:726 Testing Accuracy:50.0%\r",
      "Progress:72.6% Speed(reviews/sec):1628. #Correct:364 #Tested:727 Testing Accuracy:50.0%\r",
      "Progress:72.7% Speed(reviews/sec):1626. #Correct:364 #Tested:728 Testing Accuracy:50.0%\r",
      "Progress:72.8% Speed(reviews/sec):1625. #Correct:365 #Tested:729 Testing Accuracy:50.0%\r",
      "Progress:72.9% Speed(reviews/sec):1627. #Correct:365 #Tested:730 Testing Accuracy:50.0%\r",
      "Progress:73.0% Speed(reviews/sec):1626. #Correct:366 #Tested:731 Testing Accuracy:50.0%\r",
      "Progress:73.1% Speed(reviews/sec):1628. #Correct:366 #Tested:732 Testing Accuracy:50.0%\r",
      "Progress:73.2% Speed(reviews/sec):1627. #Correct:367 #Tested:733 Testing Accuracy:50.0%\r",
      "Progress:73.3% Speed(reviews/sec):1625. #Correct:367 #Tested:734 Testing Accuracy:50.0%\r",
      "Progress:73.4% Speed(reviews/sec):1627. #Correct:368 #Tested:735 Testing Accuracy:50.0%\r",
      "Progress:73.5% Speed(reviews/sec):1626. #Correct:368 #Tested:736 Testing Accuracy:50.0%\r",
      "Progress:73.6% Speed(reviews/sec):1628. #Correct:369 #Tested:737 Testing Accuracy:50.0%\r",
      "Progress:73.7% Speed(reviews/sec):1627. #Correct:369 #Tested:738 Testing Accuracy:50.0%\r",
      "Progress:73.8% Speed(reviews/sec):1629. #Correct:370 #Tested:739 Testing Accuracy:50.0%\r",
      "Progress:73.9% Speed(reviews/sec):1628. #Correct:370 #Tested:740 Testing Accuracy:50.0%\r",
      "Progress:74.0% Speed(reviews/sec):1630. #Correct:371 #Tested:741 Testing Accuracy:50.0%\r",
      "Progress:74.1% Speed(reviews/sec):1629. #Correct:371 #Tested:742 Testing Accuracy:50.0%\r",
      "Progress:74.2% Speed(reviews/sec):1631. #Correct:372 #Tested:743 Testing Accuracy:50.0%\r",
      "Progress:74.3% Speed(reviews/sec):1629. #Correct:372 #Tested:744 Testing Accuracy:50.0%\r",
      "Progress:74.4% Speed(reviews/sec):1632. #Correct:373 #Tested:745 Testing Accuracy:50.0%\r",
      "Progress:74.5% Speed(reviews/sec):1630. #Correct:373 #Tested:746 Testing Accuracy:50.0%\r",
      "Progress:74.6% Speed(reviews/sec):1629. #Correct:374 #Tested:747 Testing Accuracy:50.0%\r",
      "Progress:74.7% Speed(reviews/sec):1631. #Correct:374 #Tested:748 Testing Accuracy:50.0%\r",
      "Progress:74.8% Speed(reviews/sec):1630. #Correct:375 #Tested:749 Testing Accuracy:50.0%\r",
      "Progress:74.9% Speed(reviews/sec):1629. #Correct:375 #Tested:750 Testing Accuracy:50.0%\r",
      "Progress:75.0% Speed(reviews/sec):1631. #Correct:376 #Tested:751 Testing Accuracy:50.0%\r",
      "Progress:75.1% Speed(reviews/sec):1629. #Correct:376 #Tested:752 Testing Accuracy:50.0%\r",
      "Progress:75.2% Speed(reviews/sec):1632. #Correct:377 #Tested:753 Testing Accuracy:50.0%\r",
      "Progress:75.3% Speed(reviews/sec):1630. #Correct:377 #Tested:754 Testing Accuracy:50.0%\r",
      "Progress:75.4% Speed(reviews/sec):1632. #Correct:378 #Tested:755 Testing Accuracy:50.0%\r",
      "Progress:75.5% Speed(reviews/sec):1631. #Correct:378 #Tested:756 Testing Accuracy:50.0%\r",
      "Progress:75.6% Speed(reviews/sec):1633. #Correct:379 #Tested:757 Testing Accuracy:50.0%\r",
      "Progress:75.7% Speed(reviews/sec):1632. #Correct:379 #Tested:758 Testing Accuracy:50.0%\r",
      "Progress:75.8% Speed(reviews/sec):1634. #Correct:380 #Tested:759 Testing Accuracy:50.0%\r",
      "Progress:75.9% Speed(reviews/sec):1633. #Correct:380 #Tested:760 Testing Accuracy:50.0%\r",
      "Progress:76.0% Speed(reviews/sec):1635. #Correct:381 #Tested:761 Testing Accuracy:50.0%\r",
      "Progress:76.1% Speed(reviews/sec):1633. #Correct:381 #Tested:762 Testing Accuracy:50.0%\r",
      "Progress:76.2% Speed(reviews/sec):1636. #Correct:382 #Tested:763 Testing Accuracy:50.0%\r",
      "Progress:76.3% Speed(reviews/sec):1634. #Correct:382 #Tested:764 Testing Accuracy:50.0%\r",
      "Progress:76.4% Speed(reviews/sec):1633. #Correct:383 #Tested:765 Testing Accuracy:50.0%\r",
      "Progress:76.5% Speed(reviews/sec):1635. #Correct:383 #Tested:766 Testing Accuracy:50.0%\r",
      "Progress:76.6% Speed(reviews/sec):1634. #Correct:384 #Tested:767 Testing Accuracy:50.0%\r",
      "Progress:76.7% Speed(reviews/sec):1636. #Correct:384 #Tested:768 Testing Accuracy:50.0%\r",
      "Progress:76.8% Speed(reviews/sec):1634. #Correct:385 #Tested:769 Testing Accuracy:50.0%\r",
      "Progress:76.9% Speed(reviews/sec):1633. #Correct:385 #Tested:770 Testing Accuracy:50.0%\r",
      "Progress:77.0% Speed(reviews/sec):1635. #Correct:386 #Tested:771 Testing Accuracy:50.0%\r",
      "Progress:77.1% Speed(reviews/sec):1634. #Correct:386 #Tested:772 Testing Accuracy:50.0%\r",
      "Progress:77.2% Speed(reviews/sec):1636. #Correct:387 #Tested:773 Testing Accuracy:50.0%\r",
      "Progress:77.3% Speed(reviews/sec):1635. #Correct:387 #Tested:774 Testing Accuracy:50.0%\r",
      "Progress:77.4% Speed(reviews/sec):1637. #Correct:388 #Tested:775 Testing Accuracy:50.0%\r",
      "Progress:77.5% Speed(reviews/sec):1635. #Correct:388 #Tested:776 Testing Accuracy:50.0%\r",
      "Progress:77.6% Speed(reviews/sec):1638. #Correct:389 #Tested:777 Testing Accuracy:50.0%\r",
      "Progress:77.7% Speed(reviews/sec):1636. #Correct:389 #Tested:778 Testing Accuracy:50.0%\r",
      "Progress:77.8% Speed(reviews/sec):1635. #Correct:390 #Tested:779 Testing Accuracy:50.0%\r",
      "Progress:77.9% Speed(reviews/sec):1634. #Correct:390 #Tested:780 Testing Accuracy:50.0%\r",
      "Progress:78.0% Speed(reviews/sec):1636. #Correct:391 #Tested:781 Testing Accuracy:50.0%\r",
      "Progress:78.1% Speed(reviews/sec):1634. #Correct:391 #Tested:782 Testing Accuracy:50.0%\r",
      "Progress:78.2% Speed(reviews/sec):1636. #Correct:392 #Tested:783 Testing Accuracy:50.0%\r",
      "Progress:78.3% Speed(reviews/sec):1635. #Correct:392 #Tested:784 Testing Accuracy:50.0%\r",
      "Progress:78.4% Speed(reviews/sec):1637. #Correct:393 #Tested:785 Testing Accuracy:50.0%\r",
      "Progress:78.5% Speed(reviews/sec):1636. #Correct:393 #Tested:786 Testing Accuracy:50.0%\r",
      "Progress:78.6% Speed(reviews/sec):1638. #Correct:394 #Tested:787 Testing Accuracy:50.0%\r",
      "Progress:78.7% Speed(reviews/sec):1636. #Correct:394 #Tested:788 Testing Accuracy:50.0%\r",
      "Progress:78.8% Speed(reviews/sec):1638. #Correct:395 #Tested:789 Testing Accuracy:50.0%\r",
      "Progress:78.9% Speed(reviews/sec):1637. #Correct:395 #Tested:790 Testing Accuracy:50.0%\r",
      "Progress:79.0% Speed(reviews/sec):1636. #Correct:396 #Tested:791 Testing Accuracy:50.0%\r",
      "Progress:79.1% Speed(reviews/sec):1638. #Correct:396 #Tested:792 Testing Accuracy:50.0%\r",
      "Progress:79.2% Speed(reviews/sec):1637. #Correct:397 #Tested:793 Testing Accuracy:50.0%\r",
      "Progress:79.3% Speed(reviews/sec):1639. #Correct:397 #Tested:794 Testing Accuracy:50.0%\r",
      "Progress:79.4% Speed(reviews/sec):1637. #Correct:398 #Tested:795 Testing Accuracy:50.0%\r",
      "Progress:79.5% Speed(reviews/sec):1639. #Correct:398 #Tested:796 Testing Accuracy:50.0%\r",
      "Progress:79.6% Speed(reviews/sec):1638. #Correct:399 #Tested:797 Testing Accuracy:50.0%\r",
      "Progress:79.7% Speed(reviews/sec):1640. #Correct:399 #Tested:798 Testing Accuracy:50.0%\r",
      "Progress:79.8% Speed(reviews/sec):1639. #Correct:400 #Tested:799 Testing Accuracy:50.0%\r",
      "Progress:79.9% Speed(reviews/sec):1641. #Correct:400 #Tested:800 Testing Accuracy:50.0%\r",
      "Progress:80.0% Speed(reviews/sec):1640. #Correct:401 #Tested:801 Testing Accuracy:50.0%\r",
      "Progress:80.1% Speed(reviews/sec):1638. #Correct:401 #Tested:802 Testing Accuracy:50.0%\r",
      "Progress:80.2% Speed(reviews/sec):1640. #Correct:402 #Tested:803 Testing Accuracy:50.0%\r",
      "Progress:80.3% Speed(reviews/sec):1639. #Correct:402 #Tested:804 Testing Accuracy:50.0%\r",
      "Progress:80.4% Speed(reviews/sec):1641. #Correct:403 #Tested:805 Testing Accuracy:50.0%\r",
      "Progress:80.5% Speed(reviews/sec):1643. #Correct:403 #Tested:806 Testing Accuracy:50.0%\r",
      "Progress:80.6% Speed(reviews/sec):1642. #Correct:404 #Tested:807 Testing Accuracy:50.0%\r",
      "Progress:80.7% Speed(reviews/sec):1641. #Correct:404 #Tested:808 Testing Accuracy:50.0%\r",
      "Progress:80.8% Speed(reviews/sec):1643. #Correct:405 #Tested:809 Testing Accuracy:50.0%\r",
      "Progress:80.9% Speed(reviews/sec):1641. #Correct:405 #Tested:810 Testing Accuracy:50.0%\r",
      "Progress:81.0% Speed(reviews/sec):1643. #Correct:406 #Tested:811 Testing Accuracy:50.0%\r",
      "Progress:81.1% Speed(reviews/sec):1642. #Correct:406 #Tested:812 Testing Accuracy:50.0%\r",
      "Progress:81.2% Speed(reviews/sec):1644. #Correct:407 #Tested:813 Testing Accuracy:50.0%\r",
      "Progress:81.3% Speed(reviews/sec):1643. #Correct:407 #Tested:814 Testing Accuracy:50.0%\r",
      "Progress:81.4% Speed(reviews/sec):1645. #Correct:408 #Tested:815 Testing Accuracy:50.0%\r",
      "Progress:81.5% Speed(reviews/sec):1643. #Correct:408 #Tested:816 Testing Accuracy:50.0%\r",
      "Progress:81.6% Speed(reviews/sec):1645. #Correct:409 #Tested:817 Testing Accuracy:50.0%\r",
      "Progress:81.7% Speed(reviews/sec):1644. #Correct:409 #Tested:818 Testing Accuracy:50.0%\r",
      "Progress:81.8% Speed(reviews/sec):1646. #Correct:410 #Tested:819 Testing Accuracy:50.0%\r",
      "Progress:81.9% Speed(reviews/sec):1645. #Correct:410 #Tested:820 Testing Accuracy:50.0%\r",
      "Progress:82.0% Speed(reviews/sec):1644. #Correct:411 #Tested:821 Testing Accuracy:50.0%\r",
      "Progress:82.1% Speed(reviews/sec):1646. #Correct:411 #Tested:822 Testing Accuracy:50.0%\r",
      "Progress:82.2% Speed(reviews/sec):1644. #Correct:412 #Tested:823 Testing Accuracy:50.0%\r",
      "Progress:82.3% Speed(reviews/sec):1646. #Correct:412 #Tested:824 Testing Accuracy:50.0%\r",
      "Progress:82.4% Speed(reviews/sec):1645. #Correct:413 #Tested:825 Testing Accuracy:50.0%\r",
      "Progress:82.5% Speed(reviews/sec):1644. #Correct:413 #Tested:826 Testing Accuracy:50.0%\r",
      "Progress:82.6% Speed(reviews/sec):1646. #Correct:414 #Tested:827 Testing Accuracy:50.0%\r",
      "Progress:82.7% Speed(reviews/sec):1645. #Correct:414 #Tested:828 Testing Accuracy:50.0%\r",
      "Progress:82.8% Speed(reviews/sec):1646. #Correct:415 #Tested:829 Testing Accuracy:50.0%\r",
      "Progress:82.9% Speed(reviews/sec):1645. #Correct:415 #Tested:830 Testing Accuracy:50.0%\r",
      "Progress:83.0% Speed(reviews/sec):1647. #Correct:416 #Tested:831 Testing Accuracy:50.0%\r",
      "Progress:83.1% Speed(reviews/sec):1646. #Correct:416 #Tested:832 Testing Accuracy:50.0%\r",
      "Progress:83.2% Speed(reviews/sec):1648. #Correct:417 #Tested:833 Testing Accuracy:50.0%\r",
      "Progress:83.3% Speed(reviews/sec):1647. #Correct:417 #Tested:834 Testing Accuracy:50.0%\r",
      "Progress:83.4% Speed(reviews/sec):1649. #Correct:418 #Tested:835 Testing Accuracy:50.0%\r",
      "Progress:83.5% Speed(reviews/sec):1647. #Correct:418 #Tested:836 Testing Accuracy:50.0%\r",
      "Progress:83.6% Speed(reviews/sec):1646. #Correct:419 #Tested:837 Testing Accuracy:50.0%\r",
      "Progress:83.7% Speed(reviews/sec):1648. #Correct:419 #Tested:838 Testing Accuracy:50.0%\r",
      "Progress:83.8% Speed(reviews/sec):1647. #Correct:420 #Tested:839 Testing Accuracy:50.0%\r",
      "Progress:83.9% Speed(reviews/sec):1649. #Correct:420 #Tested:840 Testing Accuracy:50.0%\r",
      "Progress:84.0% Speed(reviews/sec):1647. #Correct:421 #Tested:841 Testing Accuracy:50.0%\r",
      "Progress:84.1% Speed(reviews/sec):1649. #Correct:421 #Tested:842 Testing Accuracy:50.0%\r",
      "Progress:84.2% Speed(reviews/sec):1648. #Correct:422 #Tested:843 Testing Accuracy:50.0%\r",
      "Progress:84.3% Speed(reviews/sec):1650. #Correct:422 #Tested:844 Testing Accuracy:50.0%\r",
      "Progress:84.4% Speed(reviews/sec):1649. #Correct:423 #Tested:845 Testing Accuracy:50.0%\r",
      "Progress:84.5% Speed(reviews/sec):1651. #Correct:423 #Tested:846 Testing Accuracy:50.0%\r",
      "Progress:84.6% Speed(reviews/sec):1650. #Correct:424 #Tested:847 Testing Accuracy:50.0%\r",
      "Progress:84.7% Speed(reviews/sec):1652. #Correct:424 #Tested:848 Testing Accuracy:50.0%\r",
      "Progress:84.8% Speed(reviews/sec):1650. #Correct:425 #Tested:849 Testing Accuracy:50.0%\r",
      "Progress:84.9% Speed(reviews/sec):1652. #Correct:425 #Tested:850 Testing Accuracy:50.0%\r",
      "Progress:85.0% Speed(reviews/sec):1651. #Correct:426 #Tested:851 Testing Accuracy:50.0%\r",
      "Progress:85.1% Speed(reviews/sec):1650. #Correct:426 #Tested:852 Testing Accuracy:50.0%\r",
      "Progress:85.2% Speed(reviews/sec):1652. #Correct:427 #Tested:853 Testing Accuracy:50.0%\r",
      "Progress:85.3% Speed(reviews/sec):1650. #Correct:427 #Tested:854 Testing Accuracy:50.0%\r",
      "Progress:85.4% Speed(reviews/sec):1652. #Correct:428 #Tested:855 Testing Accuracy:50.0%\r",
      "Progress:85.5% Speed(reviews/sec):1651. #Correct:428 #Tested:856 Testing Accuracy:50.0%\r",
      "Progress:85.6% Speed(reviews/sec):1653. #Correct:429 #Tested:857 Testing Accuracy:50.0%\r",
      "Progress:85.7% Speed(reviews/sec):1652. #Correct:429 #Tested:858 Testing Accuracy:50.0%\r",
      "Progress:85.8% Speed(reviews/sec):1654. #Correct:430 #Tested:859 Testing Accuracy:50.0%\r",
      "Progress:85.9% Speed(reviews/sec):1652. #Correct:430 #Tested:860 Testing Accuracy:50.0%\r",
      "Progress:86.0% Speed(reviews/sec):1651. #Correct:431 #Tested:861 Testing Accuracy:50.0%\r",
      "Progress:86.1% Speed(reviews/sec):1653. #Correct:431 #Tested:862 Testing Accuracy:50.0%\r",
      "Progress:86.2% Speed(reviews/sec):1652. #Correct:432 #Tested:863 Testing Accuracy:50.0%\r",
      "Progress:86.3% Speed(reviews/sec):1651. #Correct:432 #Tested:864 Testing Accuracy:50.0%\r",
      "Progress:86.4% Speed(reviews/sec):1653. #Correct:433 #Tested:865 Testing Accuracy:50.0%\r",
      "Progress:86.5% Speed(reviews/sec):1651. #Correct:433 #Tested:866 Testing Accuracy:50.0%\r",
      "Progress:86.6% Speed(reviews/sec):1653. #Correct:434 #Tested:867 Testing Accuracy:50.0%\r",
      "Progress:86.7% Speed(reviews/sec):1652. #Correct:434 #Tested:868 Testing Accuracy:50.0%\r",
      "Progress:86.8% Speed(reviews/sec):1654. #Correct:435 #Tested:869 Testing Accuracy:50.0%\r",
      "Progress:86.9% Speed(reviews/sec):1656. #Correct:435 #Tested:870 Testing Accuracy:50.0%\r",
      "Progress:87.0% Speed(reviews/sec):1655. #Correct:436 #Tested:871 Testing Accuracy:50.0%\r",
      "Progress:87.1% Speed(reviews/sec):1653. #Correct:436 #Tested:872 Testing Accuracy:50.0%\r",
      "Progress:87.2% Speed(reviews/sec):1653. #Correct:437 #Tested:873 Testing Accuracy:50.0%\r",
      "Progress:87.3% Speed(reviews/sec):1655. #Correct:437 #Tested:874 Testing Accuracy:50.0%\r",
      "Progress:87.4% Speed(reviews/sec):1654. #Correct:438 #Tested:875 Testing Accuracy:50.0%\r",
      "Progress:87.5% Speed(reviews/sec):1656. #Correct:438 #Tested:876 Testing Accuracy:50.0%\r",
      "Progress:87.6% Speed(reviews/sec):1655. #Correct:439 #Tested:877 Testing Accuracy:50.0%\r",
      "Progress:87.7% Speed(reviews/sec):1653. #Correct:439 #Tested:878 Testing Accuracy:50.0%\r",
      "Progress:87.8% Speed(reviews/sec):1655. #Correct:440 #Tested:879 Testing Accuracy:50.0%\r",
      "Progress:87.9% Speed(reviews/sec):1654. #Correct:440 #Tested:880 Testing Accuracy:50.0%\r",
      "Progress:88.0% Speed(reviews/sec):1656. #Correct:441 #Tested:881 Testing Accuracy:50.0%\r",
      "Progress:88.1% Speed(reviews/sec):1655. #Correct:441 #Tested:882 Testing Accuracy:50.0%\r",
      "Progress:88.2% Speed(reviews/sec):1657. #Correct:442 #Tested:883 Testing Accuracy:50.0%\r",
      "Progress:88.3% Speed(reviews/sec):1655. #Correct:442 #Tested:884 Testing Accuracy:50.0%\r",
      "Progress:88.4% Speed(reviews/sec):1657. #Correct:443 #Tested:885 Testing Accuracy:50.0%\r",
      "Progress:88.5% Speed(reviews/sec):1656. #Correct:443 #Tested:886 Testing Accuracy:50.0%\r",
      "Progress:88.6% Speed(reviews/sec):1658. #Correct:444 #Tested:887 Testing Accuracy:50.0%\r",
      "Progress:88.7% Speed(reviews/sec):1657. #Correct:444 #Tested:888 Testing Accuracy:50.0%\r",
      "Progress:88.8% Speed(reviews/sec):1659. #Correct:445 #Tested:889 Testing Accuracy:50.0%\r",
      "Progress:88.9% Speed(reviews/sec):1657. #Correct:445 #Tested:890 Testing Accuracy:50.0%\r",
      "Progress:89.0% Speed(reviews/sec):1656. #Correct:446 #Tested:891 Testing Accuracy:50.0%\r",
      "Progress:89.1% Speed(reviews/sec):1658. #Correct:446 #Tested:892 Testing Accuracy:50.0%\r",
      "Progress:89.2% Speed(reviews/sec):1657. #Correct:447 #Tested:893 Testing Accuracy:50.0%\r",
      "Progress:89.3% Speed(reviews/sec):1659. #Correct:447 #Tested:894 Testing Accuracy:50.0%\r",
      "Progress:89.4% Speed(reviews/sec):1657. #Correct:448 #Tested:895 Testing Accuracy:50.0%\r",
      "Progress:89.5% Speed(reviews/sec):1659. #Correct:448 #Tested:896 Testing Accuracy:50.0%\r",
      "Progress:89.6% Speed(reviews/sec):1658. #Correct:449 #Tested:897 Testing Accuracy:50.0%\r",
      "Progress:89.7% Speed(reviews/sec):1660. #Correct:449 #Tested:898 Testing Accuracy:50.0%\r",
      "Progress:89.8% Speed(reviews/sec):1659. #Correct:450 #Tested:899 Testing Accuracy:50.0%\r",
      "Progress:89.9% Speed(reviews/sec):1658. #Correct:450 #Tested:900 Testing Accuracy:50.0%\r",
      "Progress:90.0% Speed(reviews/sec):1659. #Correct:451 #Tested:901 Testing Accuracy:50.0%\r",
      "Progress:90.1% Speed(reviews/sec):1658. #Correct:451 #Tested:902 Testing Accuracy:50.0%\r",
      "Progress:90.2% Speed(reviews/sec):1660. #Correct:452 #Tested:903 Testing Accuracy:50.0%\r",
      "Progress:90.3% Speed(reviews/sec):1659. #Correct:452 #Tested:904 Testing Accuracy:50.0%\r",
      "Progress:90.4% Speed(reviews/sec):1661. #Correct:453 #Tested:905 Testing Accuracy:50.0%\r",
      "Progress:90.5% Speed(reviews/sec):1659. #Correct:453 #Tested:906 Testing Accuracy:50.0%\r",
      "Progress:90.6% Speed(reviews/sec):1658. #Correct:454 #Tested:907 Testing Accuracy:50.0%\r",
      "Progress:90.7% Speed(reviews/sec):1660. #Correct:454 #Tested:908 Testing Accuracy:50.0%\r",
      "Progress:90.8% Speed(reviews/sec):1659. #Correct:455 #Tested:909 Testing Accuracy:50.0%\r",
      "Progress:90.9% Speed(reviews/sec):1661. #Correct:455 #Tested:910 Testing Accuracy:50.0%\r",
      "Progress:91.0% Speed(reviews/sec):1660. #Correct:456 #Tested:911 Testing Accuracy:50.0%\r",
      "Progress:91.1% Speed(reviews/sec):1661. #Correct:456 #Tested:912 Testing Accuracy:50.0%\r",
      "Progress:91.2% Speed(reviews/sec):1660. #Correct:457 #Tested:913 Testing Accuracy:50.0%\r",
      "Progress:91.3% Speed(reviews/sec):1659. #Correct:457 #Tested:914 Testing Accuracy:50.0%\r",
      "Progress:91.4% Speed(reviews/sec):1661. #Correct:458 #Tested:915 Testing Accuracy:50.0%\r",
      "Progress:91.5% Speed(reviews/sec):1660. #Correct:458 #Tested:916 Testing Accuracy:50.0%\r",
      "Progress:91.6% Speed(reviews/sec):1661. #Correct:459 #Tested:917 Testing Accuracy:50.0%\r",
      "Progress:91.7% Speed(reviews/sec):1660. #Correct:459 #Tested:918 Testing Accuracy:50.0%\r",
      "Progress:91.8% Speed(reviews/sec):1662. #Correct:460 #Tested:919 Testing Accuracy:50.0%\r",
      "Progress:91.9% Speed(reviews/sec):1661. #Correct:460 #Tested:920 Testing Accuracy:50.0%\r",
      "Progress:92.0% Speed(reviews/sec):1660. #Correct:461 #Tested:921 Testing Accuracy:50.0%\r",
      "Progress:92.1% Speed(reviews/sec):1661. #Correct:461 #Tested:922 Testing Accuracy:50.0%\r",
      "Progress:92.2% Speed(reviews/sec):1660. #Correct:462 #Tested:923 Testing Accuracy:50.0%\r",
      "Progress:92.3% Speed(reviews/sec):1662. #Correct:462 #Tested:924 Testing Accuracy:50.0%\r",
      "Progress:92.4% Speed(reviews/sec):1661. #Correct:463 #Tested:925 Testing Accuracy:50.0%\r",
      "Progress:92.5% Speed(reviews/sec):1663. #Correct:463 #Tested:926 Testing Accuracy:50.0%\r",
      "Progress:92.6% Speed(reviews/sec):1661. #Correct:464 #Tested:927 Testing Accuracy:50.0%\r",
      "Progress:92.7% Speed(reviews/sec):1663. #Correct:464 #Tested:928 Testing Accuracy:50.0%\r",
      "Progress:92.8% Speed(reviews/sec):1662. #Correct:465 #Tested:929 Testing Accuracy:50.0%\r",
      "Progress:92.9% Speed(reviews/sec):1664. #Correct:465 #Tested:930 Testing Accuracy:50.0%\r",
      "Progress:93.0% Speed(reviews/sec):1663. #Correct:466 #Tested:931 Testing Accuracy:50.0%\r",
      "Progress:93.1% Speed(reviews/sec):1662. #Correct:466 #Tested:932 Testing Accuracy:50.0%\r",
      "Progress:93.2% Speed(reviews/sec):1663. #Correct:467 #Tested:933 Testing Accuracy:50.0%\r",
      "Progress:93.3% Speed(reviews/sec):1662. #Correct:467 #Tested:934 Testing Accuracy:50.0%\r",
      "Progress:93.4% Speed(reviews/sec):1664. #Correct:468 #Tested:935 Testing Accuracy:50.0%\r",
      "Progress:93.5% Speed(reviews/sec):1663. #Correct:468 #Tested:936 Testing Accuracy:50.0%\r",
      "Progress:93.6% Speed(reviews/sec):1665. #Correct:469 #Tested:937 Testing Accuracy:50.0%\r",
      "Progress:93.7% Speed(reviews/sec):1663. #Correct:469 #Tested:938 Testing Accuracy:50.0%\r",
      "Progress:93.8% Speed(reviews/sec):1665. #Correct:470 #Tested:939 Testing Accuracy:50.0%\r",
      "Progress:93.9% Speed(reviews/sec):1664. #Correct:470 #Tested:940 Testing Accuracy:50.0%\r",
      "Progress:94.0% Speed(reviews/sec):1666. #Correct:471 #Tested:941 Testing Accuracy:50.0%\r",
      "Progress:94.1% Speed(reviews/sec):1665. #Correct:471 #Tested:942 Testing Accuracy:50.0%\r",
      "Progress:94.2% Speed(reviews/sec):1666. #Correct:472 #Tested:943 Testing Accuracy:50.0%\r",
      "Progress:94.3% Speed(reviews/sec):1665. #Correct:472 #Tested:944 Testing Accuracy:50.0%\r",
      "Progress:94.4% Speed(reviews/sec):1667. #Correct:473 #Tested:945 Testing Accuracy:50.0%\r",
      "Progress:94.5% Speed(reviews/sec):1666. #Correct:473 #Tested:946 Testing Accuracy:50.0%\r",
      "Progress:94.6% Speed(reviews/sec):1665. #Correct:474 #Tested:947 Testing Accuracy:50.0%\r",
      "Progress:94.7% Speed(reviews/sec):1666. #Correct:474 #Tested:948 Testing Accuracy:50.0%\r",
      "Progress:94.8% Speed(reviews/sec):1665. #Correct:475 #Tested:949 Testing Accuracy:50.0%\r",
      "Progress:94.9% Speed(reviews/sec):1667. #Correct:475 #Tested:950 Testing Accuracy:50.0%\r",
      "Progress:95.0% Speed(reviews/sec):1666. #Correct:476 #Tested:951 Testing Accuracy:50.0%\r",
      "Progress:95.1% Speed(reviews/sec):1665. #Correct:476 #Tested:952 Testing Accuracy:50.0%\r",
      "Progress:95.2% Speed(reviews/sec):1666. #Correct:477 #Tested:953 Testing Accuracy:50.0%\r",
      "Progress:95.3% Speed(reviews/sec):1665. #Correct:477 #Tested:954 Testing Accuracy:50.0%\r",
      "Progress:95.4% Speed(reviews/sec):1667. #Correct:478 #Tested:955 Testing Accuracy:50.0%\r",
      "Progress:95.5% Speed(reviews/sec):1666. #Correct:478 #Tested:956 Testing Accuracy:50.0%\r",
      "Progress:95.6% Speed(reviews/sec):1668. #Correct:479 #Tested:957 Testing Accuracy:50.0%\r",
      "Progress:95.7% Speed(reviews/sec):1666. #Correct:479 #Tested:958 Testing Accuracy:50.0%\r",
      "Progress:95.8% Speed(reviews/sec):1668. #Correct:480 #Tested:959 Testing Accuracy:50.0%\r",
      "Progress:95.9% Speed(reviews/sec):1667. #Correct:480 #Tested:960 Testing Accuracy:50.0%\r",
      "Progress:96.0% Speed(reviews/sec):1669. #Correct:481 #Tested:961 Testing Accuracy:50.0%\r",
      "Progress:96.1% Speed(reviews/sec):1668. #Correct:481 #Tested:962 Testing Accuracy:50.0%\r",
      "Progress:96.2% Speed(reviews/sec):1669. #Correct:482 #Tested:963 Testing Accuracy:50.0%\r",
      "Progress:96.3% Speed(reviews/sec):1668. #Correct:482 #Tested:964 Testing Accuracy:50.0%\r",
      "Progress:96.4% Speed(reviews/sec):1668. #Correct:483 #Tested:965 Testing Accuracy:50.0%\r",
      "Progress:96.5% Speed(reviews/sec):1667. #Correct:483 #Tested:966 Testing Accuracy:50.0%\r",
      "Progress:96.6% Speed(reviews/sec):1669. #Correct:484 #Tested:967 Testing Accuracy:50.0%\r",
      "Progress:96.7% Speed(reviews/sec):1671. #Correct:484 #Tested:968 Testing Accuracy:50.0%\r",
      "Progress:96.8% Speed(reviews/sec):1670. #Correct:485 #Tested:969 Testing Accuracy:50.0%\r",
      "Progress:96.9% Speed(reviews/sec):1668. #Correct:485 #Tested:970 Testing Accuracy:50.0%\r",
      "Progress:97.0% Speed(reviews/sec):1670. #Correct:486 #Tested:971 Testing Accuracy:50.0%\r",
      "Progress:97.1% Speed(reviews/sec):1672. #Correct:486 #Tested:972 Testing Accuracy:50.0%\r",
      "Progress:97.2% Speed(reviews/sec):1671. #Correct:487 #Tested:973 Testing Accuracy:50.0%\r",
      "Progress:97.3% Speed(reviews/sec):1670. #Correct:487 #Tested:974 Testing Accuracy:50.0%"
     ]
    },
    {
     "name": "stdout",
     "output_type": "stream",
     "text": [
      "\r",
      "Progress:97.4% Speed(reviews/sec):1671. #Correct:488 #Tested:975 Testing Accuracy:50.0%\r",
      "Progress:97.5% Speed(reviews/sec):1670. #Correct:488 #Tested:976 Testing Accuracy:50.0%\r",
      "Progress:97.6% Speed(reviews/sec):1669. #Correct:489 #Tested:977 Testing Accuracy:50.0%\r",
      "Progress:97.7% Speed(reviews/sec):1671. #Correct:489 #Tested:978 Testing Accuracy:50.0%\r",
      "Progress:97.8% Speed(reviews/sec):1670. #Correct:490 #Tested:979 Testing Accuracy:50.0%\r",
      "Progress:97.9% Speed(reviews/sec):1668. #Correct:490 #Tested:980 Testing Accuracy:50.0%\r",
      "Progress:98.0% Speed(reviews/sec):1667. #Correct:491 #Tested:981 Testing Accuracy:50.0%\r",
      "Progress:98.1% Speed(reviews/sec):1669. #Correct:491 #Tested:982 Testing Accuracy:50.0%\r",
      "Progress:98.2% Speed(reviews/sec):1668. #Correct:492 #Tested:983 Testing Accuracy:50.0%\r",
      "Progress:98.3% Speed(reviews/sec):1667. #Correct:492 #Tested:984 Testing Accuracy:50.0%\r",
      "Progress:98.4% Speed(reviews/sec):1668. #Correct:493 #Tested:985 Testing Accuracy:50.0%\r",
      "Progress:98.5% Speed(reviews/sec):1667. #Correct:493 #Tested:986 Testing Accuracy:50.0%\r",
      "Progress:98.6% Speed(reviews/sec):1669. #Correct:494 #Tested:987 Testing Accuracy:50.0%\r",
      "Progress:98.7% Speed(reviews/sec):1668. #Correct:494 #Tested:988 Testing Accuracy:50.0%\r",
      "Progress:98.8% Speed(reviews/sec):1667. #Correct:495 #Tested:989 Testing Accuracy:50.0%\r",
      "Progress:98.9% Speed(reviews/sec):1668. #Correct:495 #Tested:990 Testing Accuracy:50.0%\r",
      "Progress:99.0% Speed(reviews/sec):1667. #Correct:496 #Tested:991 Testing Accuracy:50.0%\r",
      "Progress:99.1% Speed(reviews/sec):1669. #Correct:496 #Tested:992 Testing Accuracy:50.0%\r",
      "Progress:99.2% Speed(reviews/sec):1668. #Correct:497 #Tested:993 Testing Accuracy:50.0%\r",
      "Progress:99.3% Speed(reviews/sec):1670. #Correct:497 #Tested:994 Testing Accuracy:50.0%\r",
      "Progress:99.4% Speed(reviews/sec):1668. #Correct:498 #Tested:995 Testing Accuracy:50.0%\r",
      "Progress:99.5% Speed(reviews/sec):1670. #Correct:498 #Tested:996 Testing Accuracy:50.0%\r",
      "Progress:99.6% Speed(reviews/sec):1668. #Correct:499 #Tested:997 Testing Accuracy:50.0%\r",
      "Progress:99.7% Speed(reviews/sec):1669. #Correct:499 #Tested:998 Testing Accuracy:50.0%\r",
      "Progress:99.8% Speed(reviews/sec):1668. #Correct:500 #Tested:999 Testing Accuracy:50.0%\r",
      "Progress:99.9% Speed(reviews/sec):1670. #Correct:500 #Tested:1000 Testing Accuracy:50.0%"
     ]
    }
   ],
   "source": [
    "mlp.test(reviews[-1000:],labels[-1000:])"
   ]
  },
  {
   "cell_type": "markdown",
   "metadata": {
    "id": "teChZ1D-NFlt"
   },
   "source": [
    "Run the following cell to actually train the network. During training, it will display the model's accuracy repeatedly as it trains so you can see how well it's doing."
   ]
  },
  {
   "cell_type": "code",
   "execution_count": null,
   "metadata": {
    "colab": {
     "base_uri": "https://localhost:8080/"
    },
    "executionInfo": {
     "elapsed": 146562,
     "status": "ok",
     "timestamp": 1629337192457,
     "user": {
      "displayName": "Luis Fernando Leal Hernandez",
      "photoUrl": "",
      "userId": "08643725771405988586"
     },
     "user_tz": 300
    },
    "id": "s0FOufJjNFlt",
    "outputId": "851ff258-f8f1-4d34-db26-f1906dbfc48c"
   },
   "outputs": [
    {
     "name": "stdout",
     "output_type": "stream",
     "text": [
      "Progress:0.0% Speed(reviews/sec):0.0 #Correct:0 #Trained:1 Training Accuracy:0.0%\n",
      "Progress:10.4% Speed(reviews/sec):176.8 #Correct:1267 #Trained:2501 Training Accuracy:50.6%\n",
      "Progress:20.8% Speed(reviews/sec):180.3 #Correct:2602 #Trained:5001 Training Accuracy:52.0%\n",
      "Progress:31.2% Speed(reviews/sec):181.2 #Correct:3991 #Trained:7501 Training Accuracy:53.2%\n",
      "Progress:41.6% Speed(reviews/sec):175.9 #Correct:5467 #Trained:10001 Training Accuracy:54.6%\n",
      "Progress:52.0% Speed(reviews/sec):169.4 #Correct:6964 #Trained:12501 Training Accuracy:55.7%\n",
      "Progress:56.4% Speed(reviews/sec):168.6 #Correct:7587 #Trained:13557 Training Accuracy:55.9%"
     ]
    }
   ],
   "source": [
    "mlp.train(reviews[:-1000],labels[:-1000])"
   ]
  },
  {
   "cell_type": "markdown",
   "metadata": {
    "id": "0SAri_6nNFlt"
   },
   "source": [
    "That most likely didn't train very well. Part of the reason may be because the learning rate is too high. Run the following cell to recreate the network with a smaller learning rate, `0.01`, and then train the new network."
   ]
  },
  {
   "cell_type": "code",
   "execution_count": null,
   "metadata": {
    "colab": {
     "base_uri": "https://localhost:8080/"
    },
    "executionInfo": {
     "elapsed": 150299,
     "status": "ok",
     "timestamp": 1629337342736,
     "user": {
      "displayName": "Luis Fernando Leal Hernandez",
      "photoUrl": "",
      "userId": "08643725771405988586"
     },
     "user_tz": 300
    },
    "id": "EIi23x52NFlt",
    "outputId": "cc7dffc9-d964-4eae-eb86-63cc2e64b1bb"
   },
   "outputs": [],
   "source": [
    "mlp = SentimentNetwork(reviews[:-1000],labels[:-1000], learning_rate=0.01)\n",
    "mlp.train(reviews[:-1000],labels[:-1000])"
   ]
  },
  {
   "cell_type": "markdown",
   "metadata": {
    "id": "rj6aqF7pNFlt"
   },
   "source": [
    "That probably wasn't much different. Run the following cell to recreate the network one more time with an even smaller learning rate, `0.001`, and then train the new network."
   ]
  },
  {
   "cell_type": "code",
   "execution_count": null,
   "metadata": {
    "colab": {
     "base_uri": "https://localhost:8080/"
    },
    "executionInfo": {
     "elapsed": 158208,
     "status": "ok",
     "timestamp": 1629337500927,
     "user": {
      "displayName": "Luis Fernando Leal Hernandez",
      "photoUrl": "",
      "userId": "08643725771405988586"
     },
     "user_tz": 300
    },
    "id": "80zF5Cs_NFlt",
    "outputId": "d83dd8bb-adda-433d-8289-718ad12f2528"
   },
   "outputs": [],
   "source": [
    "mlp = SentimentNetwork(reviews[:-1000],labels[:-1000], learning_rate=0.001)\n",
    "mlp.train(reviews[:-1000],labels[:-1000])"
   ]
  },
  {
   "cell_type": "markdown",
   "metadata": {
    "id": "X9Pu9jSXNFlu"
   },
   "source": [
    "With a learning rate of `0.001`, the network should finall have started to improve during training. It's still not very good, but it shows that this solution has potential. We will improve it in the next lesson."
   ]
  },
  {
   "cell_type": "code",
   "execution_count": null,
   "metadata": {
    "colab": {
     "base_uri": "https://localhost:8080/"
    },
    "executionInfo": {
     "elapsed": 158188,
     "status": "ok",
     "timestamp": 1629337659086,
     "user": {
      "displayName": "Luis Fernando Leal Hernandez",
      "photoUrl": "",
      "userId": "08643725771405988586"
     },
     "user_tz": 300
    },
    "id": "4LwXLC0UNFlu",
    "outputId": "9e2e1245-5e8a-418b-fe69-b86ed6853656"
   },
   "outputs": [],
   "source": [
    "mlp = SentimentNetwork(reviews[:-1000],labels[:-1000], learning_rate=0.0003)\n",
    "mlp.train(reviews[:-1000],labels[:-1000])"
   ]
  },
  {
   "cell_type": "markdown",
   "metadata": {
    "id": "lxjRsU1PNFlu"
   },
   "source": [
    "# End of Project 3. "
   ]
  },
  {
   "cell_type": "markdown",
   "metadata": {
    "id": "qu3FiCGXNFlu"
   },
   "source": [
    "# Understanding Neural Noise<a id='lesson_4'></a>\n"
   ]
  },
  {
   "cell_type": "markdown",
   "metadata": {
    "id": "3c6GSRbhoNk5"
   },
   "source": [
    "<img src=\"https://raw.githubusercontent.com/llealgt/moview_review_sentiment_prediction_neural_network/master/sentiment_network.png\">"
   ]
  },
  {
   "cell_type": "code",
   "execution_count": null,
   "metadata": {
    "id": "J8jsbvMTNFlu"
   },
   "outputs": [],
   "source": [
    "def update_input_layer(review):\n",
    "    \n",
    "    global layer_0\n",
    "    \n",
    "    # clear out previous state, reset the layer to be all 0s\n",
    "    layer_0 *= 0\n",
    "    for word in review.split(\" \"):\n",
    "        layer_0[0][word2index[word]] += 1\n",
    "\n",
    "update_input_layer(reviews[0])"
   ]
  },
  {
   "cell_type": "code",
   "execution_count": null,
   "metadata": {
    "colab": {
     "base_uri": "https://localhost:8080/"
    },
    "executionInfo": {
     "elapsed": 54,
     "status": "ok",
     "timestamp": 1629337659087,
     "user": {
      "displayName": "Luis Fernando Leal Hernandez",
      "photoUrl": "",
      "userId": "08643725771405988586"
     },
     "user_tz": 300
    },
    "id": "d735W0RrNFlu",
    "outputId": "7a129ec2-d09c-449a-edef-3505d796865d"
   },
   "outputs": [],
   "source": [
    "layer_0"
   ]
  },
  {
   "cell_type": "code",
   "execution_count": null,
   "metadata": {
    "id": "pXhzRvmLNFlv"
   },
   "outputs": [],
   "source": [
    "review_counter = Counter()"
   ]
  },
  {
   "cell_type": "code",
   "execution_count": null,
   "metadata": {
    "id": "HUfY8rODNFlv"
   },
   "outputs": [],
   "source": [
    "for word in reviews[0].split(\" \"):\n",
    "    review_counter[word] += 1"
   ]
  },
  {
   "cell_type": "code",
   "execution_count": null,
   "metadata": {
    "colab": {
     "base_uri": "https://localhost:8080/"
    },
    "executionInfo": {
     "elapsed": 35,
     "status": "ok",
     "timestamp": 1629337659090,
     "user": {
      "displayName": "Luis Fernando Leal Hernandez",
      "photoUrl": "",
      "userId": "08643725771405988586"
     },
     "user_tz": 300
    },
    "id": "SeJd9krQNFlv",
    "outputId": "2d047902-4e85-4a65-89a6-8c7cbe66b139"
   },
   "outputs": [],
   "source": [
    "review_counter.most_common()"
   ]
  },
  {
   "cell_type": "markdown",
   "metadata": {
    "id": "_TyW_DwGNFlv"
   },
   "source": [
    "# Project 4: Reducing Noise in Our Input Data<a id='project_4'></a>\n",
    "\n",
    "**TODO:** Attempt to reduce the noise in the input data like . Specifically, do the following:\n",
    "* Copy the `SentimentNetwork` class you created earlier into the following cell.\n",
    "* Modify `update_input_layer` so it does not count how many times each word is used, but rather just stores whether or not a word was used. "
   ]
  },
  {
   "cell_type": "code",
   "execution_count": null,
   "metadata": {
    "id": "zxAd0fcoNFlv"
   },
   "outputs": [],
   "source": [
    "# TODO: -Copy the SentimentNetwork class from Projet 3 lesson\n",
    "#       -Modify it to reduce noise by setting 1(presence) or 0(ausence) instead of counts\n",
    "import time\n",
    "import sys\n",
    "import numpy as np\n",
    "\n",
    "# Encapsulate our neural network in a class\n",
    "class SentimentNetwork:\n",
    "    def __init__(self, reviews, labels, hidden_nodes = 10, learning_rate = 0.1):\n",
    "        \"\"\"Create a SentimenNetwork with the given settings\n",
    "        Args:\n",
    "            reviews(list) - List of reviews used for training\n",
    "            labels(list) - List of POSITIVE/NEGATIVE labels associated with the given reviews\n",
    "            hidden_nodes(int) - Number of nodes to create in the hidden layer\n",
    "            learning_rate(float) - Learning rate to use while training\n",
    "        \n",
    "        \"\"\"\n",
    "        # Assign a seed to our random number generator to ensure we get\n",
    "        # reproducable results during development \n",
    "        np.random.seed(1)\n",
    "\n",
    "        # process the reviews and their associated labels so that everything\n",
    "        # is ready for training\n",
    "        self.pre_process_data(reviews, labels)\n",
    "        \n",
    "        # Build the network to have the number of hidden nodes and the learning rate that\n",
    "        # were passed into this initializer. Make the same number of input nodes as\n",
    "        # there are vocabulary words and create a single output node.\n",
    "        self.init_network(len(self.review_vocab),hidden_nodes, 1, learning_rate)\n",
    "\n",
    "    def pre_process_data(self, reviews, labels):\n",
    "        \n",
    "        review_vocab = set()\n",
    "        # TODO: populate review_vocab with all of the words in the given reviews\n",
    "        #       Remember to split reviews into individual words \n",
    "        #       using \"split(' ')\" instead of \"split()\".\n",
    "        \n",
    "        for review in reviews:\n",
    "            words = review.split(' ')\n",
    "            for word in words:\n",
    "                review_vocab.add(word)\n",
    "        # Convert the vocabulary set to a list so we can access words via indices\n",
    "        self.review_vocab = list(review_vocab)\n",
    "        \n",
    "        label_vocab = set()\n",
    "        # TODO: populate label_vocab with all of the words in the given labels.\n",
    "        #       There is no need to split the labels because each one is a single word.\n",
    "        \n",
    "        for label in labels:\n",
    "            label_vocab.add(label)\n",
    "        # Convert the label vocabulary set to a list so we can access labels via indices\n",
    "        self.label_vocab = list(label_vocab)\n",
    "        \n",
    "        # Store the sizes of the review and label vocabularies.\n",
    "        self.review_vocab_size = len(self.review_vocab)\n",
    "        self.label_vocab_size = len(self.label_vocab)\n",
    "        \n",
    "        # Create a dictionary of words in the vocabulary mapped to index positions\n",
    "        self.word2index = {}\n",
    "        # TODO: populate self.word2index with indices for all the words in self.review_vocab\n",
    "        #       like you saw earlier in the notebook\n",
    "        for index,word in enumerate(self.review_vocab):\n",
    "            self.word2index[word] = index\n",
    "        # Create a dictionary of labels mapped to index positions\n",
    "        self.label2index = {}\n",
    "        # TODO: do the same thing you did for self.word2index and self.review_vocab, \n",
    "        #       but for self.label2index and self.label_vocab instead\n",
    "        for index,label in enumerate(self.label_vocab):\n",
    "            self.label2index[label] = index\n",
    "            \n",
    "        \n",
    "    def init_network(self, input_nodes, hidden_nodes, output_nodes, learning_rate):\n",
    "        # Store the number of nodes in input, hidden, and output layers.\n",
    "        self.input_nodes = input_nodes\n",
    "        self.hidden_nodes = hidden_nodes\n",
    "        self.output_nodes = output_nodes\n",
    "\n",
    "        # Store the learning rate\n",
    "        self.learning_rate = learning_rate\n",
    "\n",
    "        # Initialize weights\n",
    "        \n",
    "        # TODO: initialize self.weights_0_1 as a matrix of zeros. These are the weights between\n",
    "        #       the input layer and the hidden layer.\n",
    "        self.weights_0_1 = np.random.normal(0.0, np.sqrt(1/input_nodes),\n",
    "                                            (input_nodes,hidden_nodes))\n",
    "        \n",
    "        # TODO: initialize self.weights_1_2 as a matrix of random values. \n",
    "        #       These are the weights between the hidden layer and the output layer.\n",
    "        self.weights_1_2 = np.random.normal(0.0, np.sqrt(1/input_nodes), \n",
    "                                                (self.hidden_nodes, self.output_nodes))\n",
    "        \n",
    "        # TODO: Create the input layer, a two-dimensional matrix with shape \n",
    "        #       1 x input_nodes, with all values initialized to zero\n",
    "        self.layer_0 = np.zeros((1,input_nodes))\n",
    "    \n",
    "        \n",
    "    def update_input_layer(self,review):\n",
    "        # TODO: You can copy most of the code you wrote for update_input_layer \n",
    "        #       earlier in this notebook. \n",
    "        #\n",
    "        #       However, MAKE SURE YOU CHANGE ALL VARIABLES TO REFERENCE\n",
    "        #       THE VERSIONS STORED IN THIS OBJECT, NOT THE GLOBAL OBJECTS.\n",
    "        #       For example, replace \"layer_0 *= 0\" with \"self.layer_0 *= 0\"\n",
    "        self.layer_0*=0\n",
    "        for word in review.split(' '):\n",
    "            if word in self.word2index.keys():\n",
    "                word_index = self.word2index[word]\n",
    "                self.layer_0[0,word_index] = 1\n",
    "                \n",
    "    def get_target_for_label(self,label):\n",
    "        # TODO: Copy the code you wrote for get_target_for_label \n",
    "        #       earlier in this notebook. \n",
    "        return 0 if label == 'NEGATIVE' else 1\n",
    "        \n",
    "    def sigmoid(self,x):\n",
    "        # TODO: Return the result of calculating the sigmoid activation function\n",
    "        #       shown in the lectures\n",
    "        return 1 / ( 1 + np.exp(-x))\n",
    "    \n",
    "    def sigmoid_output_2_derivative(self,output):\n",
    "        # TODO: Return the derivative of the sigmoid activation function, \n",
    "        #       where \"output\" is the original output from the sigmoid fucntion \n",
    "        return output * (1 - output)\n",
    "\n",
    "    def sigmoid_prime(self,output):\n",
    "        # TODO: Return the derivative of the sigmoid activation function, \n",
    "        return output * (1 - output)\n",
    "\n",
    "\n",
    "    def train(self, training_reviews, training_labels):\n",
    "        \n",
    "        # make sure out we have a matching number of reviews and labels\n",
    "        assert(len(training_reviews) == len(training_labels))\n",
    "        \n",
    "        # Keep track of correct predictions to display accuracy during training \n",
    "        correct_so_far = 0\n",
    "        \n",
    "        # Remember when we started for printing time statistics\n",
    "        start = time.time()\n",
    "\n",
    "        # loop through all the given reviews and run a forward and backward pass,\n",
    "        # updating weights for every item\n",
    "        for i in range(len(training_reviews)):\n",
    "            \n",
    "            # TODO: Get the next review and its correct label\n",
    "            review = training_reviews[i]\n",
    "            label = training_labels[i]\n",
    "            # TODO: Implement the forward pass through the network. \n",
    "            #       That means use the given review to update the input layer, \n",
    "            #       then calculate values for the hidden layer,\n",
    "            #       and finally calculate the output layer.\n",
    "            # \n",
    "            #       Do not use an activation function for the hidden layer,\n",
    "            #       but use the sigmoid activation function for the output layer.\n",
    "            self.update_input_layer(review)\n",
    "            hidden_layer_logits = np.dot(self.layer_0,self.weights_0_1)\n",
    "            hidden_layer_output = self.sigmoid(hidden_layer_logits)\n",
    "            output_layer_logits = np.dot(hidden_layer_output,self.weights_1_2)\n",
    "            output_layer_predictions = self.sigmoid(output_layer_logits)\n",
    "            #print(\"output layer\",output_layer_predictions.shape)\n",
    "            # TODO: Implement the back propagation pass here. \n",
    "            #       That means calculate the error for the forward pass's prediction\n",
    "            #       and update the weights in the network according to their\n",
    "            #       contributions toward the error, as calculated via the\n",
    "            #       gradient descent and back propagation algorithms you \n",
    "            #       learned in class.\n",
    "            error = output_layer_predictions - self.get_target_for_label(label) # dL/da2(derivada del costo respecto de la salida y_pred)\n",
    "            #print(\"error\",error.shape)\n",
    "            #calculate the error terms of each layer\n",
    "            output_error_term = error*self.sigmoid_prime(output_layer_predictions) #dL/dz2(derivada del costo respecto de la pre-activacion z2, el termino de error delta2)\n",
    "            #print(\"output error term\",output_error_term.shape)\n",
    "            #print(\"sigmoid prime(hidden)\",self.sigmoid_prime(hidden_layer_output).shape)\n",
    "            hidden_error_term = np.matmul(self.weights_1_2,output_error_term)*self.sigmoid_prime(hidden_layer_output).T# dL/dz1 (derivada del costo respecto de la pre-activacion z1, el termino de error delta1)\n",
    "            #print(\"hidden error term\",hidden_error_term.shape)\n",
    "            #print(\"hidden layer output\",hidden_layer_output.shape)\n",
    "            #calculate the delta on the weights of each layer\n",
    "\n",
    "            ## una vez calculados los terminos de error delta(derivadas respecto de z) los usamos para calcular las derivadas parciales respecto de los parametros usando #activacion entrante * error saliente\n",
    "            grad_weights_h_o =  output_error_term * hidden_layer_output\n",
    "            grad_weights_i_h = hidden_error_term * self.layer_0\n",
    "            #print(\"calculated\",(self.learning_rate*delta_weights_h_o).shape)\n",
    "            #print(\"weights\",self.weights_1_2.shape)\n",
    "\n",
    "            ## una vez calculadas las derivadas respecto de los parametros aplicamos \"gradient descent\"\n",
    "            self.weights_1_2-= (self.learning_rate*grad_weights_h_o).T\n",
    "            self.weights_0_1-= (self.learning_rate*grad_weights_i_h).T\n",
    "            # TODO: Keep track of correct predictions. To determine if the prediction was\n",
    "            #       correct, check that the absolute value of the output error \n",
    "            #       is less than 0.5. If so, add one to the correct_so_far count.\n",
    "            #Note to myself: strange way to calc correctness hmmm\n",
    "            if  np.abs(error) < 0.5:\n",
    "                correct_so_far+=1\n",
    "            \n",
    "            # For debug purposes, print out our prediction accuracy and speed \n",
    "            # throughout the training process. \n",
    "\n",
    "            elapsed_time = float(time.time() - start)\n",
    "            reviews_per_second = i / elapsed_time if elapsed_time > 0 else 0\n",
    "            \n",
    "            sys.stdout.write(\"\\rProgress:\" + str(100 * i/float(len(training_reviews)))[:4] \\\n",
    "                             + \"% Speed(reviews/sec):\" + str(reviews_per_second)[0:5] \\\n",
    "                             + \" #Correct:\" + str(correct_so_far) + \" #Trained:\" + str(i+1) \\\n",
    "                             + \" Training Accuracy:\" + str(correct_so_far * 100 / float(i+1))[:4] + \"%\")\n",
    "            if(i % 2500 == 0):\n",
    "                print(\"\")\n",
    "    \n",
    "    def test(self, testing_reviews, testing_labels):\n",
    "        \"\"\"\n",
    "        Attempts to predict the labels for the given testing_reviews,\n",
    "        and uses the test_labels to calculate the accuracy of those predictions.\n",
    "        \"\"\"\n",
    "        \n",
    "        # keep track of how many correct predictions we make\n",
    "        correct = 0\n",
    "\n",
    "        # we'll time how many predictions per second we make\n",
    "        start = time.time()\n",
    "\n",
    "        # Loop through each of the given reviews and call run to predict\n",
    "        # its label. \n",
    "        for i in range(len(testing_reviews)):\n",
    "            pred = self.run(testing_reviews[i])\n",
    "            if(pred == testing_labels[i]):\n",
    "                correct += 1\n",
    "            \n",
    "            # For debug purposes, print out our prediction accuracy and speed \n",
    "            # throughout the prediction process. \n",
    "\n",
    "            elapsed_time = float(time.time() - start)\n",
    "            reviews_per_second = i / elapsed_time if elapsed_time > 0 else 0\n",
    "            \n",
    "            sys.stdout.write(\"\\rProgress:\" + str(100 * i/float(len(testing_reviews)))[:4] \\\n",
    "                             + \"% Speed(reviews/sec):\" + str(reviews_per_second)[0:5] \\\n",
    "                             + \" #Correct:\" + str(correct) + \" #Tested:\" + str(i+1) \\\n",
    "                             + \" Testing Accuracy:\" + str(correct * 100 / float(i+1))[:4] + \"%\")\n",
    "    \n",
    "    def run(self, review):\n",
    "        \"\"\"\n",
    "        Returns a POSITIVE or NEGATIVE prediction for the given review.\n",
    "        \"\"\"\n",
    "        # TODO: Run a forward pass through the network, like you did in the\n",
    "        #       \"train\" function. That means use the given review to \n",
    "        #       update the input layer, then calculate values for the hidden layer,\n",
    "        #       and finally calculate the output layer.\n",
    "        #\n",
    "        #       Note: The review passed into this function for prediction \n",
    "        #             might come from anywhere, so you should convert it \n",
    "        #             to lower case prior to using it.\n",
    "        review = review.lower()\n",
    "        self.update_input_layer(review)\n",
    "        hidden_logits = np.dot(self.layer_0,self.weights_0_1)\n",
    "        hidden_output = self.sigmoid(hidden_logits)\n",
    "        output_logits = np.dot(hidden_output,self.weights_1_2)\n",
    "        output = self.sigmoid(output_logits)\n",
    "\n",
    "        # TODO: The output layer should now contain a prediction. \n",
    "        #       Return `POSITIVE` for predictions greater-than-or-equal-to `0.5`, \n",
    "        #       and `NEGATIVE` otherwise.\n",
    "        return \"POSITIVE\" if output >= 0.5 else \"NEGATIVE\"\n"
   ]
  },
  {
   "cell_type": "markdown",
   "metadata": {
    "id": "bWQneEPDNFlw"
   },
   "source": [
    "Run the following cell to recreate the network and train it. Notice we've gone back to the higher learning rate of `0.1`."
   ]
  },
  {
   "cell_type": "code",
   "execution_count": null,
   "metadata": {
    "colab": {
     "base_uri": "https://localhost:8080/"
    },
    "executionInfo": {
     "elapsed": 156716,
     "status": "ok",
     "timestamp": 1629337816300,
     "user": {
      "displayName": "Luis Fernando Leal Hernandez",
      "photoUrl": "",
      "userId": "08643725771405988586"
     },
     "user_tz": 300
    },
    "id": "AHumlbZKNFlw",
    "outputId": "0cd95cd9-3304-4649-8e25-89518526c45d"
   },
   "outputs": [],
   "source": [
    "mlp = SentimentNetwork(reviews[:-1000],labels[:-1000], learning_rate=0.1)\n",
    "mlp.train(reviews[:-1000],labels[:-1000])"
   ]
  },
  {
   "cell_type": "markdown",
   "metadata": {
    "id": "CbvRfc5pNFlw"
   },
   "source": [
    "That should have trained much better than the earlier attempts. It's still not wonderful, but it should have improved dramatically. Run the following cell to test your model with 1000 predictions."
   ]
  },
  {
   "cell_type": "code",
   "execution_count": null,
   "metadata": {
    "colab": {
     "base_uri": "https://localhost:8080/"
    },
    "executionInfo": {
     "elapsed": 1963,
     "status": "ok",
     "timestamp": 1629337818234,
     "user": {
      "displayName": "Luis Fernando Leal Hernandez",
      "photoUrl": "",
      "userId": "08643725771405988586"
     },
     "user_tz": 300
    },
    "id": "5Ln-b2yaNFlw",
    "outputId": "04c49e22-a8a5-4018-ec2f-1cbc87071b64"
   },
   "outputs": [],
   "source": [
    "mlp.test(reviews[-1000:],labels[-1000:])"
   ]
  },
  {
   "cell_type": "markdown",
   "metadata": {
    "id": "wZtkHB8FNFlw"
   },
   "source": [
    "# End of Project 4. \n",
    "\n",
    "# Analyzing Inefficiencies in our Network<a id='lesson_5'></a>"
   ]
  },
  {
   "cell_type": "markdown",
   "metadata": {
    "id": "eVfdHjhdp-PK"
   },
   "source": [
    "<img src=\"https://raw.githubusercontent.com/llealgt/moview_review_sentiment_prediction_neural_network/master/sentiment_network_sparse.png\">"
   ]
  },
  {
   "cell_type": "code",
   "execution_count": null,
   "metadata": {
    "id": "_dRnwYUMNFlx"
   },
   "outputs": [],
   "source": [
    "layer_0 = np.zeros(10)"
   ]
  },
  {
   "cell_type": "code",
   "execution_count": null,
   "metadata": {
    "colab": {
     "base_uri": "https://localhost:8080/"
    },
    "executionInfo": {
     "elapsed": 59,
     "status": "ok",
     "timestamp": 1629337818237,
     "user": {
      "displayName": "Luis Fernando Leal Hernandez",
      "photoUrl": "",
      "userId": "08643725771405988586"
     },
     "user_tz": 300
    },
    "id": "8fGk3xEcNFlx",
    "outputId": "313f94a0-b6d2-4850-cdb0-0f43001c9da0"
   },
   "outputs": [],
   "source": [
    "layer_0"
   ]
  },
  {
   "cell_type": "code",
   "execution_count": null,
   "metadata": {
    "id": "nr1e89BONFlx"
   },
   "outputs": [],
   "source": [
    "layer_0[4] = 1\n",
    "layer_0[9] = 1"
   ]
  },
  {
   "cell_type": "code",
   "execution_count": null,
   "metadata": {
    "colab": {
     "base_uri": "https://localhost:8080/"
    },
    "executionInfo": {
     "elapsed": 38,
     "status": "ok",
     "timestamp": 1629337818238,
     "user": {
      "displayName": "Luis Fernando Leal Hernandez",
      "photoUrl": "",
      "userId": "08643725771405988586"
     },
     "user_tz": 300
    },
    "id": "NOw34BJiNFlx",
    "outputId": "3bed1141-885f-425e-835f-9630ee8b816b"
   },
   "outputs": [],
   "source": [
    "layer_0"
   ]
  },
  {
   "cell_type": "code",
   "execution_count": null,
   "metadata": {
    "id": "V5rVvVvyNFlx"
   },
   "outputs": [],
   "source": [
    "weights_0_1 = np.random.randn(10,5)"
   ]
  },
  {
   "cell_type": "code",
   "execution_count": null,
   "metadata": {
    "colab": {
     "base_uri": "https://localhost:8080/"
    },
    "executionInfo": {
     "elapsed": 31,
     "status": "ok",
     "timestamp": 1629337818239,
     "user": {
      "displayName": "Luis Fernando Leal Hernandez",
      "photoUrl": "",
      "userId": "08643725771405988586"
     },
     "user_tz": 300
    },
    "id": "uljK_odlNFlx",
    "outputId": "41e4e675-22a8-4fbc-b988-53ee5fd87bac"
   },
   "outputs": [],
   "source": [
    "layer_0.dot(weights_0_1)"
   ]
  },
  {
   "cell_type": "code",
   "execution_count": null,
   "metadata": {
    "id": "C-LSt2H3NFly"
   },
   "outputs": [],
   "source": [
    "indices = [4,9]"
   ]
  },
  {
   "cell_type": "code",
   "execution_count": null,
   "metadata": {
    "id": "9J8qhMjCNFly"
   },
   "outputs": [],
   "source": [
    "layer_1 = np.zeros(5)"
   ]
  },
  {
   "cell_type": "code",
   "execution_count": null,
   "metadata": {
    "id": "ltLElVopNFly"
   },
   "outputs": [],
   "source": [
    "for index in indices:\n",
    "    layer_1 += (1 * weights_0_1[index])"
   ]
  },
  {
   "cell_type": "code",
   "execution_count": null,
   "metadata": {
    "colab": {
     "base_uri": "https://localhost:8080/"
    },
    "executionInfo": {
     "elapsed": 43,
     "status": "ok",
     "timestamp": 1629337818456,
     "user": {
      "displayName": "Luis Fernando Leal Hernandez",
      "photoUrl": "",
      "userId": "08643725771405988586"
     },
     "user_tz": 300
    },
    "id": "yIUr7VZnNFly",
    "outputId": "c2edaf21-8d31-4f1a-8967-8cdbe14579ad"
   },
   "outputs": [],
   "source": [
    "layer_1"
   ]
  },
  {
   "cell_type": "markdown",
   "metadata": {
    "id": "eR1V9F4wqKS7"
   },
   "source": [
    "<img src=\"https://raw.githubusercontent.com/llealgt/moview_review_sentiment_prediction_neural_network/master/sentiment_network_sparse_2.png\">"
   ]
  },
  {
   "cell_type": "code",
   "execution_count": null,
   "metadata": {
    "id": "Evd5T317NFly"
   },
   "outputs": [],
   "source": [
    "layer_1 = np.zeros(5)"
   ]
  },
  {
   "cell_type": "code",
   "execution_count": null,
   "metadata": {
    "id": "Wdp_wZiENFly"
   },
   "outputs": [],
   "source": [
    "for index in indices:\n",
    "    layer_1 += (weights_0_1[index])"
   ]
  },
  {
   "cell_type": "code",
   "execution_count": null,
   "metadata": {
    "colab": {
     "base_uri": "https://localhost:8080/"
    },
    "executionInfo": {
     "elapsed": 32,
     "status": "ok",
     "timestamp": 1629337818459,
     "user": {
      "displayName": "Luis Fernando Leal Hernandez",
      "photoUrl": "",
      "userId": "08643725771405988586"
     },
     "user_tz": 300
    },
    "id": "YgLhiqmwNFlz",
    "outputId": "eec75a08-5d18-452f-a740-9827ac4d519b"
   },
   "outputs": [],
   "source": [
    "layer_1"
   ]
  },
  {
   "cell_type": "markdown",
   "metadata": {
    "id": "4cwxE6whNFlz"
   },
   "source": [
    "# Project 5: Making our Network More Efficient<a id='project_5'></a>\n",
    "**TODO:** Make the `SentimentNetwork` class more efficient by eliminating unnecessary multiplications and additions that occur during forward and backward propagation. To do that, you can do the following:\n",
    "* Copy the `SentimentNetwork` class from the previous project into the following cell.\n",
    "* Remove the `update_input_layer` function - you will not need it in this version.\n",
    "* Modify `init_network`:\n",
    ">* You no longer need a separate input layer, so remove any mention of `self.layer_0`\n",
    ">* You will be dealing with the old hidden layer more directly, so create `self.layer_1`, a two-dimensional matrix with shape 1 x hidden_nodes, with all values initialized to zero\n",
    "* Modify `train`:\n",
    ">* Change the name of the input parameter `training_reviews` to `training_reviews_raw`. This will help with the next step.\n",
    ">* At the beginning of the function, you'll want to preprocess your reviews to convert them to a list of indices (from `word2index`) that are actually used in the review. This is equivalent to what you saw in the video when Andrew set specific indices to 1. Your code should create a local `list` variable named `training_reviews` that should contain a `list` for each review in `training_reviews_raw`. Those lists should contain the indices for words found in the review.\n",
    ">* Remove call to `update_input_layer`\n",
    ">* Use `self`'s  `layer_1` instead of a local `layer_1` object.\n",
    ">* In the forward pass, replace the code that updates `layer_1` with new logic that only adds the weights for the indices used in the review.\n",
    ">* When updating `weights_0_1`, only update the individual weights that were used in the forward pass.\n",
    "* Modify `run`:\n",
    ">* Remove call to `update_input_layer` \n",
    ">* Use `self`'s  `layer_1` instead of a local `layer_1` object.\n",
    ">* Much like you did in `train`, you will need to pre-process the `review` so you can work with word indices, then update `layer_1` by adding weights for the indices used in the review."
   ]
  },
  {
   "cell_type": "code",
   "execution_count": null,
   "metadata": {
    "id": "RIF7Jni6NFlz"
   },
   "outputs": [],
   "source": [
    "# TODO: -Copy the SentimentNetwork class from Project 4 lesson\n",
    "#       -Modify it according to the above instructions \n",
    "#       -Modify it to reduce noise, like in the video \n",
    "import time\n",
    "import sys\n",
    "import numpy as np\n",
    "\n",
    "# Encapsulate our neural network in a class\n",
    "class SentimentNetwork:\n",
    "    def __init__(self, reviews, labels, hidden_nodes = 10, learning_rate = 0.1):\n",
    "        \"\"\"Create a SentimenNetwork with the given settings\n",
    "        Args:\n",
    "            reviews(list) - List of reviews used for training\n",
    "            labels(list) - List of POSITIVE/NEGATIVE labels associated with the given reviews\n",
    "            hidden_nodes(int) - Number of nodes to create in the hidden layer\n",
    "            learning_rate(float) - Learning rate to use while training\n",
    "        \n",
    "        \"\"\"\n",
    "        # Assign a seed to our random number generator to ensure we get\n",
    "        # reproducable results during development \n",
    "        np.random.seed(1)\n",
    "\n",
    "        # process the reviews and their associated labels so that everything\n",
    "        # is ready for training\n",
    "        self.pre_process_data(reviews, labels)\n",
    "        \n",
    "        # Build the network to have the number of hidden nodes and the learning rate that\n",
    "        # were passed into this initializer. Make the same number of input nodes as\n",
    "        # there are vocabulary words and create a single output node.\n",
    "        self.init_network(len(self.review_vocab),hidden_nodes, 1, learning_rate)\n",
    "\n",
    "    def pre_process_data(self, reviews, labels):\n",
    "        \n",
    "        review_vocab = set()\n",
    "        # TODO: populate review_vocab with all of the words in the given reviews\n",
    "        #       Remember to split reviews into individual words \n",
    "        #       using \"split(' ')\" instead of \"split()\".\n",
    "        \n",
    "        for review in reviews:\n",
    "            words = review.split(' ')\n",
    "            for word in words:\n",
    "                review_vocab.add(word)\n",
    "        # Convert the vocabulary set to a list so we can access words via indices\n",
    "        self.review_vocab = list(review_vocab)\n",
    "        \n",
    "        label_vocab = set()\n",
    "        # TODO: populate label_vocab with all of the words in the given labels.\n",
    "        #       There is no need to split the labels because each one is a single word.\n",
    "        \n",
    "        for label in labels:\n",
    "            label_vocab.add(label)\n",
    "        # Convert the label vocabulary set to a list so we can access labels via indices\n",
    "        self.label_vocab = list(label_vocab)\n",
    "        \n",
    "        # Store the sizes of the review and label vocabularies.\n",
    "        self.review_vocab_size = len(self.review_vocab)\n",
    "        self.label_vocab_size = len(self.label_vocab)\n",
    "        \n",
    "        # Create a dictionary of words in the vocabulary mapped to index positions\n",
    "        self.word2index = {}\n",
    "        # TODO: populate self.word2index with indices for all the words in self.review_vocab\n",
    "        #       like you saw earlier in the notebook\n",
    "        for index,word in enumerate(self.review_vocab):\n",
    "            self.word2index[word] = index\n",
    "        # Create a dictionary of labels mapped to index positions\n",
    "        self.label2index = {}\n",
    "        # TODO: do the same thing you did for self.word2index and self.review_vocab, \n",
    "        #       but for self.label2index and self.label_vocab instead\n",
    "        for index,label in enumerate(self.label_vocab):\n",
    "            self.label2index[label] = index\n",
    "            \n",
    "        \n",
    "    def init_network(self, input_nodes, hidden_nodes, output_nodes, learning_rate):\n",
    "        # Store the number of nodes in input, hidden, and output layers.\n",
    "        self.input_nodes = input_nodes\n",
    "        self.hidden_nodes = hidden_nodes\n",
    "        self.output_nodes = output_nodes\n",
    "\n",
    "        # Store the learning rate\n",
    "        self.learning_rate = learning_rate\n",
    "\n",
    "        # Initialize weights\n",
    "        \n",
    "        # TODO: initialize self.weights_0_1 as a matrix of zeros. These are the weights between\n",
    "        #       the input layer and the hidden layer.\n",
    "        self.weights_0_1 = np.zeros((input_nodes,hidden_nodes))\n",
    "        \n",
    "        # TODO: initialize self.weights_1_2 as a matrix of random values. \n",
    "        #       These are the weights between the hidden layer and the output layer.\n",
    "        self.weights_1_2 = np.random.normal(0.0, self.output_nodes**-0.5, \n",
    "                                                (self.hidden_nodes, self.output_nodes))\n",
    "        \n",
    "        # TODO: Create the input layer, a two-dimensional matrix with shape \n",
    "        #       1 x input_nodes, with all values initialized to zero\n",
    "        self.layer_1 = np.zeros((1,hidden_nodes))\n",
    "    \n",
    "                \n",
    "    def get_target_for_label(self,label):\n",
    "        # TODO: Copy the code you wrote for get_target_for_label \n",
    "        #       earlier in this notebook. \n",
    "        return 0 if label == 'NEGATIVE' else 1\n",
    "        \n",
    "    def sigmoid(self,x):\n",
    "        # TODO: Return the result of calculating the sigmoid activation function\n",
    "        #       shown in the lectures\n",
    "        return 1 / ( 1 + np.exp(-x))\n",
    "    \n",
    "    def sigmoid_output_2_derivative(self,output):\n",
    "        # TODO: Return the derivative of the sigmoid activation function, \n",
    "        #       where \"output\" is the original output from the sigmoid fucntion \n",
    "        return output * (1 - output)\n",
    "\n",
    "    def train(self, training_reviews_raw, training_labels):\n",
    "        \n",
    "        # make sure out we have a matching number of reviews and labels\n",
    "        assert(len(training_reviews_raw) == len(training_labels))\n",
    "        #create a list of lists, each inner list contains the word2index index for a review\n",
    "        training_reviews = list()\n",
    "        \n",
    "\n",
    "        for review in training_reviews_raw:\n",
    "            review_indices = set()\n",
    "            words = review.split(' ')\n",
    "            for word in words:\n",
    "                if word in self.word2index:\n",
    "                    review_indices.add(self.word2index[word])\n",
    "            training_reviews.append(list(review_indices))\n",
    "        # Keep track of correct predictions to display accuracy during training \n",
    "        correct_so_far = 0\n",
    "        \n",
    "        # Remember when we started for printing time statistics\n",
    "        start = time.time()\n",
    "\n",
    "        # loop through all the given reviews and run a forward and backward pass,\n",
    "        # updating weights for every item\n",
    "        for i in range(len(training_reviews)):\n",
    "            \n",
    "            # TODO: Get the next review and its correct label\n",
    "            review = training_reviews[i]\n",
    "            label = training_labels[i]\n",
    "            # TODO: Implement the forward pass through the network. \n",
    "            #       That means use the given review to update the input layer, \n",
    "            #       then calculate values for the hidden layer,\n",
    "            #       and finally calculate the output layer.\n",
    "            # \n",
    "            #       Do not use an activation function for the hidden layer,\n",
    "            #       but use the sigmoid activation function for the output layer.\n",
    "            \n",
    "            #TODO:update hidden layer so self.layer_1 is used and its calculated optimally\n",
    "            self.layer_1 *= 0\n",
    "            self.layer_1 = sum(self.weights_0_1[review])\n",
    "            \n",
    "            output_layer_logits = np.dot(self.layer_1,self.weights_1_2)\n",
    "            output_layer_predictions = self.sigmoid(output_layer_logits)\n",
    "            #print(\"output layer\",output_layer_predictions.shape)\n",
    "            # TODO: Implement the back propagation pass here. (only update used weights)\n",
    "            #       That means calculate the error for the forward pass's prediction\n",
    "            #       and update the weights in the network according to their\n",
    "            #       contributions toward the error, as calculated via the\n",
    "            #       gradient descent and back propagation algorithms you \n",
    "            #       learned in class.\n",
    "            error = output_layer_predictions - self.get_target_for_label(label)\n",
    "            output_error_term = error*self.sigmoid_output_2_derivative(output_layer_predictions)\n",
    "            hidden_error_term = self.weights_1_2*output_error_term\n",
    "            \n",
    "            delta_weights_h_o =  output_error_term * self.layer_1\n",
    "            #TODO:Only update weights with input  = 1\n",
    "            delta_weights_i_h = hidden_error_term#*layer0 #\n",
    "            self.weights_1_2-= (self.learning_rate*delta_weights_h_o).reshape(self.weights_1_2.shape)\n",
    "            self.weights_0_1[review]-= (self.learning_rate*delta_weights_i_h).T\n",
    "            # Keep track of correct predictions.\n",
    "            if(output_layer_predictions >= 0.5 and label == 'POSITIVE'):\n",
    "                correct_so_far += 1\n",
    "            elif(output_layer_predictions < 0.5 and label == 'NEGATIVE'):\n",
    "                correct_so_far += 1\n",
    "            \n",
    "            # For debug purposes, print out our prediction accuracy and speed \n",
    "            # throughout the training process. \n",
    "\n",
    "            elapsed_time = float(time.time() - start)\n",
    "            reviews_per_second = i / elapsed_time if elapsed_time > 0 else 0\n",
    "            \n",
    "            sys.stdout.write(\"\\rProgress:\" + str(100 * i/float(len(training_reviews)))[:4] \\\n",
    "                             + \"% Speed(reviews/sec):\" + str(reviews_per_second)[0:5] \\\n",
    "                             + \" #Correct:\" + str(correct_so_far) + \" #Trained:\" + str(i+1) \\\n",
    "                             + \" Training Accuracy:\" + str(correct_so_far * 100 / float(i+1))[:4] + \"%\")\n",
    "            if(i % 2500 == 0):\n",
    "                print(\"\")\n",
    "    \n",
    "    def test(self, testing_reviews, testing_labels):\n",
    "        \"\"\"\n",
    "        Attempts to predict the labels for the given testing_reviews,\n",
    "        and uses the test_labels to calculate the accuracy of those predictions.\n",
    "        \"\"\"\n",
    "        \n",
    "        # keep track of how many correct predictions we make\n",
    "        correct = 0\n",
    "\n",
    "        # we'll time how many predictions per second we make\n",
    "        start = time.time()\n",
    "\n",
    "        # Loop through each of the given reviews and call run to predict\n",
    "        # its label. \n",
    "        for i in range(len(testing_reviews)):\n",
    "            pred = self.run(testing_reviews[i])\n",
    "            if(pred == testing_labels[i]):\n",
    "                correct += 1\n",
    "            \n",
    "            # For debug purposes, print out our prediction accuracy and speed \n",
    "            # throughout the prediction process. \n",
    "\n",
    "            elapsed_time = float(time.time() - start)\n",
    "            reviews_per_second = i / elapsed_time if elapsed_time > 0 else 0\n",
    "            \n",
    "            sys.stdout.write(\"\\rProgress:\" + str(100 * i/float(len(testing_reviews)))[:4] \\\n",
    "                             + \"% Speed(reviews/sec):\" + str(reviews_per_second)[0:5] \\\n",
    "                             + \" #Correct:\" + str(correct) + \" #Tested:\" + str(i+1) \\\n",
    "                             + \" Testing Accuracy:\" + str(correct * 100 / float(i+1))[:4] + \"%\")\n",
    "    \n",
    "    def run(self, review):\n",
    "        \"\"\"\n",
    "        Returns a POSITIVE or NEGATIVE prediction for the given review.\n",
    "        \"\"\"\n",
    "        # TODO: Run a forward pass through the network, like you did in the\n",
    "        #       \"train\" function. That means use the given review to \n",
    "        #       update the input layer, then calculate values for the hidden layer,\n",
    "        #       and finally calculate the output layer.\n",
    "        #\n",
    "        #       Note: The review passed into this function for prediction \n",
    "        #             might come from anywhere, so you should convert it \n",
    "        #             to lower case prior to using it.\n",
    "        review = review.lower()\n",
    "        review_indices = set()\n",
    "        \n",
    "        words = review.split(' ')\n",
    "        for word in words:\n",
    "            if word in self.word2index:\n",
    "                review_indices.add(self.word2index[word])\n",
    "            \n",
    "            \n",
    "        hidden_output = sum(self.weights_0_1[list(review_indices)])\n",
    "        output_logits = np.dot(hidden_output,self.weights_1_2)\n",
    "        output = self.sigmoid(output_logits)\n",
    "        # TODO: The output layer should now contain a prediction. \n",
    "        #       Return `POSITIVE` for predictions greater-than-or-equal-to `0.5`, \n",
    "        #       and `NEGATIVE` otherwise.\n",
    "        return \"POSITIVE\" if output >= 0.5 else \"NEGATIVE\""
   ]
  },
  {
   "cell_type": "markdown",
   "metadata": {
    "id": "j6SBgreHNFlz"
   },
   "source": [
    "Run the following cell to recreate the network and train it once again."
   ]
  },
  {
   "cell_type": "code",
   "execution_count": null,
   "metadata": {
    "colab": {
     "base_uri": "https://localhost:8080/"
    },
    "executionInfo": {
     "elapsed": 19394,
     "status": "ok",
     "timestamp": 1629337838013,
     "user": {
      "displayName": "Luis Fernando Leal Hernandez",
      "photoUrl": "",
      "userId": "08643725771405988586"
     },
     "user_tz": 300
    },
    "id": "TTvR2XVbNFl0",
    "outputId": "abfcaf49-c8f3-4658-be8a-46c5fe670446"
   },
   "outputs": [],
   "source": [
    "mlp = SentimentNetwork(reviews[:-1000],labels[:-1000], learning_rate=0.1)\n",
    "mlp.train(reviews[:-1000],labels[:-1000])"
   ]
  },
  {
   "cell_type": "markdown",
   "metadata": {
    "id": "YLw2XOb9NFl0"
   },
   "source": [
    "That should have trained much better than the earlier attempts. Run the following cell to test your model with 1000 predictions."
   ]
  },
  {
   "cell_type": "code",
   "execution_count": null,
   "metadata": {
    "colab": {
     "base_uri": "https://localhost:8080/"
    },
    "executionInfo": {
     "elapsed": 682,
     "status": "ok",
     "timestamp": 1629337838659,
     "user": {
      "displayName": "Luis Fernando Leal Hernandez",
      "photoUrl": "",
      "userId": "08643725771405988586"
     },
     "user_tz": 300
    },
    "id": "mqD--MgNNFl1",
    "outputId": "c2355441-7c24-4835-95c0-4418ef0ea400"
   },
   "outputs": [],
   "source": [
    "mlp.test(reviews[-1000:],labels[-1000:])"
   ]
  },
  {
   "cell_type": "markdown",
   "metadata": {
    "id": "VVhAl3kpNFl1"
   },
   "source": [
    "# End of Project 5. \n",
    "# Further Noise Reduction<a id='lesson_6'></a>"
   ]
  },
  {
   "cell_type": "markdown",
   "metadata": {
    "id": "3UzsOw2crCtT"
   },
   "source": [
    "<img src=\"https://raw.githubusercontent.com/llealgt/moview_review_sentiment_prediction_neural_network/master/sentiment_network_sparse_2.png\">"
   ]
  },
  {
   "cell_type": "code",
   "execution_count": null,
   "metadata": {
    "colab": {
     "base_uri": "https://localhost:8080/"
    },
    "executionInfo": {
     "elapsed": 40,
     "status": "ok",
     "timestamp": 1629337838660,
     "user": {
      "displayName": "Luis Fernando Leal Hernandez",
      "photoUrl": "",
      "userId": "08643725771405988586"
     },
     "user_tz": 300
    },
    "id": "BlE_fieUNFl1",
    "outputId": "3dfee85f-9b73-41a7-8629-daaeebc30c4a"
   },
   "outputs": [],
   "source": [
    "# words most frequently seen in a review with a \"POSITIVE\" label\n",
    "pos_neg_ratios.most_common()"
   ]
  },
  {
   "cell_type": "code",
   "execution_count": null,
   "metadata": {
    "colab": {
     "base_uri": "https://localhost:8080/"
    },
    "executionInfo": {
     "elapsed": 25,
     "status": "ok",
     "timestamp": 1629337838660,
     "user": {
      "displayName": "Luis Fernando Leal Hernandez",
      "photoUrl": "",
      "userId": "08643725771405988586"
     },
     "user_tz": 300
    },
    "id": "nziziZi7NFl1",
    "outputId": "d8627b6e-f7ec-4a02-8cc0-fc689aae63ba"
   },
   "outputs": [],
   "source": [
    "# words most frequently seen in a review with a \"NEGATIVE\" label\n",
    "list(reversed(pos_neg_ratios.most_common()))[0:30]"
   ]
  },
  {
   "cell_type": "code",
   "execution_count": null,
   "metadata": {
    "id": "V2qSTrpSNFl2"
   },
   "outputs": [],
   "source": [
    "from bokeh.models import ColumnDataSource, LabelSet\n",
    "from bokeh.plotting import figure, show, output_file\n",
    "from bokeh.io import output_notebook\n",
    "output_notebook()"
   ]
  },
  {
   "cell_type": "code",
   "execution_count": null,
   "metadata": {
    "colab": {
     "base_uri": "https://localhost:8080/",
     "height": 671
    },
    "executionInfo": {
     "elapsed": 277,
     "status": "ok",
     "timestamp": 1629337839274,
     "user": {
      "displayName": "Luis Fernando Leal Hernandez",
      "photoUrl": "",
      "userId": "08643725771405988586"
     },
     "user_tz": 300
    },
    "id": "3oI8sBXLNFl2",
    "outputId": "a2f12956-84c3-468c-9cc9-be11ddd17684"
   },
   "outputs": [],
   "source": [
    "hist, edges = np.histogram(list(map(lambda x:x[1],pos_neg_ratios.most_common())), density=True, bins=100, normed=True)\n",
    "\n",
    "p = figure(tools=\"pan,wheel_zoom,reset,save\",\n",
    "           toolbar_location=\"above\",\n",
    "           title=\"Word Positive/Negative Affinity Distribution\")\n",
    "p.quad(top=hist, bottom=0, left=edges[:-1], right=edges[1:], line_color=\"#555555\")\n",
    "show(p)"
   ]
  },
  {
   "cell_type": "code",
   "execution_count": null,
   "metadata": {
    "id": "0-27K6cFNFl2"
   },
   "outputs": [],
   "source": [
    "frequency_frequency = Counter()\n",
    "\n",
    "for word, cnt in total_counts.most_common():\n",
    "    frequency_frequency[cnt] += 1"
   ]
  },
  {
   "cell_type": "code",
   "execution_count": null,
   "metadata": {
    "colab": {
     "base_uri": "https://localhost:8080/",
     "height": 671
    },
    "executionInfo": {
     "elapsed": 19,
     "status": "ok",
     "timestamp": 1629337839279,
     "user": {
      "displayName": "Luis Fernando Leal Hernandez",
      "photoUrl": "",
      "userId": "08643725771405988586"
     },
     "user_tz": 300
    },
    "id": "sWbtHr93NFl2",
    "outputId": "eaac29e0-847b-4dde-bb20-2c0f06e479e5"
   },
   "outputs": [],
   "source": [
    "hist, edges = np.histogram(list(map(lambda x:x[1],frequency_frequency.most_common())), density=True, bins=100, normed=True)\n",
    "\n",
    "p = figure(tools=\"pan,wheel_zoom,reset,save\",\n",
    "           toolbar_location=\"above\",\n",
    "           title=\"The frequency distribution of the words in our corpus\")\n",
    "p.quad(top=hist, bottom=0, left=edges[:-1], right=edges[1:], line_color=\"#555555\")\n",
    "show(p)"
   ]
  },
  {
   "cell_type": "markdown",
   "metadata": {
    "id": "NHuo5bKaNFl2"
   },
   "source": [
    "# Project 6: Reducing Noise by Strategically Reducing the Vocabulary<a id='project_6'></a>\n",
    "\n",
    "**TODO:** Improve `SentimentNetwork`'s performance by reducing more noise in the vocabulary. Specifically, do the following:\n",
    "* Copy the `SentimentNetwork` class from the previous project into the following cell.\n",
    "* Modify `pre_process_data`:\n",
    ">* Add two additional parameters: `min_count` and `polarity_cutoff`\n",
    ">* Calculate the positive-to-negative ratios of words used in the reviews. (You can use code you've written elsewhere in the notebook, but we are moving it into the class like we did with other helper code earlier.)\n",
    ">* Andrew's solution only calculates a postive-to-negative ratio for words that occur at least 50 times. This keeps the network from attributing too much sentiment to rarer words. You can choose to add this to your solution if you would like.  \n",
    ">* Change so words are only added to the vocabulary if they occur in the vocabulary more than `min_count` times.\n",
    ">* Change so words are only added to the vocabulary if the absolute value of their postive-to-negative ratio is at least `polarity_cutoff`\n",
    "* Modify `__init__`:\n",
    ">* Add the same two parameters (`min_count` and `polarity_cutoff`) and use them when you call `pre_process_data`"
   ]
  },
  {
   "cell_type": "code",
   "execution_count": null,
   "metadata": {
    "id": "qlXY9BXRNFl2"
   },
   "outputs": [],
   "source": [
    "# TODO: -Copy the SentimentNetwork class from Project 5 lesson\n",
    "#       -Modify it according to the above instructions \n",
    "# TODO: -Copy the SentimentNetwork class from Project 4 lesson\n",
    "#       -Modify it according to the above instructions \n",
    "#       -Modify it to reduce noise, like in the video \n",
    "import time\n",
    "import sys\n",
    "import numpy as np\n",
    "\n",
    "# Encapsulate our neural network in a class\n",
    "class SentimentNetwork:\n",
    "    def __init__(self, reviews, labels, hidden_nodes = 10, learning_rate = 0.1,min_count=50,polarity_cutoff=1):\n",
    "        \"\"\"Create a SentimenNetwork with the given settings\n",
    "        Args:\n",
    "            reviews(list) - List of reviews used for training\n",
    "            labels(list) - List of POSITIVE/NEGATIVE labels associated with the given reviews\n",
    "            hidden_nodes(int) - Number of nodes to create in the hidden layer\n",
    "            learning_rate(float) - Learning rate to use while training\n",
    "        \n",
    "        \"\"\"\n",
    "        # Assign a seed to our random number generator to ensure we get\n",
    "        # reproducable results during development \n",
    "        np.random.seed(1)\n",
    "\n",
    "        # process the reviews and their associated labels so that everything\n",
    "        # is ready for training\n",
    "        self.pre_process_data(reviews, labels ,min_count,polarity_cutoff)\n",
    "        \n",
    "        # Build the network to have the number of hidden nodes and the learning rate that\n",
    "        # were passed into this initializer. Make the same number of input nodes as\n",
    "        # there are vocabulary words and create a single output node.\n",
    "        self.init_network(len(self.review_vocab),hidden_nodes, 1, learning_rate)\n",
    "\n",
    "    def pre_process_data(self, reviews, labels,min_count,polarity_cutoff):\n",
    "        positive_counts = Counter()\n",
    "        negative_counts = Counter()\n",
    "        total_counts = Counter()\n",
    "        pos_neg_ratios = Counter()\n",
    "        review_vocab = set()\n",
    "        # TODO: populate review_vocab with all of the words in the given reviews\n",
    "        #       Remember to split reviews into individual words \n",
    "        #       using \"split(' ')\" instead of \"split()\".\n",
    "        \n",
    "        for index,label in enumerate(labels):\n",
    "            words = reviews[index].split(' ')\n",
    "            if label == 'POSITIVE':\n",
    "                for word in words:\n",
    "                    positive_counts[word]+=1\n",
    "                    total_counts[word]+=1\n",
    "                    #review_vocab.add(word)\n",
    "            else:\n",
    "                for word in words:\n",
    "                    negative_counts[word]+=1\n",
    "                    total_counts[word]+=1\n",
    "                    \n",
    "        for word in total_counts:\n",
    "            count = total_counts[word]\n",
    "            positive_count = positive_counts[word]\n",
    "            negative_count = negative_counts[word] + 1\n",
    "            word_positive_ratio  =  positive_count/negative_count\n",
    "            word_positive_ratio = np.log(word_positive_ratio) if word_positive_ratio > 1 else  -np.log(1/(word_positive_ratio + 0.01))\n",
    "            \n",
    "            if (count > min_count and abs(word_positive_ratio)>= polarity_cutoff) or count > min_count:\n",
    "                review_vocab.add(word)\n",
    "        # Convert the vocabulary set to a list so we can access words via indices\n",
    "        self.review_vocab = list(review_vocab)\n",
    "        \n",
    "        label_vocab = set()\n",
    "        # TODO: populate label_vocab with all of the words in the given labels.\n",
    "        #       There is no need to split the labels because each one is a single word.\n",
    "        \n",
    "        for label in labels:\n",
    "            label_vocab.add(label)\n",
    "        # Convert the label vocabulary set to a list so we can access labels via indices\n",
    "        self.label_vocab = list(label_vocab)\n",
    "        \n",
    "        # Store the sizes of the review and label vocabularies.\n",
    "        self.review_vocab_size = len(self.review_vocab)\n",
    "        self.label_vocab_size = len(self.label_vocab)\n",
    "        \n",
    "        # Create a dictionary of words in the vocabulary mapped to index positions\n",
    "        self.word2index = {}\n",
    "        # TODO: populate self.word2index with indices for all the words in self.review_vocab\n",
    "        #       like you saw earlier in the notebook\n",
    "        for index,word in enumerate(self.review_vocab):\n",
    "            self.word2index[word] = index\n",
    "        # Create a dictionary of labels mapped to index positions\n",
    "        self.label2index = {}\n",
    "        # TODO: do the same thing you did for self.word2index and self.review_vocab, \n",
    "        #       but for self.label2index and self.label_vocab instead\n",
    "        for index,label in enumerate(self.label_vocab):\n",
    "            self.label2index[label] = index\n",
    "            \n",
    "        \n",
    "    def init_network(self, input_nodes, hidden_nodes, output_nodes, learning_rate):\n",
    "        # Store the number of nodes in input, hidden, and output layers.\n",
    "        self.input_nodes = input_nodes\n",
    "        self.hidden_nodes = hidden_nodes\n",
    "        self.output_nodes = output_nodes\n",
    "\n",
    "        # Store the learning rate\n",
    "        self.learning_rate = learning_rate\n",
    "\n",
    "        # Initialize weights\n",
    "        \n",
    "        # TODO: initialize self.weights_0_1 as a matrix of zeros. These are the weights between\n",
    "        #       the input layer and the hidden layer.\n",
    "        self.weights_0_1 = np.zeros((input_nodes,hidden_nodes))\n",
    "        \n",
    "        # TODO: initialize self.weights_1_2 as a matrix of random values. \n",
    "        #       These are the weights between the hidden layer and the output layer.\n",
    "        self.weights_1_2 = np.random.normal(0.0, self.output_nodes**-0.5, \n",
    "                                                (self.hidden_nodes, self.output_nodes))\n",
    "        \n",
    "        # TODO: Create the input layer, a two-dimensional matrix with shape \n",
    "        #       1 x input_nodes, with all values initialized to zero\n",
    "        self.layer_1 = np.zeros((1,hidden_nodes))\n",
    "    \n",
    "                \n",
    "    def get_target_for_label(self,label):\n",
    "        # TODO: Copy the code you wrote for get_target_for_label \n",
    "        #       earlier in this notebook. \n",
    "        return 0 if label == 'NEGATIVE' else 1\n",
    "        \n",
    "    def sigmoid(self,x):\n",
    "        # TODO: Return the result of calculating the sigmoid activation function\n",
    "        #       shown in the lectures\n",
    "        return 1 / ( 1 + np.exp(-x))\n",
    "    \n",
    "    def sigmoid_output_2_derivative(self,output):\n",
    "        # TODO: Return the derivative of the sigmoid activation function, \n",
    "        #       where \"output\" is the original output from the sigmoid fucntion \n",
    "        return output * (1 - output)\n",
    "\n",
    "    def train(self, training_reviews_raw, training_labels):\n",
    "        \n",
    "        # make sure out we have a matching number of reviews and labels\n",
    "        assert(len(training_reviews_raw) == len(training_labels))\n",
    "        #create a list of lists, each inner list contains the word2index index for a review\n",
    "        training_reviews = list()\n",
    "        \n",
    "\n",
    "        for review in training_reviews_raw:\n",
    "            review_indices = set()\n",
    "            words = review.split(' ')\n",
    "            for word in words:\n",
    "                if word in self.word2index:\n",
    "                    review_indices.add(self.word2index[word])\n",
    "            training_reviews.append(list(review_indices))\n",
    "        # Keep track of correct predictions to display accuracy during training \n",
    "        correct_so_far = 0\n",
    "        \n",
    "        # Remember when we started for printing time statistics\n",
    "        start = time.time()\n",
    "\n",
    "        # loop through all the given reviews and run a forward and backward pass,\n",
    "        # updating weights for every item\n",
    "        for i in range(len(training_reviews)):\n",
    "            \n",
    "            # TODO: Get the next review and its correct label\n",
    "            review = training_reviews[i]\n",
    "            label = training_labels[i]\n",
    "            # TODO: Implement the forward pass through the network. \n",
    "            #       That means use the given review to update the input layer, \n",
    "            #       then calculate values for the hidden layer,\n",
    "            #       and finally calculate the output layer.\n",
    "            # \n",
    "            #       Do not use an activation function for the hidden layer,\n",
    "            #       but use the sigmoid activation function for the output layer.\n",
    "            \n",
    "            #TODO:update hidden layer so self.layer_1 is used and its calculated optimally\n",
    "            #print(\"words:\",review)\n",
    "            self.layer_1 *= 0\n",
    "            self.layer_1 = sum(self.weights_0_1[review])\n",
    "            \n",
    "            output_layer_logits = np.dot(self.layer_1,self.weights_1_2)\n",
    "            output_layer_predictions = self.sigmoid(output_layer_logits)\n",
    "\n",
    "            #print(\"output layer\",output_layer_predictions.shape)\n",
    "            # TODO: Implement the back propagation pass here. (only update used weights)\n",
    "            #       That means calculate the error for the forward pass's prediction\n",
    "            #       and update the weights in the network according to their\n",
    "            #       contributions toward the error, as calculated via the\n",
    "            #       gradient descent and back propagation algorithms you \n",
    "            #       learned in class.\n",
    "            error = output_layer_predictions - self.get_target_for_label(label)\n",
    "            output_error_term = error*self.sigmoid_output_2_derivative(output_layer_predictions)\n",
    "            hidden_error_term = self.weights_1_2*output_error_term\n",
    "            \n",
    "            delta_weights_h_o =  output_error_term * self.layer_1\n",
    "            #TODO:Only update weights with input  = 1\n",
    "            delta_weights_i_h = hidden_error_term#*layer0 #\n",
    "            self.weights_1_2-= (self.learning_rate*delta_weights_h_o).reshape(self.weights_1_2.shape)\n",
    "            self.weights_0_1[review]-= (self.learning_rate*delta_weights_i_h).T\n",
    "            # Keep track of correct predictions.\n",
    "            if(output_layer_predictions >= 0.5 and label == 'POSITIVE'):\n",
    "                correct_so_far += 1\n",
    "            elif(output_layer_predictions < 0.5 and label == 'NEGATIVE'):\n",
    "                correct_so_far += 1\n",
    "            \n",
    "            # For debug purposes, print out our prediction accuracy and speed \n",
    "            # throughout the training process. \n",
    "\n",
    "            elapsed_time = float(time.time() - start)\n",
    "            reviews_per_second = i / elapsed_time if elapsed_time > 0 else 0\n",
    "            \n",
    "            sys.stdout.write(\"\\rProgress:\" + str(100 * i/float(len(training_reviews)))[:4] \\\n",
    "                             + \"% Speed(reviews/sec):\" + str(reviews_per_second)[0:5] \\\n",
    "                             + \" #Correct:\" + str(correct_so_far) + \" #Trained:\" + str(i+1) \\\n",
    "                             + \" Training Accuracy:\" + str(correct_so_far * 100 / float(i+1))[:4] + \"%\")\n",
    "            if(i % 2500 == 0):\n",
    "                print(\"\")\n",
    "    \n",
    "    def test(self, testing_reviews, testing_labels):\n",
    "        \"\"\"\n",
    "        Attempts to predict the labels for the given testing_reviews,\n",
    "        and uses the test_labels to calculate the accuracy of those predictions.\n",
    "        \"\"\"\n",
    "        \n",
    "        # keep track of how many correct predictions we make\n",
    "        correct = 0\n",
    "\n",
    "        # we'll time how many predictions per second we make\n",
    "        start = time.time()\n",
    "\n",
    "        # Loop through each of the given reviews and call run to predict\n",
    "        # its label. \n",
    "        for i in range(len(testing_reviews)):\n",
    "            pred = self.run(testing_reviews[i])\n",
    "            if(pred == testing_labels[i]):\n",
    "                correct += 1\n",
    "            \n",
    "            # For debug purposes, print out our prediction accuracy and speed \n",
    "            # throughout the prediction process. \n",
    "\n",
    "            elapsed_time = float(time.time() - start)\n",
    "            reviews_per_second = i / elapsed_time if elapsed_time > 0 else 0\n",
    "            \n",
    "            sys.stdout.write(\"\\rProgress:\" + str(100 * i/float(len(testing_reviews)))[:4] \\\n",
    "                             + \"% Speed(reviews/sec):\" + str(reviews_per_second)[0:5] \\\n",
    "                             + \" #Correct:\" + str(correct) + \" #Tested:\" + str(i+1) \\\n",
    "                             + \" Testing Accuracy:\" + str(correct * 100 / float(i+1))[:4] + \"%\")\n",
    "    \n",
    "    def run(self, review):\n",
    "        \"\"\"\n",
    "        Returns a POSITIVE or NEGATIVE prediction for the given review.\n",
    "        \"\"\"\n",
    "        # TODO: Run a forward pass through the network, like you did in the\n",
    "        #       \"train\" function. That means use the given review to \n",
    "        #       update the input layer, then calculate values for the hidden layer,\n",
    "        #       and finally calculate the output layer.\n",
    "        #\n",
    "        #       Note: The review passed into this function for prediction \n",
    "        #             might come from anywhere, so you should convert it \n",
    "        #             to lower case prior to using it.\n",
    "        review = review.lower()\n",
    "        review_indices = set()\n",
    "        \n",
    "        words = review.split(' ')\n",
    "        for word in words:\n",
    "            if word in self.word2index:\n",
    "                review_indices.add(self.word2index[word])\n",
    "            \n",
    "            \n",
    "        hidden_output = sum(self.weights_0_1[list(review_indices)])\n",
    "        output_logits = np.dot(hidden_output,self.weights_1_2)\n",
    "        output = self.sigmoid(output_logits)\n",
    "        # TODO: The output layer should now contain a prediction. \n",
    "        #       Return `POSITIVE` for predictions greater-than-or-equal-to `0.5`, \n",
    "        #       and `NEGATIVE` otherwise.\n",
    "        return \"POSITIVE\" if output >= 0.5 else \"NEGATIVE\""
   ]
  },
  {
   "cell_type": "markdown",
   "metadata": {
    "id": "VX4W_TBRNFl3"
   },
   "source": [
    "Run the following cell to train your network with a small polarity cutoff."
   ]
  },
  {
   "cell_type": "code",
   "execution_count": null,
   "metadata": {
    "colab": {
     "base_uri": "https://localhost:8080/"
    },
    "executionInfo": {
     "elapsed": 22546,
     "status": "ok",
     "timestamp": 1629337862438,
     "user": {
      "displayName": "Luis Fernando Leal Hernandez",
      "photoUrl": "",
      "userId": "08643725771405988586"
     },
     "user_tz": 300
    },
    "id": "gEwcIndLNFl3",
    "outputId": "29b53761-70c7-4b18-ec5b-4af023fd549f"
   },
   "outputs": [],
   "source": [
    "mlp = SentimentNetwork(reviews[:-1000],labels[:-1000],min_count=20,polarity_cutoff=0.05,learning_rate=0.01)\n",
    "mlp.train(reviews[:-1000],labels[:-1000])"
   ]
  },
  {
   "cell_type": "markdown",
   "metadata": {
    "id": "b-HWLXzLNFl4"
   },
   "source": [
    "And run the following cell to test it's performance. It should be "
   ]
  },
  {
   "cell_type": "code",
   "execution_count": null,
   "metadata": {
    "colab": {
     "base_uri": "https://localhost:8080/"
    },
    "executionInfo": {
     "elapsed": 707,
     "status": "ok",
     "timestamp": 1629337863110,
     "user": {
      "displayName": "Luis Fernando Leal Hernandez",
      "photoUrl": "",
      "userId": "08643725771405988586"
     },
     "user_tz": 300
    },
    "id": "yntmsPOqNFl4",
    "outputId": "5b24efb4-9060-43c9-ecb6-14082b813110"
   },
   "outputs": [],
   "source": [
    "mlp.test(reviews[-1000:],labels[-1000:])"
   ]
  },
  {
   "cell_type": "markdown",
   "metadata": {
    "id": "iGvm4XItNFl4"
   },
   "source": [
    "Run the following cell to train your network with a much larger polarity cutoff."
   ]
  },
  {
   "cell_type": "code",
   "execution_count": null,
   "metadata": {
    "colab": {
     "base_uri": "https://localhost:8080/"
    },
    "executionInfo": {
     "elapsed": 22760,
     "status": "ok",
     "timestamp": 1629337885859,
     "user": {
      "displayName": "Luis Fernando Leal Hernandez",
      "photoUrl": "",
      "userId": "08643725771405988586"
     },
     "user_tz": 300
    },
    "id": "hWJ4MUn4NFl5",
    "outputId": "e0cdfa63-6cc9-4c94-ecda-7e3854a99e56"
   },
   "outputs": [],
   "source": [
    "mlp = SentimentNetwork(reviews[:-1000],labels[:-1000],min_count=20,polarity_cutoff=0.8,learning_rate=0.01)\n",
    "mlp.train(reviews[:-1000],labels[:-1000])"
   ]
  },
  {
   "cell_type": "markdown",
   "metadata": {
    "id": "Bkm4F7huNFl6"
   },
   "source": [
    "And run the following cell to test it's performance."
   ]
  },
  {
   "cell_type": "code",
   "execution_count": null,
   "metadata": {
    "colab": {
     "base_uri": "https://localhost:8080/"
    },
    "executionInfo": {
     "elapsed": 792,
     "status": "ok",
     "timestamp": 1629337886622,
     "user": {
      "displayName": "Luis Fernando Leal Hernandez",
      "photoUrl": "",
      "userId": "08643725771405988586"
     },
     "user_tz": 300
    },
    "id": "U6Zcyl1ZNFl6",
    "outputId": "aa791bef-cf0a-44a6-a764-5dc4f574538d"
   },
   "outputs": [],
   "source": [
    "mlp.test(reviews[-1000:],labels[-1000:])"
   ]
  },
  {
   "cell_type": "code",
   "execution_count": null,
   "metadata": {
    "colab": {
     "base_uri": "https://localhost:8080/"
    },
    "executionInfo": {
     "elapsed": 21831,
     "status": "ok",
     "timestamp": 1629337908450,
     "user": {
      "displayName": "Luis Fernando Leal Hernandez",
      "photoUrl": "",
      "userId": "08643725771405988586"
     },
     "user_tz": 300
    },
    "id": "Wm4qNKzyNFl6",
    "outputId": "e9d67689-1cf2-402a-e8e3-1e0150157f22"
   },
   "outputs": [],
   "source": [
    "mlp = SentimentNetwork(reviews[:-1000],labels[:-1000],min_count=200,polarity_cutoff=2.2,learning_rate=0.01)\n",
    "mlp.train(reviews[:-1000],labels[:-1000])"
   ]
  },
  {
   "cell_type": "code",
   "execution_count": null,
   "metadata": {
    "colab": {
     "base_uri": "https://localhost:8080/"
    },
    "executionInfo": {
     "elapsed": 557,
     "status": "ok",
     "timestamp": 1629337908978,
     "user": {
      "displayName": "Luis Fernando Leal Hernandez",
      "photoUrl": "",
      "userId": "08643725771405988586"
     },
     "user_tz": 300
    },
    "id": "-jiYO-2ENFl8",
    "outputId": "9c49bc20-adbd-4116-b092-baa7fec1a5bf"
   },
   "outputs": [],
   "source": [
    "mlp.test(reviews[-1000:],labels[-1000:])"
   ]
  },
  {
   "cell_type": "markdown",
   "metadata": {
    "id": "CMqtFnRRNFl8"
   },
   "source": [
    "# End of Project 6. \n"
   ]
  },
  {
   "cell_type": "markdown",
   "metadata": {
    "collapsed": true,
    "id": "nD1TOgmvNFl9"
   },
   "source": [
    "# Analysis: What's Going on in the Weights?<a id='lesson_7'></a>"
   ]
  },
  {
   "cell_type": "code",
   "execution_count": null,
   "metadata": {
    "id": "tNywVFR2NFl9"
   },
   "outputs": [],
   "source": [
    "mlp_full = SentimentNetwork(reviews[:-1000],labels[:-1000],min_count=0,polarity_cutoff=0,learning_rate=0.01)"
   ]
  },
  {
   "cell_type": "code",
   "execution_count": null,
   "metadata": {
    "colab": {
     "base_uri": "https://localhost:8080/"
    },
    "executionInfo": {
     "elapsed": 17988,
     "status": "ok",
     "timestamp": 1629337932725,
     "user": {
      "displayName": "Luis Fernando Leal Hernandez",
      "photoUrl": "",
      "userId": "08643725771405988586"
     },
     "user_tz": 300
    },
    "id": "qBHmsLuBNFl9",
    "outputId": "e290cbaf-9242-4034-e4c1-e4ef1e3d7f4f"
   },
   "outputs": [],
   "source": [
    "mlp_full.train(reviews[:-1000],labels[:-1000])"
   ]
  },
  {
   "cell_type": "markdown",
   "metadata": {
    "id": "RrFgJ3T3sClN"
   },
   "source": [
    "<img src=\"https://raw.githubusercontent.com/llealgt/moview_review_sentiment_prediction_neural_network/master/sentiment_network_sparse.png\">"
   ]
  },
  {
   "cell_type": "code",
   "execution_count": null,
   "metadata": {
    "id": "TDBjvi3aNFmA"
   },
   "outputs": [],
   "source": [
    "def get_most_similar_words(focus = \"horrible\"):\n",
    "    most_similar = Counter()\n",
    "\n",
    "    for word in mlp_full.word2index.keys():\n",
    "        most_similar[word] = np.dot(mlp_full.weights_0_1[mlp_full.word2index[word]],mlp_full.weights_0_1[mlp_full.word2index[focus]])\n",
    "    \n",
    "    return most_similar.most_common()"
   ]
  },
  {
   "cell_type": "code",
   "execution_count": null,
   "metadata": {
    "colab": {
     "base_uri": "https://localhost:8080/"
    },
    "executionInfo": {
     "elapsed": 478,
     "status": "ok",
     "timestamp": 1629337933187,
     "user": {
      "displayName": "Luis Fernando Leal Hernandez",
      "photoUrl": "",
      "userId": "08643725771405988586"
     },
     "user_tz": 300
    },
    "id": "hr6O-Y3TNFmA",
    "outputId": "2ba101fa-36bb-46cd-d8c6-83bfabb009ee"
   },
   "outputs": [],
   "source": [
    "get_most_similar_words(\"excellent\")"
   ]
  },
  {
   "cell_type": "code",
   "execution_count": null,
   "metadata": {
    "colab": {
     "base_uri": "https://localhost:8080/"
    },
    "executionInfo": {
     "elapsed": 298,
     "status": "ok",
     "timestamp": 1629337933477,
     "user": {
      "displayName": "Luis Fernando Leal Hernandez",
      "photoUrl": "",
      "userId": "08643725771405988586"
     },
     "user_tz": 300
    },
    "id": "s8PpNCgrNFmA",
    "outputId": "d6d57004-1166-41b4-a3ef-9a0d92e0bc70"
   },
   "outputs": [],
   "source": [
    "get_most_similar_words(\"terrible\")"
   ]
  },
  {
   "cell_type": "code",
   "execution_count": null,
   "metadata": {
    "id": "chM8xx-KNFmA"
   },
   "outputs": [],
   "source": [
    "import matplotlib.colors as colors\n",
    "\n",
    "words_to_visualize = list()\n",
    "for word, ratio in pos_neg_ratios.most_common(500):\n",
    "    if(word in mlp_full.word2index.keys()):\n",
    "        words_to_visualize.append(word)\n",
    "    \n",
    "for word, ratio in list(reversed(pos_neg_ratios.most_common()))[0:500]:\n",
    "    if(word in mlp_full.word2index.keys()):\n",
    "        words_to_visualize.append(word)"
   ]
  },
  {
   "cell_type": "code",
   "execution_count": null,
   "metadata": {
    "id": "fwxlwwF7NFmB"
   },
   "outputs": [],
   "source": [
    "pos = 0\n",
    "neg = 0\n",
    "\n",
    "colors_list = list()\n",
    "vectors_list = list()\n",
    "for word in words_to_visualize:\n",
    "    if word in pos_neg_ratios.keys():\n",
    "        vectors_list.append(mlp_full.weights_0_1[mlp_full.word2index[word]])\n",
    "        if(pos_neg_ratios[word] > 0):\n",
    "            pos+=1\n",
    "            colors_list.append(\"#00ff00\")\n",
    "        else:\n",
    "            neg+=1\n",
    "            colors_list.append(\"#000000\")"
   ]
  },
  {
   "cell_type": "code",
   "execution_count": null,
   "metadata": {
    "id": "Pa4PQuVcNFmB"
   },
   "outputs": [],
   "source": [
    "from sklearn.manifold import TSNE\n",
    "tsne = TSNE(n_components=2, random_state=0)\n",
    "words_top_ted_tsne = tsne.fit_transform(vectors_list)"
   ]
  },
  {
   "cell_type": "code",
   "execution_count": null,
   "metadata": {
    "colab": {
     "base_uri": "https://localhost:8080/",
     "height": 663
    },
    "executionInfo": {
     "elapsed": 1233,
     "status": "error",
     "timestamp": 1629337940614,
     "user": {
      "displayName": "Luis Fernando Leal Hernandez",
      "photoUrl": "",
      "userId": "08643725771405988586"
     },
     "user_tz": 300
    },
    "id": "u8LZV_dkNFmB",
    "outputId": "ed708b24-790f-4ab7-c968-d43b71403a4b"
   },
   "outputs": [],
   "source": [
    "p = figure(tools=\"pan,wheel_zoom,reset,save\",\n",
    "           toolbar_location=\"above\",\n",
    "           title=\"vector T-SNE for most polarized words\")\n",
    "\n",
    "source = ColumnDataSource(data=dict(x1=words_top_ted_tsne[:,0],\n",
    "                                    x2=words_top_ted_tsne[:,1],\n",
    "                                    names=words_to_visualize))\n",
    "\n",
    "p.scatter(x=\"x1\", y=\"x2\", size=8, source=source,color=colors_list)\n",
    "\n",
    "word_labels = LabelSet(x=\"x1\", y=\"x2\", text=\"names\", y_offset=6,\n",
    "                  text_font_size=\"8pt\", text_color=\"#555555\",\n",
    "                  source=source, text_align='center')\n",
    "p.add_layout(word_labels)\n",
    "\n",
    "show(p)\n",
    "\n",
    "# green indicates positive words, black indicates negative words"
   ]
  },
  {
   "cell_type": "code",
   "execution_count": null,
   "metadata": {
    "id": "YO2e3GzhNFmB"
   },
   "outputs": [],
   "source": []
  }
 ],
 "metadata": {
  "anaconda-cloud": {},
  "colab": {
   "collapsed_sections": [
    "GqFpWaa0NFld",
    "qUZYYi80NFlm",
    "Xt3ymcciNFln",
    "Ur2aGCM7NFlr",
    "lxjRsU1PNFlu",
    "NHuo5bKaNFl2",
    "CMqtFnRRNFl8"
   ],
   "name": "Clase_09_MLPs_ejemplo_Sentiment_Classification_Projects.ipynb",
   "provenance": []
  },
  "kernelspec": {
   "display_name": "Python 3 (ipykernel)",
   "language": "python",
   "name": "python3"
  },
  "language_info": {
   "codemirror_mode": {
    "name": "ipython",
    "version": 3
   },
   "file_extension": ".py",
   "mimetype": "text/x-python",
   "name": "python",
   "nbconvert_exporter": "python",
   "pygments_lexer": "ipython3",
   "version": "3.8.8"
  }
 },
 "nbformat": 4,
 "nbformat_minor": 1
}
