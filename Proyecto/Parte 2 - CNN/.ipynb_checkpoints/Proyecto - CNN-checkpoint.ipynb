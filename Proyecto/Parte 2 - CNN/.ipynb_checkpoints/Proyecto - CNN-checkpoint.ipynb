{
 "cells": [
  {
   "cell_type": "markdown",
   "id": "bedafc89",
   "metadata": {},
   "source": [
    "# Proyecto - MLP\n",
    "#### Huber Torres Lemus\n",
    "#### Carné: 22000782"
   ]
  },
  {
   "cell_type": "markdown",
   "id": "7e29e29a",
   "metadata": {},
   "source": [
    "## Dataset MNIST\n",
    "Para esta parte del proyecto se utilizara el dataset mnist para la identificación de Números escritos a mano utilizando una red neuronal del tipo convolucional, el dataset se descargo directamente de THE MNIST DATABASE y solo se descargo el paquete de train para hacer un split y de ahi obtener los datos de train y de test. El modelo se estara comparando con una ANN\n",
    "#### FUENTE: http://yann.lecun.com/exdb/mnist/"
   ]
  },
  {
   "cell_type": "code",
   "execution_count": 83,
   "id": "2ee5ffef",
   "metadata": {},
   "outputs": [],
   "source": [
    "import numpy as np\n",
    "import pandas as pd\n",
    "\n",
    "# Visualization libraries\n",
    "import matplotlib.pyplot as plt\n",
    "import pydot\n",
    "import seaborn as sns\n",
    "\n",
    "#Evaluation library\n",
    "from sklearn.metrics import confusion_matrix\n",
    "from sklearn.metrics import accuracy_score\n",
    "from sklearn.model_selection import GridSearchCV\n",
    "\n",
    "# Deep Learning libraries\n",
    "from keras.models import Sequential\n",
    "import tensorflow as tf\n",
    "from tensorflow.keras import layers\n",
    "import keras\n",
    "from keras.models import Sequential\n",
    "from keras.layers.core import Dense,Activation,Dropout\n",
    "from keras.datasets import mnist\n",
    "from keras.utils import to_categorical\n",
    "from keras.wrappers.scikit_learn import KerasClassifier\n",
    "from sklearn.model_selection import train_test_split\n",
    "from keras.models import Sequential\n",
    "from keras.layers import Dense\n",
    "\n",
    "from keras.layers import Conv2D\n",
    "from keras.layers import MaxPool2D\n",
    "from keras.layers import Flatten"
   ]
  },
  {
   "cell_type": "code",
   "execution_count": 2,
   "id": "665230c4",
   "metadata": {},
   "outputs": [
    {
     "data": {
      "text/html": [
       "<div>\n",
       "<style scoped>\n",
       "    .dataframe tbody tr th:only-of-type {\n",
       "        vertical-align: middle;\n",
       "    }\n",
       "\n",
       "    .dataframe tbody tr th {\n",
       "        vertical-align: top;\n",
       "    }\n",
       "\n",
       "    .dataframe thead th {\n",
       "        text-align: right;\n",
       "    }\n",
       "</style>\n",
       "<table border=\"1\" class=\"dataframe\">\n",
       "  <thead>\n",
       "    <tr style=\"text-align: right;\">\n",
       "      <th></th>\n",
       "      <th>label</th>\n",
       "      <th>pixel0</th>\n",
       "      <th>pixel1</th>\n",
       "      <th>pixel2</th>\n",
       "      <th>pixel3</th>\n",
       "      <th>pixel4</th>\n",
       "      <th>pixel5</th>\n",
       "      <th>pixel6</th>\n",
       "      <th>pixel7</th>\n",
       "      <th>pixel8</th>\n",
       "      <th>...</th>\n",
       "      <th>pixel774</th>\n",
       "      <th>pixel775</th>\n",
       "      <th>pixel776</th>\n",
       "      <th>pixel777</th>\n",
       "      <th>pixel778</th>\n",
       "      <th>pixel779</th>\n",
       "      <th>pixel780</th>\n",
       "      <th>pixel781</th>\n",
       "      <th>pixel782</th>\n",
       "      <th>pixel783</th>\n",
       "    </tr>\n",
       "  </thead>\n",
       "  <tbody>\n",
       "    <tr>\n",
       "      <th>0</th>\n",
       "      <td>1</td>\n",
       "      <td>0</td>\n",
       "      <td>0</td>\n",
       "      <td>0</td>\n",
       "      <td>0</td>\n",
       "      <td>0</td>\n",
       "      <td>0</td>\n",
       "      <td>0</td>\n",
       "      <td>0</td>\n",
       "      <td>0</td>\n",
       "      <td>...</td>\n",
       "      <td>0</td>\n",
       "      <td>0</td>\n",
       "      <td>0</td>\n",
       "      <td>0</td>\n",
       "      <td>0</td>\n",
       "      <td>0</td>\n",
       "      <td>0</td>\n",
       "      <td>0</td>\n",
       "      <td>0</td>\n",
       "      <td>0</td>\n",
       "    </tr>\n",
       "    <tr>\n",
       "      <th>1</th>\n",
       "      <td>0</td>\n",
       "      <td>0</td>\n",
       "      <td>0</td>\n",
       "      <td>0</td>\n",
       "      <td>0</td>\n",
       "      <td>0</td>\n",
       "      <td>0</td>\n",
       "      <td>0</td>\n",
       "      <td>0</td>\n",
       "      <td>0</td>\n",
       "      <td>...</td>\n",
       "      <td>0</td>\n",
       "      <td>0</td>\n",
       "      <td>0</td>\n",
       "      <td>0</td>\n",
       "      <td>0</td>\n",
       "      <td>0</td>\n",
       "      <td>0</td>\n",
       "      <td>0</td>\n",
       "      <td>0</td>\n",
       "      <td>0</td>\n",
       "    </tr>\n",
       "    <tr>\n",
       "      <th>2</th>\n",
       "      <td>1</td>\n",
       "      <td>0</td>\n",
       "      <td>0</td>\n",
       "      <td>0</td>\n",
       "      <td>0</td>\n",
       "      <td>0</td>\n",
       "      <td>0</td>\n",
       "      <td>0</td>\n",
       "      <td>0</td>\n",
       "      <td>0</td>\n",
       "      <td>...</td>\n",
       "      <td>0</td>\n",
       "      <td>0</td>\n",
       "      <td>0</td>\n",
       "      <td>0</td>\n",
       "      <td>0</td>\n",
       "      <td>0</td>\n",
       "      <td>0</td>\n",
       "      <td>0</td>\n",
       "      <td>0</td>\n",
       "      <td>0</td>\n",
       "    </tr>\n",
       "    <tr>\n",
       "      <th>3</th>\n",
       "      <td>4</td>\n",
       "      <td>0</td>\n",
       "      <td>0</td>\n",
       "      <td>0</td>\n",
       "      <td>0</td>\n",
       "      <td>0</td>\n",
       "      <td>0</td>\n",
       "      <td>0</td>\n",
       "      <td>0</td>\n",
       "      <td>0</td>\n",
       "      <td>...</td>\n",
       "      <td>0</td>\n",
       "      <td>0</td>\n",
       "      <td>0</td>\n",
       "      <td>0</td>\n",
       "      <td>0</td>\n",
       "      <td>0</td>\n",
       "      <td>0</td>\n",
       "      <td>0</td>\n",
       "      <td>0</td>\n",
       "      <td>0</td>\n",
       "    </tr>\n",
       "    <tr>\n",
       "      <th>4</th>\n",
       "      <td>0</td>\n",
       "      <td>0</td>\n",
       "      <td>0</td>\n",
       "      <td>0</td>\n",
       "      <td>0</td>\n",
       "      <td>0</td>\n",
       "      <td>0</td>\n",
       "      <td>0</td>\n",
       "      <td>0</td>\n",
       "      <td>0</td>\n",
       "      <td>...</td>\n",
       "      <td>0</td>\n",
       "      <td>0</td>\n",
       "      <td>0</td>\n",
       "      <td>0</td>\n",
       "      <td>0</td>\n",
       "      <td>0</td>\n",
       "      <td>0</td>\n",
       "      <td>0</td>\n",
       "      <td>0</td>\n",
       "      <td>0</td>\n",
       "    </tr>\n",
       "    <tr>\n",
       "      <th>...</th>\n",
       "      <td>...</td>\n",
       "      <td>...</td>\n",
       "      <td>...</td>\n",
       "      <td>...</td>\n",
       "      <td>...</td>\n",
       "      <td>...</td>\n",
       "      <td>...</td>\n",
       "      <td>...</td>\n",
       "      <td>...</td>\n",
       "      <td>...</td>\n",
       "      <td>...</td>\n",
       "      <td>...</td>\n",
       "      <td>...</td>\n",
       "      <td>...</td>\n",
       "      <td>...</td>\n",
       "      <td>...</td>\n",
       "      <td>...</td>\n",
       "      <td>...</td>\n",
       "      <td>...</td>\n",
       "      <td>...</td>\n",
       "      <td>...</td>\n",
       "    </tr>\n",
       "    <tr>\n",
       "      <th>41995</th>\n",
       "      <td>0</td>\n",
       "      <td>0</td>\n",
       "      <td>0</td>\n",
       "      <td>0</td>\n",
       "      <td>0</td>\n",
       "      <td>0</td>\n",
       "      <td>0</td>\n",
       "      <td>0</td>\n",
       "      <td>0</td>\n",
       "      <td>0</td>\n",
       "      <td>...</td>\n",
       "      <td>0</td>\n",
       "      <td>0</td>\n",
       "      <td>0</td>\n",
       "      <td>0</td>\n",
       "      <td>0</td>\n",
       "      <td>0</td>\n",
       "      <td>0</td>\n",
       "      <td>0</td>\n",
       "      <td>0</td>\n",
       "      <td>0</td>\n",
       "    </tr>\n",
       "    <tr>\n",
       "      <th>41996</th>\n",
       "      <td>1</td>\n",
       "      <td>0</td>\n",
       "      <td>0</td>\n",
       "      <td>0</td>\n",
       "      <td>0</td>\n",
       "      <td>0</td>\n",
       "      <td>0</td>\n",
       "      <td>0</td>\n",
       "      <td>0</td>\n",
       "      <td>0</td>\n",
       "      <td>...</td>\n",
       "      <td>0</td>\n",
       "      <td>0</td>\n",
       "      <td>0</td>\n",
       "      <td>0</td>\n",
       "      <td>0</td>\n",
       "      <td>0</td>\n",
       "      <td>0</td>\n",
       "      <td>0</td>\n",
       "      <td>0</td>\n",
       "      <td>0</td>\n",
       "    </tr>\n",
       "    <tr>\n",
       "      <th>41997</th>\n",
       "      <td>7</td>\n",
       "      <td>0</td>\n",
       "      <td>0</td>\n",
       "      <td>0</td>\n",
       "      <td>0</td>\n",
       "      <td>0</td>\n",
       "      <td>0</td>\n",
       "      <td>0</td>\n",
       "      <td>0</td>\n",
       "      <td>0</td>\n",
       "      <td>...</td>\n",
       "      <td>0</td>\n",
       "      <td>0</td>\n",
       "      <td>0</td>\n",
       "      <td>0</td>\n",
       "      <td>0</td>\n",
       "      <td>0</td>\n",
       "      <td>0</td>\n",
       "      <td>0</td>\n",
       "      <td>0</td>\n",
       "      <td>0</td>\n",
       "    </tr>\n",
       "    <tr>\n",
       "      <th>41998</th>\n",
       "      <td>6</td>\n",
       "      <td>0</td>\n",
       "      <td>0</td>\n",
       "      <td>0</td>\n",
       "      <td>0</td>\n",
       "      <td>0</td>\n",
       "      <td>0</td>\n",
       "      <td>0</td>\n",
       "      <td>0</td>\n",
       "      <td>0</td>\n",
       "      <td>...</td>\n",
       "      <td>0</td>\n",
       "      <td>0</td>\n",
       "      <td>0</td>\n",
       "      <td>0</td>\n",
       "      <td>0</td>\n",
       "      <td>0</td>\n",
       "      <td>0</td>\n",
       "      <td>0</td>\n",
       "      <td>0</td>\n",
       "      <td>0</td>\n",
       "    </tr>\n",
       "    <tr>\n",
       "      <th>41999</th>\n",
       "      <td>9</td>\n",
       "      <td>0</td>\n",
       "      <td>0</td>\n",
       "      <td>0</td>\n",
       "      <td>0</td>\n",
       "      <td>0</td>\n",
       "      <td>0</td>\n",
       "      <td>0</td>\n",
       "      <td>0</td>\n",
       "      <td>0</td>\n",
       "      <td>...</td>\n",
       "      <td>0</td>\n",
       "      <td>0</td>\n",
       "      <td>0</td>\n",
       "      <td>0</td>\n",
       "      <td>0</td>\n",
       "      <td>0</td>\n",
       "      <td>0</td>\n",
       "      <td>0</td>\n",
       "      <td>0</td>\n",
       "      <td>0</td>\n",
       "    </tr>\n",
       "  </tbody>\n",
       "</table>\n",
       "<p>42000 rows × 785 columns</p>\n",
       "</div>"
      ],
      "text/plain": [
       "       label  pixel0  pixel1  pixel2  pixel3  pixel4  pixel5  pixel6  pixel7  \\\n",
       "0          1       0       0       0       0       0       0       0       0   \n",
       "1          0       0       0       0       0       0       0       0       0   \n",
       "2          1       0       0       0       0       0       0       0       0   \n",
       "3          4       0       0       0       0       0       0       0       0   \n",
       "4          0       0       0       0       0       0       0       0       0   \n",
       "...      ...     ...     ...     ...     ...     ...     ...     ...     ...   \n",
       "41995      0       0       0       0       0       0       0       0       0   \n",
       "41996      1       0       0       0       0       0       0       0       0   \n",
       "41997      7       0       0       0       0       0       0       0       0   \n",
       "41998      6       0       0       0       0       0       0       0       0   \n",
       "41999      9       0       0       0       0       0       0       0       0   \n",
       "\n",
       "       pixel8  ...  pixel774  pixel775  pixel776  pixel777  pixel778  \\\n",
       "0           0  ...         0         0         0         0         0   \n",
       "1           0  ...         0         0         0         0         0   \n",
       "2           0  ...         0         0         0         0         0   \n",
       "3           0  ...         0         0         0         0         0   \n",
       "4           0  ...         0         0         0         0         0   \n",
       "...       ...  ...       ...       ...       ...       ...       ...   \n",
       "41995       0  ...         0         0         0         0         0   \n",
       "41996       0  ...         0         0         0         0         0   \n",
       "41997       0  ...         0         0         0         0         0   \n",
       "41998       0  ...         0         0         0         0         0   \n",
       "41999       0  ...         0         0         0         0         0   \n",
       "\n",
       "       pixel779  pixel780  pixel781  pixel782  pixel783  \n",
       "0             0         0         0         0         0  \n",
       "1             0         0         0         0         0  \n",
       "2             0         0         0         0         0  \n",
       "3             0         0         0         0         0  \n",
       "4             0         0         0         0         0  \n",
       "...         ...       ...       ...       ...       ...  \n",
       "41995         0         0         0         0         0  \n",
       "41996         0         0         0         0         0  \n",
       "41997         0         0         0         0         0  \n",
       "41998         0         0         0         0         0  \n",
       "41999         0         0         0         0         0  \n",
       "\n",
       "[42000 rows x 785 columns]"
      ]
     },
     "execution_count": 2,
     "metadata": {},
     "output_type": "execute_result"
    }
   ],
   "source": [
    "data = pd.read_csv('train.csv')\n",
    "data"
   ]
  },
  {
   "cell_type": "code",
   "execution_count": 3,
   "id": "c4ff696b",
   "metadata": {},
   "outputs": [],
   "source": [
    "# Split de train y test\n",
    "train, test = train_test_split(data, test_size=0.3)"
   ]
  },
  {
   "cell_type": "code",
   "execution_count": 4,
   "id": "2454677b",
   "metadata": {},
   "outputs": [],
   "source": [
    "# Quitando los labels y agregandolos a y y x\n",
    "X_train_digit = train.drop('label', axis = 1)\n",
    "y_train_digit = train['label']\n",
    "X_test_digit = test.drop('label', axis = 1)\n",
    "y_test_digit = test['label']\n",
    "\n",
    "#Redimensionamiento de imagenes\n",
    "x_train_reshape = X_train_digit.values.reshape(-1, 28, 28)\n",
    "x_test_reshape = X_test_digit.values.reshape(-1, 28, 28)"
   ]
  },
  {
   "cell_type": "code",
   "execution_count": 5,
   "id": "d9172b75",
   "metadata": {},
   "outputs": [
    {
     "data": {
      "image/png": "[encoded data removed]",
      "text/plain": [
       "<Figure size 720x720 with 10 Axes>"
      ]
     },
     "metadata": {},
     "output_type": "display_data"
    }
   ],
   "source": [
    "# Visualizacion de imagenes\n",
    "col_names = ['Cero', 'Uno', 'Dos', 'Tres', 'Cuatro', 'Cinco', 'Seis', 'Siete', 'Ocho', 'Nueve']\n",
    "\n",
    "plt.figure(figsize = (10, 10))\n",
    "for i in range(0,10):\n",
    "    # Con esto se encuentra la primera posicion del digito en las la varibales Y del set de entrenamiento\n",
    "    pos_num = np.where(y_train_digit == i)\n",
    "    pos_num = pos_num[0][0]\n",
    "    plt.subplot(5, 5, i + 1)\n",
    "    plt.xticks([])\n",
    "    plt.yticks([])\n",
    "    plt.imshow(x_train_reshape[pos_num], cmap='gray')\n",
    "    plt.xlabel(col_names[i])\n",
    "plt.show()"
   ]
  },
  {
   "cell_type": "code",
   "execution_count": 6,
   "id": "bcf18be9",
   "metadata": {},
   "outputs": [],
   "source": [
    "# Intesidad de los pixeles siendo 0 la intesidad mas baja (negro) y 255 la mas alta (blanco)\n",
    "def visualize_input(img, ax):\n",
    "    ax.imshow(img, cmap = 'summer')\n",
    "    width, height = img.shape\n",
    "    thresh = img.max()/2.5\n",
    "    \n",
    "    for x in range(width):\n",
    "        for y in range(height):\n",
    "            ax.annotate(\n",
    "                str(round(img[x][y], 2)), \n",
    "                xy = (y,x),\n",
    "                horizontalalignment = 'center',\n",
    "                verticalalignment = 'center',\n",
    "                color = 'white' if img[x][y] < thresh else 'black'\n",
    "                       )"
   ]
  },
  {
   "cell_type": "code",
   "execution_count": 7,
   "id": "7db506da",
   "metadata": {},
   "outputs": [
    {
     "data": {
      "image/png": "[encoded data removed]",
      "text/plain": [
       "<Figure size 864x864 with 1 Axes>"
      ]
     },
     "metadata": {
      "needs_background": "light"
     },
     "output_type": "display_data"
    }
   ],
   "source": [
    "fig = plt.figure(figsize=(12,12))\n",
    "ax = fig.add_subplot(111)\n",
    "visualize_input(x_train_reshape[5],ax)\n",
    "plt.show()"
   ]
  },
  {
   "cell_type": "code",
   "execution_count": 9,
   "id": "bc2d0638",
   "metadata": {},
   "outputs": [
    {
     "data": {
      "image/png": "[encoded data removed]",
      "text/plain": [
       "<Figure size 842.4x595.44 with 1 Axes>"
      ]
     },
     "metadata": {},
     "output_type": "display_data"
    }
   ],
   "source": [
    "# Recuento de labels\n",
    "sns.set(rc = {'figure.figsize': (11.7, 8.27)})\n",
    "\n",
    "mnist = pd.read_csv('train.csv')\n",
    "\n",
    "#count plot\n",
    "ax = sns.countplot(x = 'label', data = mnist,\n",
    "                  facecolor = (0, 0, 0, 0),\n",
    "                  linewidth = 5,\n",
    "                  edgecolor = sns.color_palette('dark', 3),\n",
    "                  order = mnist['label'].value_counts().index\n",
    "                  )"
   ]
  },
  {
   "cell_type": "markdown",
   "id": "3fb5c3b0",
   "metadata": {},
   "source": [
    "#### Como se puede observar la data esta equilibrada para todos los numeros por lo que es factible aplicar redes neuronales"
   ]
  },
  {
   "cell_type": "code",
   "execution_count": 10,
   "id": "7f987759",
   "metadata": {},
   "outputs": [
    {
     "data": {
      "text/plain": [
       "3"
      ]
     },
     "execution_count": 10,
     "metadata": {},
     "output_type": "execute_result"
    }
   ],
   "source": [
    "# Debido a que una red neuronal solo admite una dimension tendremos que convertir la data a una \n",
    "# dimension \n",
    "x_train_reshape.ndim"
   ]
  },
  {
   "cell_type": "code",
   "execution_count": 11,
   "id": "7961f185",
   "metadata": {},
   "outputs": [
    {
     "data": {
      "text/plain": [
       "(29400, 28, 28)"
      ]
     },
     "execution_count": 11,
     "metadata": {},
     "output_type": "execute_result"
    }
   ],
   "source": [
    "x_train_reshape.shape\n"
   ]
  },
  {
   "cell_type": "code",
   "execution_count": 12,
   "id": "886d2741",
   "metadata": {},
   "outputs": [
    {
     "data": {
      "text/plain": [
       "(12600, 28, 28)"
      ]
     },
     "execution_count": 12,
     "metadata": {},
     "output_type": "execute_result"
    }
   ],
   "source": [
    "x_test_reshape.shape"
   ]
  },
  {
   "cell_type": "code",
   "execution_count": 13,
   "id": "65a699ee",
   "metadata": {},
   "outputs": [],
   "source": [
    "x_train_digit = x_train_reshape.reshape(29400, 784)\n",
    "x_test_digit = x_test_reshape.reshape(12600, 784)"
   ]
  },
  {
   "cell_type": "code",
   "execution_count": 14,
   "id": "0420defe",
   "metadata": {},
   "outputs": [
    {
     "data": {
      "text/plain": [
       "(29400, 784)"
      ]
     },
     "execution_count": 14,
     "metadata": {},
     "output_type": "execute_result"
    }
   ],
   "source": [
    "x_train_digit.shape"
   ]
  },
  {
   "cell_type": "code",
   "execution_count": 15,
   "id": "beca415d",
   "metadata": {},
   "outputs": [
    {
     "data": {
      "text/plain": [
       "(12600, 784)"
      ]
     },
     "execution_count": 15,
     "metadata": {},
     "output_type": "execute_result"
    }
   ],
   "source": [
    "x_test_digit.shape"
   ]
  },
  {
   "cell_type": "code",
   "execution_count": 16,
   "id": "feedd958",
   "metadata": {},
   "outputs": [],
   "source": [
    "# Ahora se convierten las labels en varibales categoricas con \n",
    "# el metodo ONE HOT ENCODING para hacer una red neuronal\n",
    "y_train_digit = to_categorical(y_train_digit, num_classes=10)\n",
    "y_test_digit = to_categorical(y_test_digit, num_classes=10)"
   ]
  },
  {
   "cell_type": "code",
   "execution_count": null,
   "id": "d21d297c",
   "metadata": {},
   "outputs": [],
   "source": [
    "y_train_digit[0]"
   ]
  },
  {
   "cell_type": "code",
   "execution_count": null,
   "id": "29070db9",
   "metadata": {},
   "outputs": [],
   "source": [
    "y_test_digit[0]"
   ]
  },
  {
   "cell_type": "markdown",
   "id": "acf7568a",
   "metadata": {},
   "source": [
    "### Modelo ANN con funciones de activacion - Experimento 1 - Activacion Relu"
   ]
  },
  {
   "cell_type": "code",
   "execution_count": 17,
   "id": "0003954f",
   "metadata": {},
   "outputs": [],
   "source": [
    "modelAnn = Sequential([\n",
    "    layers.Dense(128, activation = 'relu', input_shape=(784,)),\n",
    "    layers.Dropout(0.3),\n",
    "    layers.BatchNormalization(),\n",
    "    layers.Dense(24, activation = 'relu'),\n",
    "    layers.Dropout(0.3),\n",
    "    layers.BatchNormalization(),\n",
    "    layers.Dense(24, activation = 'relu'),\n",
    "    layers.Dropout(0.3),\n",
    "    layers.BatchNormalization(),\n",
    "    layers.Dense(10, activation = 'sigmoid')\n",
    "])"
   ]
  },
  {
   "cell_type": "code",
   "execution_count": null,
   "id": "cdaa164a",
   "metadata": {},
   "outputs": [],
   "source": [
    "modelAnn.summary()"
   ]
  },
  {
   "cell_type": "code",
   "execution_count": 18,
   "id": "187b5993",
   "metadata": {},
   "outputs": [],
   "source": [
    "modelAnn.compile(\n",
    "    loss = 'categorical_crossentropy',\n",
    "    optimizer = 'adam',\n",
    "    metrics = ['accuracy']\n",
    ")"
   ]
  },
  {
   "cell_type": "code",
   "execution_count": 19,
   "id": "10d7a8db",
   "metadata": {},
   "outputs": [
    {
     "name": "stdout",
     "output_type": "stream",
     "text": [
      "Epoch 1/30\n",
      "294/294 [==============================] - 0s 1ms/step - loss: 1.7633 - accuracy: 0.5230\n",
      "Epoch 2/30\n",
      "294/294 [==============================] - 0s 1ms/step - loss: 1.0884 - accuracy: 0.6964\n",
      "Epoch 3/30\n",
      "294/294 [==============================] - 0s 1ms/step - loss: 0.6563 - accuracy: 0.8034\n",
      "Epoch 4/30\n",
      "294/294 [==============================] - 0s 1ms/step - loss: 0.4923 - accuracy: 0.8627\n",
      "Epoch 5/30\n",
      "294/294 [==============================] - 0s 1ms/step - loss: 0.4169 - accuracy: 0.8859\n",
      "Epoch 6/30\n",
      "294/294 [==============================] - 0s 1ms/step - loss: 0.3764 - accuracy: 0.8987\n",
      "Epoch 7/30\n",
      "294/294 [==============================] - 0s 1ms/step - loss: 0.3502 - accuracy: 0.9054\n",
      "Epoch 8/30\n",
      "294/294 [==============================] - 0s 1ms/step - loss: 0.3243 - accuracy: 0.9143\n",
      "Epoch 9/30\n",
      "294/294 [==============================] - 0s 1ms/step - loss: 0.3128 - accuracy: 0.9172\n",
      "Epoch 10/30\n",
      "294/294 [==============================] - 0s 1ms/step - loss: 0.2984 - accuracy: 0.9215\n",
      "Epoch 11/30\n",
      "294/294 [==============================] - 0s 1ms/step - loss: 0.2857 - accuracy: 0.9249\n",
      "Epoch 12/30\n",
      "294/294 [==============================] - 0s 1ms/step - loss: 0.2693 - accuracy: 0.9297\n",
      "Epoch 13/30\n",
      "294/294 [==============================] - 0s 1ms/step - loss: 0.2665 - accuracy: 0.9293\n",
      "Epoch 14/30\n",
      "294/294 [==============================] - 0s 1ms/step - loss: 0.2634 - accuracy: 0.9290\n",
      "Epoch 15/30\n",
      "294/294 [==============================] - 0s 1ms/step - loss: 0.2548 - accuracy: 0.9332\n",
      "Epoch 16/30\n",
      "294/294 [==============================] - 0s 1ms/step - loss: 0.2552 - accuracy: 0.9323\n",
      "Epoch 17/30\n",
      "294/294 [==============================] - 0s 1ms/step - loss: 0.2445 - accuracy: 0.9362\n",
      "Epoch 18/30\n",
      "294/294 [==============================] - 0s 1ms/step - loss: 0.2438 - accuracy: 0.9359\n",
      "Epoch 19/30\n",
      "294/294 [==============================] - 0s 1ms/step - loss: 0.2382 - accuracy: 0.9370\n",
      "Epoch 20/30\n",
      "294/294 [==============================] - 0s 1ms/step - loss: 0.2365 - accuracy: 0.9371\n",
      "Epoch 21/30\n",
      "294/294 [==============================] - 0s 1ms/step - loss: 0.2311 - accuracy: 0.9393\n",
      "Epoch 22/30\n",
      "294/294 [==============================] - 0s 1ms/step - loss: 0.2315 - accuracy: 0.9393\n",
      "Epoch 23/30\n",
      "294/294 [==============================] - 0s 1ms/step - loss: 0.2327 - accuracy: 0.9382\n",
      "Epoch 24/30\n",
      "294/294 [==============================] - 0s 1ms/step - loss: 0.2115 - accuracy: 0.9422\n",
      "Epoch 25/30\n",
      "294/294 [==============================] - 0s 1ms/step - loss: 0.2106 - accuracy: 0.9426\n",
      "Epoch 26/30\n",
      "294/294 [==============================] - 0s 1ms/step - loss: 0.2216 - accuracy: 0.9409\n",
      "Epoch 27/30\n",
      "294/294 [==============================] - 0s 1ms/step - loss: 0.2202 - accuracy: 0.9402\n",
      "Epoch 28/30\n",
      "294/294 [==============================] - 0s 1ms/step - loss: 0.2098 - accuracy: 0.9441\n",
      "Epoch 29/30\n",
      "294/294 [==============================] - 0s 1ms/step - loss: 0.2058 - accuracy: 0.9442\n",
      "Epoch 30/30\n",
      "294/294 [==============================] - 0s 1ms/step - loss: 0.2056 - accuracy: 0.9455\n"
     ]
    },
    {
     "data": {
      "text/plain": [
       "<tensorflow.python.keras.callbacks.History at 0x1e5321acb80>"
      ]
     },
     "execution_count": 19,
     "metadata": {},
     "output_type": "execute_result"
    }
   ],
   "source": [
    "modelAnn.fit(x_train_digit, y_train_digit, batch_size=100, epochs=30)"
   ]
  },
  {
   "cell_type": "code",
   "execution_count": 20,
   "id": "171f89c3",
   "metadata": {},
   "outputs": [
    {
     "name": "stdout",
     "output_type": "stream",
     "text": [
      "accuracy: 98.69%\n"
     ]
    }
   ],
   "source": [
    "# Evaluacion de modelo\n",
    "scoresAnn = modelAnn.evaluate(x_train_digit, y_train_digit, verbose=0)\n",
    "print(\"%s: %.2f%%\" % (modelAnn.metrics_names[1], scoresAnn[1]*100))\n",
    "\n",
    "\n",
    "modelAnn.save(\"modelo_Ann.h5\")"
   ]
  },
  {
   "cell_type": "code",
   "execution_count": 21,
   "id": "01418a6f",
   "metadata": {},
   "outputs": [
    {
     "data": {
      "text/plain": [
       "[0.04694293439388275, 0.9869047403335571]"
      ]
     },
     "execution_count": 21,
     "metadata": {},
     "output_type": "execute_result"
    }
   ],
   "source": [
    "scoresAnn"
   ]
  },
  {
   "cell_type": "markdown",
   "id": "fd0bdb4d",
   "metadata": {},
   "source": [
    "### Modelo CNN con funciones de activacion - Experimento 1 - Activacion Relu"
   ]
  },
  {
   "cell_type": "code",
   "execution_count": 41,
   "id": "45bc04d7",
   "metadata": {},
   "outputs": [],
   "source": [
    "num_classes = 10\n",
    "input_shape = (28,28,1)\n"
   ]
  },
  {
   "cell_type": "code",
   "execution_count": 59,
   "id": "4b5385b5",
   "metadata": {},
   "outputs": [],
   "source": [
    "# Quitando los labels y agregandolos a y y x\n",
    "x_train = train.drop('label', axis = 1)\n",
    "y_train = train['label']\n",
    "x_test = test.drop('label', axis = 1)\n",
    "y_test = test['label']"
   ]
  },
  {
   "cell_type": "code",
   "execution_count": 60,
   "id": "a216d5cb",
   "metadata": {},
   "outputs": [
    {
     "data": {
      "text/plain": [
       "(60000, 28, 28)"
      ]
     },
     "execution_count": 60,
     "metadata": {},
     "output_type": "execute_result"
    }
   ],
   "source": [
    "x_train.shape"
   ]
  },
  {
   "cell_type": "code",
   "execution_count": 61,
   "id": "2ba191db",
   "metadata": {},
   "outputs": [],
   "source": [
    "\n",
    "x_train = x_train.astype(\"float32\") / 255\n",
    "x_test = x_test.astype(\"float32\") / 255\n",
    "\n"
   ]
  },
  {
   "cell_type": "code",
   "execution_count": 62,
   "id": "7eef8d0c",
   "metadata": {},
   "outputs": [
    {
     "data": {
      "text/plain": [
       "(60000, 28, 28)"
      ]
     },
     "execution_count": 62,
     "metadata": {},
     "output_type": "execute_result"
    }
   ],
   "source": [
    "x_train.shape"
   ]
  },
  {
   "cell_type": "code",
   "execution_count": 63,
   "id": "4d7274b4",
   "metadata": {},
   "outputs": [],
   "source": [
    "x_train = np.expand_dims(x_train, -1)\n",
    "x_test = np.expand_dims(x_test, -1)\n"
   ]
  },
  {
   "cell_type": "code",
   "execution_count": 64,
   "id": "7afb11f1",
   "metadata": {},
   "outputs": [
    {
     "name": "stdout",
     "output_type": "stream",
     "text": [
      "x_train shape: (60000, 28, 28, 1)\n",
      "60000 train samples\n",
      "10000 test samples\n"
     ]
    }
   ],
   "source": [
    "print(\"x_train shape:\", x_train.shape)\n",
    "print(x_train.shape[0], \"train samples\")\n",
    "print(x_test.shape[0], \"test samples\")"
   ]
  },
  {
   "cell_type": "code",
   "execution_count": 65,
   "id": "503d21a6",
   "metadata": {},
   "outputs": [],
   "source": [
    "\n",
    "\n",
    "\n",
    "y_train = keras.utils.to_categorical(y_train, num_classes)\n",
    "y_test = keras.utils.to_categorical(y_test, num_classes)"
   ]
  },
  {
   "cell_type": "code",
   "execution_count": 66,
   "id": "2b0c904b",
   "metadata": {},
   "outputs": [
    {
     "name": "stdout",
     "output_type": "stream",
     "text": [
      "Model: \"sequential_5\"\n",
      "_________________________________________________________________\n",
      "Layer (type)                 Output Shape              Param #   \n",
      "=================================================================\n",
      "conv2d_8 (Conv2D)            (None, 26, 26, 32)        320       \n",
      "_________________________________________________________________\n",
      "max_pooling2d_8 (MaxPooling2 (None, 13, 13, 32)        0         \n",
      "_________________________________________________________________\n",
      "conv2d_9 (Conv2D)            (None, 11, 11, 64)        18496     \n",
      "_________________________________________________________________\n",
      "max_pooling2d_9 (MaxPooling2 (None, 5, 5, 64)          0         \n",
      "_________________________________________________________________\n",
      "flatten_4 (Flatten)          (None, 1600)              0         \n",
      "_________________________________________________________________\n",
      "dropout_7 (Dropout)          (None, 1600)              0         \n",
      "_________________________________________________________________\n",
      "dense_8 (Dense)              (None, 10)                16010     \n",
      "=================================================================\n",
      "Total params: 34,826\n",
      "Trainable params: 34,826\n",
      "Non-trainable params: 0\n",
      "_________________________________________________________________\n"
     ]
    }
   ],
   "source": [
    "modelCnn = keras.Sequential(\n",
    "    [\n",
    "        keras.Input(shape=input_shape),\n",
    "        layers.Conv2D(32, kernel_size=(3, 3), activation=\"relu\"),\n",
    "        layers.MaxPooling2D(pool_size=(2, 2)),\n",
    "        layers.Conv2D(64, kernel_size=(3, 3), activation=\"relu\"),\n",
    "        layers.MaxPooling2D(pool_size=(2, 2)),\n",
    "        layers.Flatten(),\n",
    "        layers.Dropout(0.5),\n",
    "        layers.Dense(num_classes, activation=\"softmax\"),\n",
    "    ]\n",
    ")\n",
    "\n",
    "modelCnn.summary()"
   ]
  },
  {
   "cell_type": "code",
   "execution_count": 67,
   "id": "5cc59da7",
   "metadata": {},
   "outputs": [
    {
     "data": {
      "text/plain": [
       "(60000, 28, 28, 1)"
      ]
     },
     "execution_count": 67,
     "metadata": {},
     "output_type": "execute_result"
    }
   ],
   "source": [
    "x_train.shape"
   ]
  },
  {
   "cell_type": "code",
   "execution_count": 68,
   "id": "f4ebcfaa",
   "metadata": {},
   "outputs": [
    {
     "data": {
      "text/plain": [
       "(60000, 10)"
      ]
     },
     "execution_count": 68,
     "metadata": {},
     "output_type": "execute_result"
    }
   ],
   "source": [
    "y_train.shape"
   ]
  },
  {
   "cell_type": "code",
   "execution_count": null,
   "id": "438afac7",
   "metadata": {},
   "outputs": [],
   "source": [
    "# # y_train = np.squeeze(y_train, axis=2).shape\n",
    "# x_train = np.squeeze(x_train, axis=2).shape\n",
    "# # y_train.reshape(29400 , 784)"
   ]
  },
  {
   "cell_type": "code",
   "execution_count": 69,
   "id": "cb99a797",
   "metadata": {
    "scrolled": true
   },
   "outputs": [
    {
     "name": "stdout",
     "output_type": "stream",
     "text": [
      "Epoch 1/15\n",
      "422/422 [==============================] - 11s 27ms/step - loss: 0.3674 - accuracy: 0.8900 - val_loss: 0.0820 - val_accuracy: 0.9790\n",
      "Epoch 2/15\n",
      "422/422 [==============================] - 12s 27ms/step - loss: 0.1085 - accuracy: 0.9665 - val_loss: 0.0572 - val_accuracy: 0.9833\n",
      "Epoch 3/15\n",
      "422/422 [==============================] - 12s 28ms/step - loss: 0.0811 - accuracy: 0.9750 - val_loss: 0.0464 - val_accuracy: 0.9870\n",
      "Epoch 4/15\n",
      "422/422 [==============================] - 12s 27ms/step - loss: 0.0679 - accuracy: 0.9790 - val_loss: 0.0394 - val_accuracy: 0.9898\n",
      "Epoch 5/15\n",
      "422/422 [==============================] - 11s 27ms/step - loss: 0.0585 - accuracy: 0.9817 - val_loss: 0.0340 - val_accuracy: 0.9903\n",
      "Epoch 6/15\n",
      "422/422 [==============================] - 12s 27ms/step - loss: 0.0549 - accuracy: 0.9832 - val_loss: 0.0337 - val_accuracy: 0.9913\n",
      "Epoch 7/15\n",
      "422/422 [==============================] - 12s 28ms/step - loss: 0.0498 - accuracy: 0.9847 - val_loss: 0.0320 - val_accuracy: 0.9907\n",
      "Epoch 8/15\n",
      "422/422 [==============================] - 12s 27ms/step - loss: 0.0466 - accuracy: 0.9848 - val_loss: 0.0314 - val_accuracy: 0.9912\n",
      "Epoch 9/15\n",
      "422/422 [==============================] - 12s 28ms/step - loss: 0.0417 - accuracy: 0.9863 - val_loss: 0.0325 - val_accuracy: 0.9927\n",
      "Epoch 10/15\n",
      "422/422 [==============================] - 12s 28ms/step - loss: 0.0407 - accuracy: 0.9871 - val_loss: 0.0313 - val_accuracy: 0.9932\n",
      "Epoch 11/15\n",
      "422/422 [==============================] - 12s 29ms/step - loss: 0.0380 - accuracy: 0.9875 - val_loss: 0.0271 - val_accuracy: 0.9922\n",
      "Epoch 12/15\n",
      "422/422 [==============================] - 12s 29ms/step - loss: 0.0359 - accuracy: 0.9886 - val_loss: 0.0285 - val_accuracy: 0.9923\n",
      "Epoch 13/15\n",
      "422/422 [==============================] - 12s 28ms/step - loss: 0.0341 - accuracy: 0.9892 - val_loss: 0.0282 - val_accuracy: 0.9923\n",
      "Epoch 14/15\n",
      "422/422 [==============================] - 12s 28ms/step - loss: 0.0311 - accuracy: 0.9899 - val_loss: 0.0276 - val_accuracy: 0.9927\n",
      "Epoch 15/15\n",
      "422/422 [==============================] - 12s 28ms/step - loss: 0.0320 - accuracy: 0.9897 - val_loss: 0.0256 - val_accuracy: 0.9938\n"
     ]
    },
    {
     "data": {
      "text/plain": [
       "<tensorflow.python.keras.callbacks.History at 0x1e50ad19400>"
      ]
     },
     "execution_count": 69,
     "metadata": {},
     "output_type": "execute_result"
    }
   ],
   "source": [
    "batch_size = 128\n",
    "epochs = 15\n",
    "\n",
    "modelCnn.compile(loss=\"categorical_crossentropy\", optimizer=\"adam\", metrics=[\"accuracy\"])\n",
    "\n",
    "modelCnn.fit(x_train, y_train, batch_size=batch_size, epochs=epochs, validation_split=0.1)"
   ]
  },
  {
   "cell_type": "code",
   "execution_count": 70,
   "id": "1561d3ee",
   "metadata": {},
   "outputs": [
    {
     "name": "stdout",
     "output_type": "stream",
     "text": [
      "Test loss: 0.02251475863158703\n",
      "Test accuracy: 0.9925000071525574\n"
     ]
    }
   ],
   "source": [
    "scoresCnn = modelCnn.evaluate(x_test, y_test, verbose=0)\n",
    "print(\"Test loss:\", scoresCnn[0])\n",
    "print(\"Test accuracy:\", scoresCnn[1])"
   ]
  },
  {
   "cell_type": "code",
   "execution_count": 71,
   "id": "38d3f66a",
   "metadata": {},
   "outputs": [],
   "source": [
    "scoresAnn = pd.DataFrame(scoresAnn).T\n",
    "scoresCnn = pd.DataFrame(scoresCnn).T\n",
    "scores = pd.concat([scoresAnn, scoresCnn])\n",
    "scores.index=['ANN', 'CNN']\n",
    "scores.columns =['Test Loss', 'Test Accuracy']"
   ]
  },
  {
   "cell_type": "code",
   "execution_count": 74,
   "id": "eb637b43",
   "metadata": {},
   "outputs": [],
   "source": [
    "modelCnn.save(\"modelo_Cnn.h5\")"
   ]
  },
  {
   "cell_type": "code",
   "execution_count": 72,
   "id": "eb843deb",
   "metadata": {},
   "outputs": [
    {
     "data": {
      "text/html": [
       "<div>\n",
       "<style scoped>\n",
       "    .dataframe tbody tr th:only-of-type {\n",
       "        vertical-align: middle;\n",
       "    }\n",
       "\n",
       "    .dataframe tbody tr th {\n",
       "        vertical-align: top;\n",
       "    }\n",
       "\n",
       "    .dataframe thead th {\n",
       "        text-align: right;\n",
       "    }\n",
       "</style>\n",
       "<table border=\"1\" class=\"dataframe\">\n",
       "  <thead>\n",
       "    <tr style=\"text-align: right;\">\n",
       "      <th></th>\n",
       "      <th>Test Loss</th>\n",
       "      <th>Test Accuracy</th>\n",
       "    </tr>\n",
       "  </thead>\n",
       "  <tbody>\n",
       "    <tr>\n",
       "      <th>ANN</th>\n",
       "      <td>0.046943</td>\n",
       "      <td>0.986905</td>\n",
       "    </tr>\n",
       "    <tr>\n",
       "      <th>CNN</th>\n",
       "      <td>0.022515</td>\n",
       "      <td>0.992500</td>\n",
       "    </tr>\n",
       "  </tbody>\n",
       "</table>\n",
       "</div>"
      ],
      "text/plain": [
       "     Test Loss  Test Accuracy\n",
       "ANN   0.046943       0.986905\n",
       "CNN   0.022515       0.992500"
      ]
     },
     "execution_count": 72,
     "metadata": {},
     "output_type": "execute_result"
    }
   ],
   "source": [
    "scores"
   ]
  },
  {
   "cell_type": "code",
   "execution_count": 73,
   "id": "d27522ec",
   "metadata": {},
   "outputs": [
    {
     "data": {
      "text/plain": [
       "<AxesSubplot:>"
      ]
     },
     "execution_count": 73,
     "metadata": {},
     "output_type": "execute_result"
    },
    {
     "data": {
      "image/png": "[encoded data removed]",
      "text/plain": [
       "<Figure size 842.4x595.44 with 1 Axes>"
      ]
     },
     "metadata": {},
     "output_type": "display_data"
    }
   ],
   "source": [
    "scores.plot(kind = 'bar')"
   ]
  },
  {
   "cell_type": "markdown",
   "id": "4e57d18a",
   "metadata": {},
   "source": [
    "## Conclusiones\n",
    "La red neuronal artificial simple cumple su trabajo tiene una muy buena precisión y cabe destacar que para usar las variables y hay que transformarlas a categoricas con one hot encoding, La red neuronal Convolucional tiene una ligera ventaja ante la ann por lo tanto tienen una mejor precisión"
   ]
  },
  {
   "cell_type": "markdown",
   "id": "ce73532b",
   "metadata": {},
   "source": [
    "### Graficos de capas"
   ]
  },
  {
   "cell_type": "code",
   "execution_count": 75,
   "id": "8c3a09ee",
   "metadata": {},
   "outputs": [
    {
     "name": "stdout",
     "output_type": "stream",
     "text": [
      "conv2d_8 (3, 3, 1, 32)\n",
      "conv2d_9 (3, 3, 32, 64)\n"
     ]
    }
   ],
   "source": [
    "for layer in modelCnn.layers:\n",
    "    \n",
    "    if 'conv' not in layer.name:\n",
    "        continue    \n",
    "    filters , bias = layer.get_weights()\n",
    "    print(layer.name , filters.shape)"
   ]
  },
  {
   "cell_type": "code",
   "execution_count": 78,
   "id": "6eb5a998",
   "metadata": {},
   "outputs": [],
   "source": [
    "filters , bias = modelCnn.layers[0].get_weights()"
   ]
  },
  {
   "cell_type": "code",
   "execution_count": 79,
   "id": "3be716ae",
   "metadata": {},
   "outputs": [],
   "source": [
    "# normalize filter values to 0-1 so we can visualize them\n",
    "f_min, f_max = filters.min(), filters.max()\n",
    "filters = (filters - f_min) / (f_max - f_min)"
   ]
  },
  {
   "cell_type": "code",
   "execution_count": 94,
   "id": "373f1ec4",
   "metadata": {},
   "outputs": [
    {
     "data": {
      "image/png": "[encoded data removed]",
      "text/plain": [
       "<Figure size 1440x1080 with 18 Axes>"
      ]
     },
     "metadata": {},
     "output_type": "display_data"
    }
   ],
   "source": [
    "n_filters =6\n",
    "ix=1\n",
    "fig = pyplot.figure(figsize=(20,15))\n",
    "for i in range(n_filters):\n",
    "    # get the filters\n",
    "    f = filters[:,:,:,i]\n",
    "    for j in range(3):\n",
    "        # subplot for 6 filters and 3 channels\n",
    "        plt.subplot(n_filters,3,ix)\n",
    "        plt.imshow(f[:,j] ,cmap='gray')\n",
    "        plt.title('Filtro' + str(j))\n",
    "        ix+=1\n",
    "#plot the filters \n",
    "pyplot.show()"
   ]
  }
 ],
 "metadata": {
  "kernelspec": {
   "display_name": "Python 3 (ipykernel)",
   "language": "python",
   "name": "python3"
  },
  "language_info": {
   "codemirror_mode": {
    "name": "ipython",
    "version": 3
   },
   "file_extension": ".py",
   "mimetype": "text/x-python",
   "name": "python",
   "nbconvert_exporter": "python",
   "pygments_lexer": "ipython3",
   "version": "3.8.8"
  }
 },
 "nbformat": 4,
 "nbformat_minor": 5
}
